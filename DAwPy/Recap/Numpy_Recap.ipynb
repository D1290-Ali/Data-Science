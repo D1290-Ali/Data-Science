{
  "nbformat": 4,
  "nbformat_minor": 0,
  "metadata": {
    "colab": {
      "name": "Numpy_Recap.ipynb",
      "provenance": [],
      "collapsed_sections": []
    },
    "kernelspec": {
      "name": "python3",
      "display_name": "Python 3"
    },
    "language_info": {
      "name": "python"
    }
  },
  "cells": [
    {
      "cell_type": "code",
      "execution_count": 1,
      "metadata": {
        "id": "5_shUELj_2wx"
      },
      "outputs": [],
      "source": [
        "import numpy as np"
      ]
    },
    {
      "cell_type": "code",
      "source": [
        "my_list = [1,2,3]\n",
        "my_list"
      ],
      "metadata": {
        "colab": {
          "base_uri": "https://localhost:8080/"
        },
        "id": "40IMmUndAONi",
        "outputId": "151ce0f4-2805-402f-bb9f-d97938e499e2"
      },
      "execution_count": 2,
      "outputs": [
        {
          "output_type": "execute_result",
          "data": {
            "text/plain": [
              "[1, 2, 3]"
            ]
          },
          "metadata": {},
          "execution_count": 2
        }
      ]
    },
    {
      "cell_type": "code",
      "source": [
        "my_array = np.array(my_list)\n",
        "my_array"
      ],
      "metadata": {
        "colab": {
          "base_uri": "https://localhost:8080/"
        },
        "id": "VBIWSikYAXWI",
        "outputId": "3b35ee60-cc65-408e-890e-a8494ec49504"
      },
      "execution_count": 4,
      "outputs": [
        {
          "output_type": "execute_result",
          "data": {
            "text/plain": [
              "array([1, 2, 3])"
            ]
          },
          "metadata": {},
          "execution_count": 4
        }
      ]
    },
    {
      "cell_type": "code",
      "source": [
        "np.array([4,5,6])"
      ],
      "metadata": {
        "colab": {
          "base_uri": "https://localhost:8080/"
        },
        "id": "cvPNktjAAkVr",
        "outputId": "87435d10-2fc7-4426-bb8d-9fb837ef9258"
      },
      "execution_count": 6,
      "outputs": [
        {
          "output_type": "execute_result",
          "data": {
            "text/plain": [
              "array([4, 5, 6])"
            ]
          },
          "metadata": {},
          "execution_count": 6
        }
      ]
    },
    {
      "cell_type": "code",
      "source": [
        "np.array([7,8,9,])"
      ],
      "metadata": {
        "colab": {
          "base_uri": "https://localhost:8080/"
        },
        "id": "-Uv-Kb5JA0R_",
        "outputId": "74002026-5846-47e4-b623-5984237037ef"
      },
      "execution_count": 7,
      "outputs": [
        {
          "output_type": "execute_result",
          "data": {
            "text/plain": [
              "array([7, 8, 9])"
            ]
          },
          "metadata": {},
          "execution_count": 7
        }
      ]
    },
    {
      "cell_type": "code",
      "source": [
        "my_list = [[1,2,3],[4,5,6],[7,8,9]]\n",
        "my_list"
      ],
      "metadata": {
        "colab": {
          "base_uri": "https://localhost:8080/"
        },
        "id": "-abYSrR3A7Q_",
        "outputId": "d00aed00-cede-45f0-c157-029ff102286d"
      },
      "execution_count": 8,
      "outputs": [
        {
          "output_type": "execute_result",
          "data": {
            "text/plain": [
              "[[1, 2, 3], [4, 5, 6], [7, 8, 9]]"
            ]
          },
          "metadata": {},
          "execution_count": 8
        }
      ]
    },
    {
      "cell_type": "code",
      "source": [
        "np.array(my_list)"
      ],
      "metadata": {
        "colab": {
          "base_uri": "https://localhost:8080/"
        },
        "id": "KrMCXw63BJ3P",
        "outputId": "944f5cae-24c6-4914-ff19-8266484fddcd"
      },
      "execution_count": 9,
      "outputs": [
        {
          "output_type": "execute_result",
          "data": {
            "text/plain": [
              "array([[1, 2, 3],\n",
              "       [4, 5, 6],\n",
              "       [7, 8, 9]])"
            ]
          },
          "metadata": {},
          "execution_count": 9
        }
      ]
    },
    {
      "cell_type": "code",
      "source": [
        "np.arange(0,100,4)"
      ],
      "metadata": {
        "colab": {
          "base_uri": "https://localhost:8080/"
        },
        "id": "f-1L41QcBTRy",
        "outputId": "114995e1-da5c-467e-929a-05fde9458799"
      },
      "execution_count": 10,
      "outputs": [
        {
          "output_type": "execute_result",
          "data": {
            "text/plain": [
              "array([ 0,  4,  8, 12, 16, 20, 24, 28, 32, 36, 40, 44, 48, 52, 56, 60, 64,\n",
              "       68, 72, 76, 80, 84, 88, 92, 96])"
            ]
          },
          "metadata": {},
          "execution_count": 10
        }
      ]
    },
    {
      "cell_type": "code",
      "source": [
        "np.arange(1,56,8)"
      ],
      "metadata": {
        "colab": {
          "base_uri": "https://localhost:8080/"
        },
        "id": "JbgyAPLUBcTZ",
        "outputId": "feddecce-97a1-4946-c452-f1fe2ac08185"
      },
      "execution_count": 11,
      "outputs": [
        {
          "output_type": "execute_result",
          "data": {
            "text/plain": [
              "array([ 1,  9, 17, 25, 33, 41, 49])"
            ]
          },
          "metadata": {},
          "execution_count": 11
        }
      ]
    },
    {
      "cell_type": "code",
      "source": [
        "np.linspace(1,20,40)"
      ],
      "metadata": {
        "colab": {
          "base_uri": "https://localhost:8080/"
        },
        "id": "hT6MJ_aeBoXv",
        "outputId": "62cfe249-44da-453e-b46b-5aa7cd938ae5"
      },
      "execution_count": 12,
      "outputs": [
        {
          "output_type": "execute_result",
          "data": {
            "text/plain": [
              "array([ 1.        ,  1.48717949,  1.97435897,  2.46153846,  2.94871795,\n",
              "        3.43589744,  3.92307692,  4.41025641,  4.8974359 ,  5.38461538,\n",
              "        5.87179487,  6.35897436,  6.84615385,  7.33333333,  7.82051282,\n",
              "        8.30769231,  8.79487179,  9.28205128,  9.76923077, 10.25641026,\n",
              "       10.74358974, 11.23076923, 11.71794872, 12.20512821, 12.69230769,\n",
              "       13.17948718, 13.66666667, 14.15384615, 14.64102564, 15.12820513,\n",
              "       15.61538462, 16.1025641 , 16.58974359, 17.07692308, 17.56410256,\n",
              "       18.05128205, 18.53846154, 19.02564103, 19.51282051, 20.        ])"
            ]
          },
          "metadata": {},
          "execution_count": 12
        }
      ]
    },
    {
      "cell_type": "code",
      "source": [
        "np.linspace(-25,-1,40)"
      ],
      "metadata": {
        "colab": {
          "base_uri": "https://localhost:8080/"
        },
        "id": "hC6BRbBHBz6V",
        "outputId": "feb83c44-33d3-4104-c107-eb9556883eba"
      },
      "execution_count": 14,
      "outputs": [
        {
          "output_type": "execute_result",
          "data": {
            "text/plain": [
              "array([-25.        , -24.38461538, -23.76923077, -23.15384615,\n",
              "       -22.53846154, -21.92307692, -21.30769231, -20.69230769,\n",
              "       -20.07692308, -19.46153846, -18.84615385, -18.23076923,\n",
              "       -17.61538462, -17.        , -16.38461538, -15.76923077,\n",
              "       -15.15384615, -14.53846154, -13.92307692, -13.30769231,\n",
              "       -12.69230769, -12.07692308, -11.46153846, -10.84615385,\n",
              "       -10.23076923,  -9.61538462,  -9.        ,  -8.38461538,\n",
              "        -7.76923077,  -7.15384615,  -6.53846154,  -5.92307692,\n",
              "        -5.30769231,  -4.69230769,  -4.07692308,  -3.46153846,\n",
              "        -2.84615385,  -2.23076923,  -1.61538462,  -1.        ])"
            ]
          },
          "metadata": {},
          "execution_count": 14
        }
      ]
    },
    {
      "cell_type": "code",
      "source": [
        "np.linspace(0.3, 2.47, 10)"
      ],
      "metadata": {
        "colab": {
          "base_uri": "https://localhost:8080/"
        },
        "id": "ONbH9cvECGJc",
        "outputId": "b6108d98-c222-403a-fd0f-afcb2b590744"
      },
      "execution_count": 15,
      "outputs": [
        {
          "output_type": "execute_result",
          "data": {
            "text/plain": [
              "array([0.3       , 0.54111111, 0.78222222, 1.02333333, 1.26444444,\n",
              "       1.50555556, 1.74666667, 1.98777778, 2.22888889, 2.47      ])"
            ]
          },
          "metadata": {},
          "execution_count": 15
        }
      ]
    },
    {
      "cell_type": "code",
      "source": [
        "np.linspace(1,25)"
      ],
      "metadata": {
        "colab": {
          "base_uri": "https://localhost:8080/"
        },
        "id": "YDxVCZNiCRT-",
        "outputId": "64a7b80e-20e8-4301-d249-56deea7cd831"
      },
      "execution_count": 16,
      "outputs": [
        {
          "output_type": "execute_result",
          "data": {
            "text/plain": [
              "array([ 1.        ,  1.48979592,  1.97959184,  2.46938776,  2.95918367,\n",
              "        3.44897959,  3.93877551,  4.42857143,  4.91836735,  5.40816327,\n",
              "        5.89795918,  6.3877551 ,  6.87755102,  7.36734694,  7.85714286,\n",
              "        8.34693878,  8.83673469,  9.32653061,  9.81632653, 10.30612245,\n",
              "       10.79591837, 11.28571429, 11.7755102 , 12.26530612, 12.75510204,\n",
              "       13.24489796, 13.73469388, 14.2244898 , 14.71428571, 15.20408163,\n",
              "       15.69387755, 16.18367347, 16.67346939, 17.16326531, 17.65306122,\n",
              "       18.14285714, 18.63265306, 19.12244898, 19.6122449 , 20.10204082,\n",
              "       20.59183673, 21.08163265, 21.57142857, 22.06122449, 22.55102041,\n",
              "       23.04081633, 23.53061224, 24.02040816, 24.51020408, 25.        ])"
            ]
          },
          "metadata": {},
          "execution_count": 16
        }
      ]
    },
    {
      "cell_type": "code",
      "source": [
        "np.linspace(1,25,50)"
      ],
      "metadata": {
        "colab": {
          "base_uri": "https://localhost:8080/"
        },
        "id": "kxeOmlugCa9t",
        "outputId": "5deb50d2-8c4c-4a2f-c0d4-349596ac7235"
      },
      "execution_count": 17,
      "outputs": [
        {
          "output_type": "execute_result",
          "data": {
            "text/plain": [
              "array([ 1.        ,  1.48979592,  1.97959184,  2.46938776,  2.95918367,\n",
              "        3.44897959,  3.93877551,  4.42857143,  4.91836735,  5.40816327,\n",
              "        5.89795918,  6.3877551 ,  6.87755102,  7.36734694,  7.85714286,\n",
              "        8.34693878,  8.83673469,  9.32653061,  9.81632653, 10.30612245,\n",
              "       10.79591837, 11.28571429, 11.7755102 , 12.26530612, 12.75510204,\n",
              "       13.24489796, 13.73469388, 14.2244898 , 14.71428571, 15.20408163,\n",
              "       15.69387755, 16.18367347, 16.67346939, 17.16326531, 17.65306122,\n",
              "       18.14285714, 18.63265306, 19.12244898, 19.6122449 , 20.10204082,\n",
              "       20.59183673, 21.08163265, 21.57142857, 22.06122449, 22.55102041,\n",
              "       23.04081633, 23.53061224, 24.02040816, 24.51020408, 25.        ])"
            ]
          },
          "metadata": {},
          "execution_count": 17
        }
      ]
    },
    {
      "cell_type": "code",
      "source": [
        "np.linspace(1,36,30)"
      ],
      "metadata": {
        "colab": {
          "base_uri": "https://localhost:8080/"
        },
        "id": "zmER9r7OCiU3",
        "outputId": "04bee668-9249-4f21-ed51-db82741e14e4"
      },
      "execution_count": 19,
      "outputs": [
        {
          "output_type": "execute_result",
          "data": {
            "text/plain": [
              "array([ 1.        ,  2.20689655,  3.4137931 ,  4.62068966,  5.82758621,\n",
              "        7.03448276,  8.24137931,  9.44827586, 10.65517241, 11.86206897,\n",
              "       13.06896552, 14.27586207, 15.48275862, 16.68965517, 17.89655172,\n",
              "       19.10344828, 20.31034483, 21.51724138, 22.72413793, 23.93103448,\n",
              "       25.13793103, 26.34482759, 27.55172414, 28.75862069, 29.96551724,\n",
              "       31.17241379, 32.37931034, 33.5862069 , 34.79310345, 36.        ])"
            ]
          },
          "metadata": {},
          "execution_count": 19
        }
      ]
    },
    {
      "cell_type": "code",
      "source": [
        "np.zeros(4)"
      ],
      "metadata": {
        "colab": {
          "base_uri": "https://localhost:8080/"
        },
        "id": "xfPqzsvHCySg",
        "outputId": "df240c18-7860-4066-ea8a-d67bf7ac41c0"
      },
      "execution_count": 20,
      "outputs": [
        {
          "output_type": "execute_result",
          "data": {
            "text/plain": [
              "array([0., 0., 0., 0.])"
            ]
          },
          "metadata": {},
          "execution_count": 20
        }
      ]
    },
    {
      "cell_type": "code",
      "source": [
        "np.zeros((2,3))"
      ],
      "metadata": {
        "colab": {
          "base_uri": "https://localhost:8080/"
        },
        "id": "ELLEGyhJDFuB",
        "outputId": "eabba8cc-079f-4e4d-e705-1394a1d19b6a"
      },
      "execution_count": 21,
      "outputs": [
        {
          "output_type": "execute_result",
          "data": {
            "text/plain": [
              "array([[0., 0., 0.],\n",
              "       [0., 0., 0.]])"
            ]
          },
          "metadata": {},
          "execution_count": 21
        }
      ]
    },
    {
      "cell_type": "code",
      "source": [
        "np.zeros((3,4), dtype=str)"
      ],
      "metadata": {
        "colab": {
          "base_uri": "https://localhost:8080/"
        },
        "id": "L-91s7SbDQP0",
        "outputId": "c5caf9c6-4693-4999-a5f5-56956bab1d2b"
      },
      "execution_count": 28,
      "outputs": [
        {
          "output_type": "execute_result",
          "data": {
            "text/plain": [
              "array([['', '', '', ''],\n",
              "       ['', '', '', ''],\n",
              "       ['', '', '', '']], dtype='<U1')"
            ]
          },
          "metadata": {},
          "execution_count": 28
        }
      ]
    },
    {
      "cell_type": "code",
      "source": [
        "np.ones((3,4))"
      ],
      "metadata": {
        "colab": {
          "base_uri": "https://localhost:8080/"
        },
        "id": "tbJ79sB6D3Um",
        "outputId": "9263309a-5062-4d9f-d143-e60d387ad194"
      },
      "execution_count": 26,
      "outputs": [
        {
          "output_type": "execute_result",
          "data": {
            "text/plain": [
              "array([[1., 1., 1., 1.],\n",
              "       [1., 1., 1., 1.],\n",
              "       [1., 1., 1., 1.]])"
            ]
          },
          "metadata": {},
          "execution_count": 26
        }
      ]
    },
    {
      "cell_type": "code",
      "source": [
        "np.ones(4,dtype=bool)"
      ],
      "metadata": {
        "colab": {
          "base_uri": "https://localhost:8080/"
        },
        "id": "z9d94C3LEN2L",
        "outputId": "42b66503-5570-47cd-ebec-2ada2bd78e3a"
      },
      "execution_count": 29,
      "outputs": [
        {
          "output_type": "execute_result",
          "data": {
            "text/plain": [
              "array([ True,  True,  True,  True])"
            ]
          },
          "metadata": {},
          "execution_count": 29
        }
      ]
    },
    {
      "cell_type": "code",
      "source": [
        "np.zeros((2,5), dtype=bool)"
      ],
      "metadata": {
        "colab": {
          "base_uri": "https://localhost:8080/"
        },
        "id": "kp--BU2sEVhQ",
        "outputId": "a714bf01-2a99-4b27-a509-f839ca26e3e9"
      },
      "execution_count": 30,
      "outputs": [
        {
          "output_type": "execute_result",
          "data": {
            "text/plain": [
              "array([[False, False, False, False, False],\n",
              "       [False, False, False, False, False]])"
            ]
          },
          "metadata": {},
          "execution_count": 30
        }
      ]
    },
    {
      "cell_type": "code",
      "source": [
        "np.full((3,4),4)"
      ],
      "metadata": {
        "colab": {
          "base_uri": "https://localhost:8080/"
        },
        "id": "rYiAXbl5Emdp",
        "outputId": "895f09a9-8168-453e-ff1f-d54974334523"
      },
      "execution_count": 31,
      "outputs": [
        {
          "output_type": "execute_result",
          "data": {
            "text/plain": [
              "array([[4, 4, 4, 4],\n",
              "       [4, 4, 4, 4],\n",
              "       [4, 4, 4, 4]])"
            ]
          },
          "metadata": {},
          "execution_count": 31
        }
      ]
    },
    {
      "cell_type": "code",
      "source": [
        "np.full((6,7),\"steve\")"
      ],
      "metadata": {
        "colab": {
          "base_uri": "https://localhost:8080/"
        },
        "id": "8w_3ZF6vEtRc",
        "outputId": "b93767ef-1538-42da-c47d-76a464f167ab"
      },
      "execution_count": 32,
      "outputs": [
        {
          "output_type": "execute_result",
          "data": {
            "text/plain": [
              "array([['steve', 'steve', 'steve', 'steve', 'steve', 'steve', 'steve'],\n",
              "       ['steve', 'steve', 'steve', 'steve', 'steve', 'steve', 'steve'],\n",
              "       ['steve', 'steve', 'steve', 'steve', 'steve', 'steve', 'steve'],\n",
              "       ['steve', 'steve', 'steve', 'steve', 'steve', 'steve', 'steve'],\n",
              "       ['steve', 'steve', 'steve', 'steve', 'steve', 'steve', 'steve'],\n",
              "       ['steve', 'steve', 'steve', 'steve', 'steve', 'steve', 'steve']],\n",
              "      dtype='<U5')"
            ]
          },
          "metadata": {},
          "execution_count": 32
        }
      ]
    },
    {
      "cell_type": "code",
      "source": [
        "type(np.full(5,6))"
      ],
      "metadata": {
        "colab": {
          "base_uri": "https://localhost:8080/"
        },
        "id": "Abh2-q6VE47H",
        "outputId": "1f651a9a-1ea1-45ad-c993-06af21384cd6"
      },
      "execution_count": 35,
      "outputs": [
        {
          "output_type": "execute_result",
          "data": {
            "text/plain": [
              "numpy.ndarray"
            ]
          },
          "metadata": {},
          "execution_count": 35
        }
      ]
    },
    {
      "cell_type": "code",
      "source": [
        "np.eye(5,7)"
      ],
      "metadata": {
        "colab": {
          "base_uri": "https://localhost:8080/"
        },
        "id": "m7xX0dOGFRcM",
        "outputId": "a2d02893-10a9-499c-ffa0-5e2759a620fb"
      },
      "execution_count": 39,
      "outputs": [
        {
          "output_type": "execute_result",
          "data": {
            "text/plain": [
              "array([[1., 0., 0., 0., 0., 0., 0.],\n",
              "       [0., 1., 0., 0., 0., 0., 0.],\n",
              "       [0., 0., 1., 0., 0., 0., 0.],\n",
              "       [0., 0., 0., 1., 0., 0., 0.],\n",
              "       [0., 0., 0., 0., 1., 0., 0.]])"
            ]
          },
          "metadata": {},
          "execution_count": 39
        }
      ]
    },
    {
      "cell_type": "code",
      "source": [
        "np.eye(2,5)"
      ],
      "metadata": {
        "colab": {
          "base_uri": "https://localhost:8080/"
        },
        "id": "3QnAKHOaFllE",
        "outputId": "e9e3c081-41b6-4abb-b90d-2b331f2d4c71"
      },
      "execution_count": 40,
      "outputs": [
        {
          "output_type": "execute_result",
          "data": {
            "text/plain": [
              "array([[1., 0., 0., 0., 0.],\n",
              "       [0., 1., 0., 0., 0.]])"
            ]
          },
          "metadata": {},
          "execution_count": 40
        }
      ]
    },
    {
      "cell_type": "code",
      "source": [
        "np.random.rand(4,4)"
      ],
      "metadata": {
        "colab": {
          "base_uri": "https://localhost:8080/"
        },
        "id": "yoYG1ZjWF6ar",
        "outputId": "7d66d33f-e392-4260-e78c-743879746bda"
      },
      "execution_count": 41,
      "outputs": [
        {
          "output_type": "execute_result",
          "data": {
            "text/plain": [
              "array([[0.08268574, 0.50111809, 0.63776698, 0.65878946],\n",
              "       [0.65705582, 0.74048836, 0.00175082, 0.6278335 ],\n",
              "       [0.69122229, 0.7461113 , 0.45561232, 0.83088108],\n",
              "       [0.32107704, 0.52262694, 0.39230993, 0.59221596]])"
            ]
          },
          "metadata": {},
          "execution_count": 41
        }
      ]
    },
    {
      "cell_type": "code",
      "source": [
        "np.random.rand(5)"
      ],
      "metadata": {
        "colab": {
          "base_uri": "https://localhost:8080/"
        },
        "id": "T8Q7tGS4GIGH",
        "outputId": "7f5c15cb-0d2c-4c47-e2c3-9ada65719ab6"
      },
      "execution_count": 42,
      "outputs": [
        {
          "output_type": "execute_result",
          "data": {
            "text/plain": [
              "array([0.6905497 , 0.87335353, 0.12712199, 0.07649615, 0.22436896])"
            ]
          },
          "metadata": {},
          "execution_count": 42
        }
      ]
    },
    {
      "cell_type": "code",
      "source": [
        "np.random.randn(4)"
      ],
      "metadata": {
        "colab": {
          "base_uri": "https://localhost:8080/"
        },
        "id": "EAEo7WUQGNje",
        "outputId": "f8ddfe4c-ffef-4439-8f1e-2a396eb5fe00"
      },
      "execution_count": 43,
      "outputs": [
        {
          "output_type": "execute_result",
          "data": {
            "text/plain": [
              "array([-0.61106037, -0.15921373, -0.15736075, -1.76536105])"
            ]
          },
          "metadata": {},
          "execution_count": 43
        }
      ]
    },
    {
      "cell_type": "code",
      "source": [
        "np.random.randn(4,4)"
      ],
      "metadata": {
        "colab": {
          "base_uri": "https://localhost:8080/"
        },
        "id": "A9DXYkF7GWsC",
        "outputId": "a4c4f1ed-c39a-48fa-acdc-9770d6105a9e"
      },
      "execution_count": 44,
      "outputs": [
        {
          "output_type": "execute_result",
          "data": {
            "text/plain": [
              "array([[ 0.18408783, -0.70063737,  1.13764106,  0.04525498],\n",
              "       [-0.16979991,  1.74194593, -1.04704468, -0.89305761],\n",
              "       [ 1.84047206,  1.26153113,  0.23846304, -0.98183811],\n",
              "       [-1.68407216, -0.86670865, -0.18951776, -1.43107658]])"
            ]
          },
          "metadata": {},
          "execution_count": 44
        }
      ]
    },
    {
      "cell_type": "code",
      "source": [
        "np.random.randint(3,26,10)"
      ],
      "metadata": {
        "colab": {
          "base_uri": "https://localhost:8080/"
        },
        "id": "4FUGxMMAG-p1",
        "outputId": "e66db796-dd69-441a-93a5-4727bc5f7775"
      },
      "execution_count": 47,
      "outputs": [
        {
          "output_type": "execute_result",
          "data": {
            "text/plain": [
              "array([ 7,  3, 18, 24, 20, 11, 14, 10, 18,  7])"
            ]
          },
          "metadata": {},
          "execution_count": 47
        }
      ]
    },
    {
      "cell_type": "code",
      "source": [
        "np.random.randint(-27,-1,10)"
      ],
      "metadata": {
        "colab": {
          "base_uri": "https://localhost:8080/"
        },
        "id": "mtaRP_DNHOla",
        "outputId": "ecfd6b86-6689-4b45-c33a-f0f75226d693"
      },
      "execution_count": 48,
      "outputs": [
        {
          "output_type": "execute_result",
          "data": {
            "text/plain": [
              "array([-24,  -6, -21, -12, -10,  -8, -18, -23, -14, -19])"
            ]
          },
          "metadata": {},
          "execution_count": 48
        }
      ]
    },
    {
      "cell_type": "code",
      "source": [
        "np.random.randint(20, size=10 )\n"
      ],
      "metadata": {
        "colab": {
          "base_uri": "https://localhost:8080/"
        },
        "id": "MOgilF6KHmE5",
        "outputId": "aef47916-6dc2-4350-b6e6-b4570b7c8e7c"
      },
      "execution_count": 50,
      "outputs": [
        {
          "output_type": "execute_result",
          "data": {
            "text/plain": [
              "array([18, 18,  6,  6, 17, 14,  0, 19,  3, 11])"
            ]
          },
          "metadata": {},
          "execution_count": 50
        }
      ]
    },
    {
      "cell_type": "code",
      "source": [
        "np.random.randint(4, size=10)"
      ],
      "metadata": {
        "colab": {
          "base_uri": "https://localhost:8080/"
        },
        "id": "vz0MrSmYIJ_p",
        "outputId": "6307f33d-b668-4744-e7b4-714a6488a384"
      },
      "execution_count": 51,
      "outputs": [
        {
          "output_type": "execute_result",
          "data": {
            "text/plain": [
              "array([1, 3, 1, 2, 3, 3, 2, 2, 0, 3])"
            ]
          },
          "metadata": {},
          "execution_count": 51
        }
      ]
    },
    {
      "cell_type": "code",
      "source": [
        "np.random.randint(1,34,5)"
      ],
      "metadata": {
        "colab": {
          "base_uri": "https://localhost:8080/"
        },
        "id": "3cpsJ1plJaM4",
        "outputId": "f0fb1550-4d87-49aa-94eb-83e404767339"
      },
      "execution_count": 52,
      "outputs": [
        {
          "output_type": "execute_result",
          "data": {
            "text/plain": [
              "array([14, 26,  4,  1, 12])"
            ]
          },
          "metadata": {},
          "execution_count": 52
        }
      ]
    },
    {
      "cell_type": "code",
      "source": [
        "np.random.randint(-23,35, size=(5,5))"
      ],
      "metadata": {
        "colab": {
          "base_uri": "https://localhost:8080/"
        },
        "id": "R_JO9QvSKBVi",
        "outputId": "f5e1a51a-9374-4302-eb4f-6364a817f072"
      },
      "execution_count": 59,
      "outputs": [
        {
          "output_type": "execute_result",
          "data": {
            "text/plain": [
              "array([[  2,   9,  30,  -1,  -8],\n",
              "       [  5,  34, -19,   7,   9],\n",
              "       [ 24,   1,  32, -23,  28],\n",
              "       [-17,  16,  -2,  15,  24],\n",
              "       [ 17,  -7, -17,  -4,  24]])"
            ]
          },
          "metadata": {},
          "execution_count": 59
        }
      ]
    },
    {
      "cell_type": "code",
      "source": [
        "np.random.randint(1,[2,4,8],size=(4,3))"
      ],
      "metadata": {
        "colab": {
          "base_uri": "https://localhost:8080/"
        },
        "id": "sJ_M7kJaKzC7",
        "outputId": "87d1c612-4d88-4fa7-ab85-aed7bcac03cd"
      },
      "execution_count": 62,
      "outputs": [
        {
          "output_type": "execute_result",
          "data": {
            "text/plain": [
              "array([[1, 2, 2],\n",
              "       [1, 1, 4],\n",
              "       [1, 2, 5],\n",
              "       [1, 3, 6]])"
            ]
          },
          "metadata": {},
          "execution_count": 62
        }
      ]
    },
    {
      "cell_type": "code",
      "source": [
        "np.random.randint([2,5,9],[4,8,13])"
      ],
      "metadata": {
        "colab": {
          "base_uri": "https://localhost:8080/"
        },
        "id": "bIL-v1riLHn5",
        "outputId": "5df51d3e-af87-4418-853a-6bb59633c9aa"
      },
      "execution_count": 71,
      "outputs": [
        {
          "output_type": "execute_result",
          "data": {
            "text/plain": [
              "array([ 2,  5, 10])"
            ]
          },
          "metadata": {},
          "execution_count": 71
        }
      ]
    },
    {
      "cell_type": "code",
      "source": [
        "arr = np.arange(36)\n",
        "rand_arr = np.random.randint(0,50,10)"
      ],
      "metadata": {
        "id": "2vYQOrmEMNbg"
      },
      "execution_count": 73,
      "outputs": []
    },
    {
      "cell_type": "code",
      "source": [
        "arr.shape"
      ],
      "metadata": {
        "colab": {
          "base_uri": "https://localhost:8080/"
        },
        "id": "F0uLaJ09MhxB",
        "outputId": "ccd6b923-4431-42a2-abca-b73701cbb592"
      },
      "execution_count": 76,
      "outputs": [
        {
          "output_type": "execute_result",
          "data": {
            "text/plain": [
              "(36,)"
            ]
          },
          "metadata": {},
          "execution_count": 76
        }
      ]
    },
    {
      "cell_type": "code",
      "source": [
        "rand_arr.shape"
      ],
      "metadata": {
        "colab": {
          "base_uri": "https://localhost:8080/"
        },
        "id": "yJxsdLAZMnbQ",
        "outputId": "956aaee6-caba-408f-a354-5ee0a9c27468"
      },
      "execution_count": 77,
      "outputs": [
        {
          "output_type": "execute_result",
          "data": {
            "text/plain": [
              "(10,)"
            ]
          },
          "metadata": {},
          "execution_count": 77
        }
      ]
    },
    {
      "cell_type": "code",
      "source": [
        "arr.reshape(1,36)"
      ],
      "metadata": {
        "colab": {
          "base_uri": "https://localhost:8080/"
        },
        "id": "MGengqgNMvUO",
        "outputId": "1d2756ac-d713-4c81-cdc9-ad6776cfa94c"
      },
      "execution_count": 78,
      "outputs": [
        {
          "output_type": "execute_result",
          "data": {
            "text/plain": [
              "array([[ 0,  1,  2,  3,  4,  5,  6,  7,  8,  9, 10, 11, 12, 13, 14, 15,\n",
              "        16, 17, 18, 19, 20, 21, 22, 23, 24, 25, 26, 27, 28, 29, 30, 31,\n",
              "        32, 33, 34, 35]])"
            ]
          },
          "metadata": {},
          "execution_count": 78
        }
      ]
    },
    {
      "cell_type": "code",
      "source": [
        "arr.reshape(2,18)"
      ],
      "metadata": {
        "colab": {
          "base_uri": "https://localhost:8080/"
        },
        "id": "YRb97A7yM3z2",
        "outputId": "36c788d8-19de-4d55-f47e-4861263f7df8"
      },
      "execution_count": 79,
      "outputs": [
        {
          "output_type": "execute_result",
          "data": {
            "text/plain": [
              "array([[ 0,  1,  2,  3,  4,  5,  6,  7,  8,  9, 10, 11, 12, 13, 14, 15,\n",
              "        16, 17],\n",
              "       [18, 19, 20, 21, 22, 23, 24, 25, 26, 27, 28, 29, 30, 31, 32, 33,\n",
              "        34, 35]])"
            ]
          },
          "metadata": {},
          "execution_count": 79
        }
      ]
    },
    {
      "cell_type": "code",
      "source": [
        "arr.reshape(12,-1)"
      ],
      "metadata": {
        "colab": {
          "base_uri": "https://localhost:8080/"
        },
        "id": "XNNsenMsNAmc",
        "outputId": "9cc19f41-31cb-4f2c-d47c-61ccd7169389"
      },
      "execution_count": 82,
      "outputs": [
        {
          "output_type": "execute_result",
          "data": {
            "text/plain": [
              "array([[ 0,  1,  2],\n",
              "       [ 3,  4,  5],\n",
              "       [ 6,  7,  8],\n",
              "       [ 9, 10, 11],\n",
              "       [12, 13, 14],\n",
              "       [15, 16, 17],\n",
              "       [18, 19, 20],\n",
              "       [21, 22, 23],\n",
              "       [24, 25, 26],\n",
              "       [27, 28, 29],\n",
              "       [30, 31, 32],\n",
              "       [33, 34, 35]])"
            ]
          },
          "metadata": {},
          "execution_count": 82
        }
      ]
    },
    {
      "cell_type": "code",
      "source": [
        "arr.reshape(-1,6)"
      ],
      "metadata": {
        "colab": {
          "base_uri": "https://localhost:8080/"
        },
        "id": "0tiXXLQNNLtR",
        "outputId": "330dfd8d-5e0a-4b5a-e29c-0cff9dac8b02"
      },
      "execution_count": 85,
      "outputs": [
        {
          "output_type": "execute_result",
          "data": {
            "text/plain": [
              "array([[ 0,  1,  2,  3,  4,  5],\n",
              "       [ 6,  7,  8,  9, 10, 11],\n",
              "       [12, 13, 14, 15, 16, 17],\n",
              "       [18, 19, 20, 21, 22, 23],\n",
              "       [24, 25, 26, 27, 28, 29],\n",
              "       [30, 31, 32, 33, 34, 35]])"
            ]
          },
          "metadata": {},
          "execution_count": 85
        }
      ]
    },
    {
      "cell_type": "code",
      "source": [
        "arr.reshape(2,2,9)"
      ],
      "metadata": {
        "colab": {
          "base_uri": "https://localhost:8080/"
        },
        "id": "xpRbm4l-NiWg",
        "outputId": "c2fecc7b-b624-4e98-924d-ad72cbb85794"
      },
      "execution_count": 90,
      "outputs": [
        {
          "output_type": "execute_result",
          "data": {
            "text/plain": [
              "array([[[ 0,  1,  2,  3,  4,  5,  6,  7,  8],\n",
              "        [ 9, 10, 11, 12, 13, 14, 15, 16, 17]],\n",
              "\n",
              "       [[18, 19, 20, 21, 22, 23, 24, 25, 26],\n",
              "        [27, 28, 29, 30, 31, 32, 33, 34, 35]]])"
            ]
          },
          "metadata": {},
          "execution_count": 90
        }
      ]
    },
    {
      "cell_type": "code",
      "source": [
        "a = arr.reshape(3,4,3)"
      ],
      "metadata": {
        "id": "z6lu8CayN1rE"
      },
      "execution_count": 101,
      "outputs": []
    },
    {
      "cell_type": "code",
      "source": [
        "arr.max()"
      ],
      "metadata": {
        "colab": {
          "base_uri": "https://localhost:8080/"
        },
        "id": "jpOWr6jQN8v4",
        "outputId": "b0676a7e-059c-421b-f477-080f07c4b4b4"
      },
      "execution_count": 93,
      "outputs": [
        {
          "output_type": "execute_result",
          "data": {
            "text/plain": [
              "35"
            ]
          },
          "metadata": {},
          "execution_count": 93
        }
      ]
    },
    {
      "cell_type": "code",
      "source": [
        "arr.min()"
      ],
      "metadata": {
        "colab": {
          "base_uri": "https://localhost:8080/"
        },
        "id": "oSR4GRnKOBd1",
        "outputId": "d3d0406a-eb1b-4acf-956b-90f41f6ac5ee"
      },
      "execution_count": 94,
      "outputs": [
        {
          "output_type": "execute_result",
          "data": {
            "text/plain": [
              "0"
            ]
          },
          "metadata": {},
          "execution_count": 94
        }
      ]
    },
    {
      "cell_type": "code",
      "source": [
        "arr.argmax()"
      ],
      "metadata": {
        "colab": {
          "base_uri": "https://localhost:8080/"
        },
        "id": "RCUV2fLeOG_m",
        "outputId": "23fd3cea-2f59-4767-ceab-eac3fb67e700"
      },
      "execution_count": 95,
      "outputs": [
        {
          "output_type": "execute_result",
          "data": {
            "text/plain": [
              "35"
            ]
          },
          "metadata": {},
          "execution_count": 95
        }
      ]
    },
    {
      "cell_type": "code",
      "source": [
        "arr.size"
      ],
      "metadata": {
        "colab": {
          "base_uri": "https://localhost:8080/"
        },
        "id": "9m0bdzJyOSEK",
        "outputId": "1fd740e2-4cf8-49e3-c740-10621ea31883"
      },
      "execution_count": 98,
      "outputs": [
        {
          "output_type": "execute_result",
          "data": {
            "text/plain": [
              "36"
            ]
          },
          "metadata": {},
          "execution_count": 98
        }
      ]
    },
    {
      "cell_type": "code",
      "source": [
        "arr.dtype"
      ],
      "metadata": {
        "colab": {
          "base_uri": "https://localhost:8080/"
        },
        "id": "BxeR_9J-OZAd",
        "outputId": "41ff0592-834d-4c3c-d898-19b3894b73a1"
      },
      "execution_count": 99,
      "outputs": [
        {
          "output_type": "execute_result",
          "data": {
            "text/plain": [
              "dtype('int64')"
            ]
          },
          "metadata": {},
          "execution_count": 99
        }
      ]
    },
    {
      "cell_type": "code",
      "source": [
        "type(arr)"
      ],
      "metadata": {
        "colab": {
          "base_uri": "https://localhost:8080/"
        },
        "id": "Ttlk6BC-Od23",
        "outputId": "8d75f6af-9f4a-4400-e66c-38be377363e7"
      },
      "execution_count": 100,
      "outputs": [
        {
          "output_type": "execute_result",
          "data": {
            "text/plain": [
              "numpy.ndarray"
            ]
          },
          "metadata": {},
          "execution_count": 100
        }
      ]
    },
    {
      "cell_type": "code",
      "source": [
        "a.ndim"
      ],
      "metadata": {
        "colab": {
          "base_uri": "https://localhost:8080/"
        },
        "id": "zwRVpDuHOoGG",
        "outputId": "9031e37a-6810-43ed-deb5-67f7f6f25412"
      },
      "execution_count": 103,
      "outputs": [
        {
          "output_type": "execute_result",
          "data": {
            "text/plain": [
              "3"
            ]
          },
          "metadata": {},
          "execution_count": 103
        }
      ]
    }
  ]
}