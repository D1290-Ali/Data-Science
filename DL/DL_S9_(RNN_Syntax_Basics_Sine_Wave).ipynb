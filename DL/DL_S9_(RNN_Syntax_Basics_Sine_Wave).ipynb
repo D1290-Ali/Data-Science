{
  "cells": [
    {
      "cell_type": "markdown",
      "metadata": {
        "id": "view-in-github",
        "colab_type": "text"
      },
      "source": [
        "<a href=\"https://colab.research.google.com/github/agokmenefe/Data-Science/blob/main/DL/DL_S9_(RNN_Syntax_Basics_Sine_Wave).ipynb\" target=\"_parent\"><img src=\"https://colab.research.google.com/assets/colab-badge.svg\" alt=\"Open In Colab\"/></a>"
      ]
    },
    {
      "cell_type": "markdown",
      "metadata": {
        "id": "R9JJ8Z9sa5zx"
      },
      "source": [
        "___\n",
        "\n",
        "<p style=\"text-align: center;\"><img src=\"https://docs.google.com/uc?id=1lY0Uj5R04yMY3-ZppPWxqCr5pvBLYPnV\" class=\"img-fluid\" alt=\"CLRSWY\"></p>\n",
        "\n",
        "___"
      ]
    },
    {
      "cell_type": "markdown",
      "metadata": {
        "id": "UkXyE93ra5z1"
      },
      "source": [
        "<h1 style=\"text-align: center;\">Deep Learning<br><br>Session - 9<br><br>RNN Syntax Basics<br><br>Sine Wave<br><h1>"
      ]
    },
    {
      "cell_type": "markdown",
      "metadata": {
        "id": "iOlE-7VMa5z2"
      },
      "source": [
        "# Creating Data"
      ]
    },
    {
      "cell_type": "code",
      "execution_count": 1,
      "metadata": {
        "id": "rxK7kiria5z2"
      },
      "outputs": [],
      "source": [
        "import numpy as np\n",
        "import pandas as pd\n",
        "import matplotlib.pyplot as plt\n",
        "import seaborn as sns\n",
        "\n",
        "import warnings\n",
        "warnings.filterwarnings(\"ignore\")\n",
        "warnings.warn(\"this will not show\")\n",
        "\n",
        "plt.rcParams[\"figure.figsize\"] = (10,6)\n",
        "\n",
        "sns.set_style(\"whitegrid\")\n",
        "pd.set_option('display.float_format', lambda x: '%.3f' % x)\n",
        "\n",
        "# Set it None to display all rows in the dataframe\n",
        "# pd.set_option('display.max_rows', None)\n",
        "\n",
        "# Set it to None to display all columns in the dataframe\n",
        "pd.set_option('display.max_columns', None)"
      ]
    },
    {
      "cell_type": "code",
      "execution_count": 2,
      "metadata": {
        "id": "3Furbhjsa5z4"
      },
      "outputs": [],
      "source": [
        "x = np.linspace(0,50,501)\n",
        "y = np.sin(x)"
      ]
    },
    {
      "cell_type": "code",
      "execution_count": 3,
      "metadata": {
        "colab": {
          "base_uri": "https://localhost:8080/"
        },
        "id": "_rrou5jFa5z4",
        "outputId": "7560c048-aeac-4f92-c548-9083f7870267",
        "scrolled": true
      },
      "outputs": [
        {
          "output_type": "execute_result",
          "data": {
            "text/plain": [
              "array([ 0. ,  0.1,  0.2,  0.3,  0.4,  0.5,  0.6,  0.7,  0.8,  0.9,  1. ,\n",
              "        1.1,  1.2,  1.3,  1.4,  1.5,  1.6,  1.7,  1.8,  1.9,  2. ,  2.1,\n",
              "        2.2,  2.3,  2.4,  2.5,  2.6,  2.7,  2.8,  2.9,  3. ,  3.1,  3.2,\n",
              "        3.3,  3.4,  3.5,  3.6,  3.7,  3.8,  3.9,  4. ,  4.1,  4.2,  4.3,\n",
              "        4.4,  4.5,  4.6,  4.7,  4.8,  4.9,  5. ,  5.1,  5.2,  5.3,  5.4,\n",
              "        5.5,  5.6,  5.7,  5.8,  5.9,  6. ,  6.1,  6.2,  6.3,  6.4,  6.5,\n",
              "        6.6,  6.7,  6.8,  6.9,  7. ,  7.1,  7.2,  7.3,  7.4,  7.5,  7.6,\n",
              "        7.7,  7.8,  7.9,  8. ,  8.1,  8.2,  8.3,  8.4,  8.5,  8.6,  8.7,\n",
              "        8.8,  8.9,  9. ,  9.1,  9.2,  9.3,  9.4,  9.5,  9.6,  9.7,  9.8,\n",
              "        9.9, 10. , 10.1, 10.2, 10.3, 10.4, 10.5, 10.6, 10.7, 10.8, 10.9,\n",
              "       11. , 11.1, 11.2, 11.3, 11.4, 11.5, 11.6, 11.7, 11.8, 11.9, 12. ,\n",
              "       12.1, 12.2, 12.3, 12.4, 12.5, 12.6, 12.7, 12.8, 12.9, 13. , 13.1,\n",
              "       13.2, 13.3, 13.4, 13.5, 13.6, 13.7, 13.8, 13.9, 14. , 14.1, 14.2,\n",
              "       14.3, 14.4, 14.5, 14.6, 14.7, 14.8, 14.9, 15. , 15.1, 15.2, 15.3,\n",
              "       15.4, 15.5, 15.6, 15.7, 15.8, 15.9, 16. , 16.1, 16.2, 16.3, 16.4,\n",
              "       16.5, 16.6, 16.7, 16.8, 16.9, 17. , 17.1, 17.2, 17.3, 17.4, 17.5,\n",
              "       17.6, 17.7, 17.8, 17.9, 18. , 18.1, 18.2, 18.3, 18.4, 18.5, 18.6,\n",
              "       18.7, 18.8, 18.9, 19. , 19.1, 19.2, 19.3, 19.4, 19.5, 19.6, 19.7,\n",
              "       19.8, 19.9, 20. , 20.1, 20.2, 20.3, 20.4, 20.5, 20.6, 20.7, 20.8,\n",
              "       20.9, 21. , 21.1, 21.2, 21.3, 21.4, 21.5, 21.6, 21.7, 21.8, 21.9,\n",
              "       22. , 22.1, 22.2, 22.3, 22.4, 22.5, 22.6, 22.7, 22.8, 22.9, 23. ,\n",
              "       23.1, 23.2, 23.3, 23.4, 23.5, 23.6, 23.7, 23.8, 23.9, 24. , 24.1,\n",
              "       24.2, 24.3, 24.4, 24.5, 24.6, 24.7, 24.8, 24.9, 25. , 25.1, 25.2,\n",
              "       25.3, 25.4, 25.5, 25.6, 25.7, 25.8, 25.9, 26. , 26.1, 26.2, 26.3,\n",
              "       26.4, 26.5, 26.6, 26.7, 26.8, 26.9, 27. , 27.1, 27.2, 27.3, 27.4,\n",
              "       27.5, 27.6, 27.7, 27.8, 27.9, 28. , 28.1, 28.2, 28.3, 28.4, 28.5,\n",
              "       28.6, 28.7, 28.8, 28.9, 29. , 29.1, 29.2, 29.3, 29.4, 29.5, 29.6,\n",
              "       29.7, 29.8, 29.9, 30. , 30.1, 30.2, 30.3, 30.4, 30.5, 30.6, 30.7,\n",
              "       30.8, 30.9, 31. , 31.1, 31.2, 31.3, 31.4, 31.5, 31.6, 31.7, 31.8,\n",
              "       31.9, 32. , 32.1, 32.2, 32.3, 32.4, 32.5, 32.6, 32.7, 32.8, 32.9,\n",
              "       33. , 33.1, 33.2, 33.3, 33.4, 33.5, 33.6, 33.7, 33.8, 33.9, 34. ,\n",
              "       34.1, 34.2, 34.3, 34.4, 34.5, 34.6, 34.7, 34.8, 34.9, 35. , 35.1,\n",
              "       35.2, 35.3, 35.4, 35.5, 35.6, 35.7, 35.8, 35.9, 36. , 36.1, 36.2,\n",
              "       36.3, 36.4, 36.5, 36.6, 36.7, 36.8, 36.9, 37. , 37.1, 37.2, 37.3,\n",
              "       37.4, 37.5, 37.6, 37.7, 37.8, 37.9, 38. , 38.1, 38.2, 38.3, 38.4,\n",
              "       38.5, 38.6, 38.7, 38.8, 38.9, 39. , 39.1, 39.2, 39.3, 39.4, 39.5,\n",
              "       39.6, 39.7, 39.8, 39.9, 40. , 40.1, 40.2, 40.3, 40.4, 40.5, 40.6,\n",
              "       40.7, 40.8, 40.9, 41. , 41.1, 41.2, 41.3, 41.4, 41.5, 41.6, 41.7,\n",
              "       41.8, 41.9, 42. , 42.1, 42.2, 42.3, 42.4, 42.5, 42.6, 42.7, 42.8,\n",
              "       42.9, 43. , 43.1, 43.2, 43.3, 43.4, 43.5, 43.6, 43.7, 43.8, 43.9,\n",
              "       44. , 44.1, 44.2, 44.3, 44.4, 44.5, 44.6, 44.7, 44.8, 44.9, 45. ,\n",
              "       45.1, 45.2, 45.3, 45.4, 45.5, 45.6, 45.7, 45.8, 45.9, 46. , 46.1,\n",
              "       46.2, 46.3, 46.4, 46.5, 46.6, 46.7, 46.8, 46.9, 47. , 47.1, 47.2,\n",
              "       47.3, 47.4, 47.5, 47.6, 47.7, 47.8, 47.9, 48. , 48.1, 48.2, 48.3,\n",
              "       48.4, 48.5, 48.6, 48.7, 48.8, 48.9, 49. , 49.1, 49.2, 49.3, 49.4,\n",
              "       49.5, 49.6, 49.7, 49.8, 49.9, 50. ])"
            ]
          },
          "metadata": {},
          "execution_count": 3
        }
      ],
      "source": [
        "x"
      ]
    },
    {
      "cell_type": "code",
      "execution_count": 4,
      "metadata": {
        "colab": {
          "base_uri": "https://localhost:8080/"
        },
        "id": "awYZwORBa5z5",
        "outputId": "84beee97-ef0d-402c-9768-7bac5973debe"
      },
      "outputs": [
        {
          "output_type": "execute_result",
          "data": {
            "text/plain": [
              "array([ 0.00000000e+00,  9.98334166e-02,  1.98669331e-01,  2.95520207e-01,\n",
              "        3.89418342e-01,  4.79425539e-01,  5.64642473e-01,  6.44217687e-01,\n",
              "        7.17356091e-01,  7.83326910e-01,  8.41470985e-01,  8.91207360e-01,\n",
              "        9.32039086e-01,  9.63558185e-01,  9.85449730e-01,  9.97494987e-01,\n",
              "        9.99573603e-01,  9.91664810e-01,  9.73847631e-01,  9.46300088e-01,\n",
              "        9.09297427e-01,  8.63209367e-01,  8.08496404e-01,  7.45705212e-01,\n",
              "        6.75463181e-01,  5.98472144e-01,  5.15501372e-01,  4.27379880e-01,\n",
              "        3.34988150e-01,  2.39249329e-01,  1.41120008e-01,  4.15806624e-02,\n",
              "       -5.83741434e-02, -1.57745694e-01, -2.55541102e-01, -3.50783228e-01,\n",
              "       -4.42520443e-01, -5.29836141e-01, -6.11857891e-01, -6.87766159e-01,\n",
              "       -7.56802495e-01, -8.18277111e-01, -8.71575772e-01, -9.16165937e-01,\n",
              "       -9.51602074e-01, -9.77530118e-01, -9.93691004e-01, -9.99923258e-01,\n",
              "       -9.96164609e-01, -9.82452613e-01, -9.58924275e-01, -9.25814682e-01,\n",
              "       -8.83454656e-01, -8.32267442e-01, -7.72764488e-01, -7.05540326e-01,\n",
              "       -6.31266638e-01, -5.50685543e-01, -4.64602179e-01, -3.73876665e-01,\n",
              "       -2.79415498e-01, -1.82162504e-01, -8.30894028e-02,  1.68139005e-02,\n",
              "        1.16549205e-01,  2.15119988e-01,  3.11541364e-01,  4.04849921e-01,\n",
              "        4.94113351e-01,  5.78439764e-01,  6.56986599e-01,  7.28969040e-01,\n",
              "        7.93667864e-01,  8.50436621e-01,  8.98708096e-01,  9.37999977e-01,\n",
              "        9.67919672e-01,  9.88168234e-01,  9.98543345e-01,  9.98941342e-01,\n",
              "        9.89358247e-01,  9.69889811e-01,  9.40730557e-01,  9.02171834e-01,\n",
              "        8.54598908e-01,  7.98487113e-01,  7.34397098e-01,  6.62969230e-01,\n",
              "        5.84917193e-01,  5.01020856e-01,  4.12118485e-01,  3.19098362e-01,\n",
              "        2.22889914e-01,  1.24454424e-01,  2.47754255e-02, -7.51511205e-02,\n",
              "       -1.74326781e-01, -2.71760626e-01, -3.66479129e-01, -4.57535894e-01,\n",
              "       -5.44021111e-01, -6.25070649e-01, -6.99874688e-01, -7.67685810e-01,\n",
              "       -8.27826469e-01, -8.79695760e-01, -9.22775422e-01, -9.56635016e-01,\n",
              "       -9.80936230e-01, -9.95436253e-01, -9.99990207e-01, -9.94552588e-01,\n",
              "       -9.79177729e-01, -9.54019250e-01, -9.19328526e-01, -8.75452175e-01,\n",
              "       -8.22828595e-01, -7.61983584e-01, -6.93525085e-01, -6.18137112e-01,\n",
              "       -5.36572918e-01, -4.49647465e-01, -3.58229282e-01, -2.63231791e-01,\n",
              "       -1.65604175e-01, -6.63218974e-02,  3.36230472e-02,  1.33232041e-01,\n",
              "        2.31509825e-01,  3.27474439e-01,  4.20167037e-01,  5.08661464e-01,\n",
              "        5.92073515e-01,  6.69569762e-01,  7.40375890e-01,  8.03784427e-01,\n",
              "        8.59161815e-01,  9.05954742e-01,  9.43695669e-01,  9.72007501e-01,\n",
              "        9.90607356e-01,  9.99309389e-01,  9.98026653e-01,  9.86771964e-01,\n",
              "        9.65657777e-01,  9.34895056e-01,  8.94791172e-01,  8.45746831e-01,\n",
              "        7.88252067e-01,  7.22881350e-01,  6.50287840e-01,  5.71196870e-01,\n",
              "        4.86398689e-01,  3.96740573e-01,  3.03118357e-01,  2.06467482e-01,\n",
              "        1.07753652e-01,  7.96318379e-03, -9.19068502e-02, -1.90858581e-01,\n",
              "       -2.87903317e-01, -3.82071417e-01, -4.72421986e-01, -5.58052271e-01,\n",
              "       -6.38106682e-01, -7.11785342e-01, -7.78352079e-01, -8.37141778e-01,\n",
              "       -8.87567034e-01, -9.29124013e-01, -9.61397492e-01, -9.84065005e-01,\n",
              "       -9.96900066e-01, -9.99774431e-01, -9.92659380e-01, -9.75626005e-01,\n",
              "       -9.48844498e-01, -9.12582450e-01, -8.67202179e-01, -8.13157112e-01,\n",
              "       -7.50987247e-01, -6.81313766e-01, -6.04832822e-01, -5.22308590e-01,\n",
              "       -4.34565622e-01, -3.42480618e-01, -2.46973662e-01, -1.48999026e-01,\n",
              "       -4.95356409e-02,  5.04226878e-02,  1.49877210e-01,  2.47834208e-01,\n",
              "        3.43314929e-01,  4.35365360e-01,  5.23065765e-01,  6.05539870e-01,\n",
              "        6.81963620e-01,  7.51573415e-01,  8.13673738e-01,  8.67644101e-01,\n",
              "        9.12945251e-01,  9.49124554e-01,  9.75820518e-01,  9.92766406e-01,\n",
              "        9.99792900e-01,  9.96829794e-01,  9.83906695e-01,  9.61152725e-01,\n",
              "        9.28795234e-01,  8.87157529e-01,  8.36655639e-01,  7.77794162e-01,\n",
              "        7.11161223e-01,  6.37422596e-01,  5.57315054e-01,  4.71639003e-01,\n",
              "        3.81250492e-01,  2.87052651e-01,  1.89986676e-01,  9.10224162e-02,\n",
              "       -8.85130929e-03, -1.08636595e-01, -2.07336421e-01, -3.03964609e-01,\n",
              "       -3.97555683e-01, -4.87174512e-01, -5.71925655e-01, -6.50962306e-01,\n",
              "       -7.23494756e-01, -7.88798286e-01, -8.46220404e-01, -8.95187368e-01,\n",
              "       -9.35209915e-01, -9.65888154e-01, -9.86915558e-01, -9.98082028e-01,\n",
              "       -9.99275992e-01, -9.90485521e-01, -9.71798446e-01, -9.43401482e-01,\n",
              "       -9.05578362e-01, -8.58707003e-01, -8.03255727e-01, -7.39778585e-01,\n",
              "       -6.68909820e-01, -5.91357530e-01, -5.07896590e-01, -4.19360916e-01,\n",
              "       -3.26635126e-01, -2.30645706e-01, -1.32351750e-01, -3.27353793e-02,\n",
              "        6.72080725e-02,  1.66480004e-01,  2.64088521e-01,  3.59058354e-01,\n",
              "        4.50440594e-01,  5.37322181e-01,  6.18835022e-01,  6.94164668e-01,\n",
              "        7.62558450e-01,  8.23333001e-01,  8.75881080e-01,  9.19677645e-01,\n",
              "        9.54285094e-01,  9.79357643e-01,  9.94644774e-01,  9.99993743e-01,\n",
              "        9.95351105e-01,  9.80763248e-01,  9.56375928e-01,  9.22432817e-01,\n",
              "        8.79273062e-01,  8.27327901e-01,  7.67116353e-01,  6.99240032e-01,\n",
              "        6.24377135e-01,  5.43275669e-01,  4.56745972e-01,  3.65652620e-01,\n",
              "        2.70905788e-01,  1.73452155e-01,  7.42654456e-02, -2.56632999e-02,\n",
              "       -1.25335626e-01, -2.23755640e-01, -3.19939962e-01, -4.12927549e-01,\n",
              "       -5.01789301e-01, -5.85637340e-01, -6.63633884e-01, -7.34999618e-01,\n",
              "       -7.99021479e-01, -8.55059781e-01, -9.02554608e-01, -9.41031408e-01,\n",
              "       -9.70105734e-01, -9.89487083e-01, -9.98981805e-01, -9.98495031e-01,\n",
              "       -9.88031624e-01, -9.67696132e-01, -9.37691740e-01, -8.98318243e-01,\n",
              "       -8.49969046e-01, -7.93127239e-01, -7.28360768e-01, -6.56316756e-01,\n",
              "       -5.77715044e-01, -4.93340995e-01, -4.04037645e-01, -3.10697285e-01,\n",
              "       -2.14252540e-01, -1.15667055e-01, -1.59258626e-02,  8.39744557e-02,\n",
              "        1.83035729e-01,  2.80268170e-01,  3.74700264e-01,  4.65388476e-01,\n",
              "        5.51426681e-01,  6.31955213e-01,  7.06169457e-01,  7.73327890e-01,\n",
              "        8.32759485e-01,  8.83870424e-01,  9.26150021e-01,  9.59175833e-01,\n",
              "        9.82617877e-01,  9.96241929e-01,  9.99911860e-01,  9.93591003e-01,\n",
              "        9.77342512e-01,  9.51328739e-01,  9.15809603e-01,  8.71140000e-01,\n",
              "        8.17766255e-01,  7.56221659e-01,  6.87121146e-01,  6.11155146e-01,\n",
              "        5.29082686e-01,  4.41723807e-01,  3.49951369e-01,  2.54682333e-01,\n",
              "        1.56868595e-01,  5.74874781e-02, -4.24680347e-02, -1.41999221e-01,\n",
              "       -2.40111598e-01, -3.35824859e-01, -4.28182669e-01, -5.16262220e-01,\n",
              "       -5.99183449e-01, -6.76117835e-01, -7.46296676e-01, -8.09018766e-01,\n",
              "       -8.63657409e-01, -9.09666672e-01, -9.46586846e-01, -9.74049038e-01,\n",
              "       -9.91778853e-01, -9.99599143e-01, -9.97431767e-01, -9.85298384e-01,\n",
              "       -9.63320224e-01, -9.31716888e-01, -8.90804144e-01, -8.40990780e-01,\n",
              "       -7.82774514e-01, -7.16737023e-01, -6.43538133e-01, -5.63909223e-01,\n",
              "       -4.78645919e-01, -3.88600142e-01, -2.94671602e-01, -1.97798800e-01,\n",
              "       -9.89496576e-02,  8.88156806e-04,  1.00717097e-01,  1.99539705e-01,\n",
              "        2.96368579e-01,  3.90236235e-01,  4.80204780e-01,  5.65375278e-01,\n",
              "        6.44896733e-01,  7.17974593e-01,  7.83878688e-01,  8.41950526e-01,\n",
              "        8.91609873e-01,  9.32360549e-01,  9.63795386e-01,  9.85600299e-01,\n",
              "        9.97557419e-01,  9.99547275e-01,  9.91549985e-01,  9.73645456e-01,\n",
              "        9.46012583e-01,  9.08927465e-01,  8.62760644e-01,  8.07973404e-01,\n",
              "        7.45113160e-01,  6.74807993e-01,  5.97760367e-01,  5.14740117e-01,\n",
              "        4.26576754e-01,  3.34151177e-01,  2.38386872e-01,  1.40240684e-01,\n",
              "        4.06932573e-02, -5.92607627e-02, -1.58622669e-01, -2.56399670e-01,\n",
              "       -3.51614810e-01, -4.43316731e-01, -5.30589178e-01, -6.12560153e-01,\n",
              "       -6.88410630e-01, -7.57382735e-01, -8.18787322e-01, -8.72010857e-01,\n",
              "       -9.16521548e-01, -9.51874658e-01, -9.77716952e-01, -9.93790221e-01,\n",
              "       -9.99933866e-01, -9.96086503e-01, -9.82286573e-01, -9.58671960e-01,\n",
              "       -9.25478614e-01, -8.83038191e-01, -8.31774743e-01, -7.72200476e-01,\n",
              "       -7.04910637e-01, -6.30577565e-01, -5.49943970e-01, -4.63815516e-01,\n",
              "       -3.73052771e-01, -2.78562606e-01, -1.81289136e-01, -8.22042844e-02,\n",
              "        1.77019251e-02,  1.17431263e-01,  2.15987266e-01,  3.12385196e-01,\n",
              "        4.05661877e-01,  4.94885318e-01,  5.79164028e-01,  6.57655923e-01,\n",
              "        7.29576737e-01,  7.94207862e-01,  8.50903525e-01,  8.99097240e-01,\n",
              "        9.38307473e-01,  9.68142448e-01,  9.88304064e-01,  9.98590872e-01,\n",
              "        9.98900091e-01,  9.89228630e-01,  9.69673123e-01,  9.40428963e-01,\n",
              "        9.01788348e-01,  8.54137361e-01,  7.97952117e-01,  7.33793998e-01,\n",
              "        6.62304053e-01,  5.84196584e-01,  5.00252017e-01,  4.11309096e-01,\n",
              "        3.18256511e-01,  2.22024012e-01,  1.23573123e-01,  2.38875315e-02,\n",
              "       -7.60367361e-02, -1.75201270e-01, -2.72615250e-01, -3.67305349e-01,\n",
              "       -4.58325454e-01, -5.44766123e-01, -6.25763669e-01, -7.00508791e-01,\n",
              "       -7.68254661e-01, -8.28324385e-01, -8.80117764e-01, -9.23117298e-01,\n",
              "       -9.56893350e-01, -9.81108439e-01, -9.95520616e-01, -9.99985881e-01,\n",
              "       -9.94459618e-01, -9.78997043e-01, -9.53752653e-01, -9.18978681e-01,\n",
              "       -8.75022579e-01, -8.22323540e-01, -7.61408116e-01, -6.92884954e-01,\n",
              "       -6.17438715e-01, -5.35823232e-01, -4.48853980e-01, -3.57399928e-01,\n",
              "       -2.62374854e-01])"
            ]
          },
          "metadata": {},
          "execution_count": 4
        }
      ],
      "source": [
        "y"
      ]
    },
    {
      "cell_type": "code",
      "execution_count": 5,
      "metadata": {
        "colab": {
          "base_uri": "https://localhost:8080/",
          "height": 282
        },
        "id": "adlXJCYda5z6",
        "outputId": "c0d1214f-bdbf-4757-f37f-2f643dc8b0e6"
      },
      "outputs": [
        {
          "output_type": "execute_result",
          "data": {
            "text/plain": [
              "[<matplotlib.lines.Line2D at 0x7f8992604890>]"
            ]
          },
          "metadata": {},
          "execution_count": 5
        },
        {
          "output_type": "display_data",
          "data": {
            "text/plain": [
              "<Figure size 432x288 with 1 Axes>"
            ],
            "image/png": "[encoded data removed]"
          },
          "metadata": {
            "needs_background": "light"
          }
        }
      ],
      "source": [
        "plt.plot(x,y)"
      ]
    },
    {
      "cell_type": "markdown",
      "metadata": {
        "id": "BB8kNmC_a5z6"
      },
      "source": [
        "Let's turn this into a DataFrame"
      ]
    },
    {
      "cell_type": "code",
      "execution_count": 6,
      "metadata": {
        "id": "SdAJ7l_Ua5z7"
      },
      "outputs": [],
      "source": [
        "df = pd.DataFrame(data=y,index=x,columns=['Sine'])"
      ]
    },
    {
      "cell_type": "code",
      "execution_count": 7,
      "metadata": {
        "colab": {
          "base_uri": "https://localhost:8080/",
          "height": 424
        },
        "id": "hc8l0O0Xa5z7",
        "outputId": "a0f7fad9-4a97-4203-8202-52f698862813"
      },
      "outputs": [
        {
          "output_type": "execute_result",
          "data": {
            "text/plain": [
              "         Sine\n",
              "0.000   0.000\n",
              "0.100   0.100\n",
              "0.200   0.199\n",
              "0.300   0.296\n",
              "0.400   0.389\n",
              "...       ...\n",
              "49.600 -0.617\n",
              "49.700 -0.536\n",
              "49.800 -0.449\n",
              "49.900 -0.357\n",
              "50.000 -0.262\n",
              "\n",
              "[501 rows x 1 columns]"
            ],
            "text/html": [
              "\n",
              "  <div id=\"df-32ed1ff5-8c27-476f-9f26-b2d32a450529\">\n",
              "    <div class=\"colab-df-container\">\n",
              "      <div>\n",
              "<style scoped>\n",
              "    .dataframe tbody tr th:only-of-type {\n",
              "        vertical-align: middle;\n",
              "    }\n",
              "\n",
              "    .dataframe tbody tr th {\n",
              "        vertical-align: top;\n",
              "    }\n",
              "\n",
              "    .dataframe thead th {\n",
              "        text-align: right;\n",
              "    }\n",
              "</style>\n",
              "<table border=\"1\" class=\"dataframe\">\n",
              "  <thead>\n",
              "    <tr style=\"text-align: right;\">\n",
              "      <th></th>\n",
              "      <th>Sine</th>\n",
              "    </tr>\n",
              "  </thead>\n",
              "  <tbody>\n",
              "    <tr>\n",
              "      <th>0.000</th>\n",
              "      <td>0.000</td>\n",
              "    </tr>\n",
              "    <tr>\n",
              "      <th>0.100</th>\n",
              "      <td>0.100</td>\n",
              "    </tr>\n",
              "    <tr>\n",
              "      <th>0.200</th>\n",
              "      <td>0.199</td>\n",
              "    </tr>\n",
              "    <tr>\n",
              "      <th>0.300</th>\n",
              "      <td>0.296</td>\n",
              "    </tr>\n",
              "    <tr>\n",
              "      <th>0.400</th>\n",
              "      <td>0.389</td>\n",
              "    </tr>\n",
              "    <tr>\n",
              "      <th>...</th>\n",
              "      <td>...</td>\n",
              "    </tr>\n",
              "    <tr>\n",
              "      <th>49.600</th>\n",
              "      <td>-0.617</td>\n",
              "    </tr>\n",
              "    <tr>\n",
              "      <th>49.700</th>\n",
              "      <td>-0.536</td>\n",
              "    </tr>\n",
              "    <tr>\n",
              "      <th>49.800</th>\n",
              "      <td>-0.449</td>\n",
              "    </tr>\n",
              "    <tr>\n",
              "      <th>49.900</th>\n",
              "      <td>-0.357</td>\n",
              "    </tr>\n",
              "    <tr>\n",
              "      <th>50.000</th>\n",
              "      <td>-0.262</td>\n",
              "    </tr>\n",
              "  </tbody>\n",
              "</table>\n",
              "<p>501 rows × 1 columns</p>\n",
              "</div>\n",
              "      <button class=\"colab-df-convert\" onclick=\"convertToInteractive('df-32ed1ff5-8c27-476f-9f26-b2d32a450529')\"\n",
              "              title=\"Convert this dataframe to an interactive table.\"\n",
              "              style=\"display:none;\">\n",
              "        \n",
              "  <svg xmlns=\"http://www.w3.org/2000/svg\" height=\"24px\"viewBox=\"0 0 24 24\"\n",
              "       width=\"24px\">\n",
              "    <path d=\"M0 0h24v24H0V0z\" fill=\"none\"/>\n",
              "    <path d=\"M18.56 5.44l.94 2.06.94-2.06 2.06-.94-2.06-.94-.94-2.06-.94 2.06-2.06.94zm-11 1L8.5 8.5l.94-2.06 2.06-.94-2.06-.94L8.5 2.5l-.94 2.06-2.06.94zm10 10l.94 2.06.94-2.06 2.06-.94-2.06-.94-.94-2.06-.94 2.06-2.06.94z\"/><path d=\"M17.41 7.96l-1.37-1.37c-.4-.4-.92-.59-1.43-.59-.52 0-1.04.2-1.43.59L10.3 9.45l-7.72 7.72c-.78.78-.78 2.05 0 2.83L4 21.41c.39.39.9.59 1.41.59.51 0 1.02-.2 1.41-.59l7.78-7.78 2.81-2.81c.8-.78.8-2.07 0-2.86zM5.41 20L4 18.59l7.72-7.72 1.47 1.35L5.41 20z\"/>\n",
              "  </svg>\n",
              "      </button>\n",
              "      \n",
              "  <style>\n",
              "    .colab-df-container {\n",
              "      display:flex;\n",
              "      flex-wrap:wrap;\n",
              "      gap: 12px;\n",
              "    }\n",
              "\n",
              "    .colab-df-convert {\n",
              "      background-color: #E8F0FE;\n",
              "      border: none;\n",
              "      border-radius: 50%;\n",
              "      cursor: pointer;\n",
              "      display: none;\n",
              "      fill: #1967D2;\n",
              "      height: 32px;\n",
              "      padding: 0 0 0 0;\n",
              "      width: 32px;\n",
              "    }\n",
              "\n",
              "    .colab-df-convert:hover {\n",
              "      background-color: #E2EBFA;\n",
              "      box-shadow: 0px 1px 2px rgba(60, 64, 67, 0.3), 0px 1px 3px 1px rgba(60, 64, 67, 0.15);\n",
              "      fill: #174EA6;\n",
              "    }\n",
              "\n",
              "    [theme=dark] .colab-df-convert {\n",
              "      background-color: #3B4455;\n",
              "      fill: #D2E3FC;\n",
              "    }\n",
              "\n",
              "    [theme=dark] .colab-df-convert:hover {\n",
              "      background-color: #434B5C;\n",
              "      box-shadow: 0px 1px 3px 1px rgba(0, 0, 0, 0.15);\n",
              "      filter: drop-shadow(0px 1px 2px rgba(0, 0, 0, 0.3));\n",
              "      fill: #FFFFFF;\n",
              "    }\n",
              "  </style>\n",
              "\n",
              "      <script>\n",
              "        const buttonEl =\n",
              "          document.querySelector('#df-32ed1ff5-8c27-476f-9f26-b2d32a450529 button.colab-df-convert');\n",
              "        buttonEl.style.display =\n",
              "          google.colab.kernel.accessAllowed ? 'block' : 'none';\n",
              "\n",
              "        async function convertToInteractive(key) {\n",
              "          const element = document.querySelector('#df-32ed1ff5-8c27-476f-9f26-b2d32a450529');\n",
              "          const dataTable =\n",
              "            await google.colab.kernel.invokeFunction('convertToInteractive',\n",
              "                                                     [key], {});\n",
              "          if (!dataTable) return;\n",
              "\n",
              "          const docLinkHtml = 'Like what you see? Visit the ' +\n",
              "            '<a target=\"_blank\" href=https://colab.research.google.com/notebooks/data_table.ipynb>data table notebook</a>'\n",
              "            + ' to learn more about interactive tables.';\n",
              "          element.innerHTML = '';\n",
              "          dataTable['output_type'] = 'display_data';\n",
              "          await google.colab.output.renderOutput(dataTable, element);\n",
              "          const docLink = document.createElement('div');\n",
              "          docLink.innerHTML = docLinkHtml;\n",
              "          element.appendChild(docLink);\n",
              "        }\n",
              "      </script>\n",
              "    </div>\n",
              "  </div>\n",
              "  "
            ]
          },
          "metadata": {},
          "execution_count": 7
        }
      ],
      "source": [
        "df"
      ]
    },
    {
      "cell_type": "markdown",
      "metadata": {
        "id": "q_QHmhGma5z_"
      },
      "source": [
        "# Preprocessing of Data"
      ]
    },
    {
      "cell_type": "markdown",
      "metadata": {
        "id": "Sd5AJf-Ea5z_"
      },
      "source": [
        "## Train Test Split"
      ]
    },
    {
      "cell_type": "code",
      "execution_count": 8,
      "metadata": {
        "colab": {
          "base_uri": "https://localhost:8080/"
        },
        "id": "6AXGIfqOa5z_",
        "outputId": "dda43f73-7503-4b67-b9f7-41e11b409392"
      },
      "outputs": [
        {
          "output_type": "execute_result",
          "data": {
            "text/plain": [
              "501"
            ]
          },
          "metadata": {},
          "execution_count": 8
        }
      ],
      "source": [
        "len(df)"
      ]
    },
    {
      "cell_type": "code",
      "execution_count": 9,
      "metadata": {
        "id": "o_bK3uMIa50A"
      },
      "outputs": [],
      "source": [
        "test_percent = 0.15"
      ]
    },
    {
      "cell_type": "code",
      "execution_count": 10,
      "metadata": {
        "colab": {
          "base_uri": "https://localhost:8080/"
        },
        "id": "iKIEOydSa50A",
        "outputId": "28667555-208f-4382-f989-fbb62bd2ec87"
      },
      "outputs": [
        {
          "output_type": "execute_result",
          "data": {
            "text/plain": [
              "75.14999999999999"
            ]
          },
          "metadata": {},
          "execution_count": 10
        }
      ],
      "source": [
        "len(df)*test_percent"
      ]
    },
    {
      "cell_type": "code",
      "execution_count": 11,
      "metadata": {
        "colab": {
          "base_uri": "https://localhost:8080/"
        },
        "id": "KiN-RSWBa50A",
        "outputId": "1a0db03e-5408-4c7f-fc00-d7f56513ecee"
      },
      "outputs": [
        {
          "output_type": "execute_result",
          "data": {
            "text/plain": [
              "75.0"
            ]
          },
          "metadata": {},
          "execution_count": 11
        }
      ],
      "source": [
        "test_point = np.round(len(df)*test_percent)\n",
        "test_point"
      ]
    },
    {
      "cell_type": "code",
      "execution_count": 12,
      "metadata": {
        "colab": {
          "base_uri": "https://localhost:8080/"
        },
        "id": "Btob1_Owa50B",
        "outputId": "e51c65fa-47e1-4d8e-ff1a-1c2ff7a0f4cc"
      },
      "outputs": [
        {
          "output_type": "execute_result",
          "data": {
            "text/plain": [
              "426"
            ]
          },
          "metadata": {},
          "execution_count": 12
        }
      ],
      "source": [
        "test_ind = int(len(df) - test_point)\n",
        "test_ind"
      ]
    },
    {
      "cell_type": "code",
      "execution_count": 13,
      "metadata": {
        "id": "ii8MYxV1a50B"
      },
      "outputs": [],
      "source": [
        "train = df.iloc[:test_ind]\n",
        "test = df.iloc[test_ind:]"
      ]
    },
    {
      "cell_type": "code",
      "execution_count": 14,
      "metadata": {
        "colab": {
          "base_uri": "https://localhost:8080/",
          "height": 424
        },
        "id": "lFr5PkuWa50B",
        "outputId": "9ac6b390-b878-4e83-aef5-c929918ec0d4",
        "scrolled": true
      },
      "outputs": [
        {
          "output_type": "execute_result",
          "data": {
            "text/plain": [
              "         Sine\n",
              "0.000   0.000\n",
              "0.100   0.100\n",
              "0.200   0.199\n",
              "0.300   0.296\n",
              "0.400   0.389\n",
              "...       ...\n",
              "42.100 -0.952\n",
              "42.200 -0.978\n",
              "42.300 -0.994\n",
              "42.400 -1.000\n",
              "42.500 -0.996\n",
              "\n",
              "[426 rows x 1 columns]"
            ],
            "text/html": [
              "\n",
              "  <div id=\"df-e2c7ce08-f3d2-4595-9bef-c660e62f0161\">\n",
              "    <div class=\"colab-df-container\">\n",
              "      <div>\n",
              "<style scoped>\n",
              "    .dataframe tbody tr th:only-of-type {\n",
              "        vertical-align: middle;\n",
              "    }\n",
              "\n",
              "    .dataframe tbody tr th {\n",
              "        vertical-align: top;\n",
              "    }\n",
              "\n",
              "    .dataframe thead th {\n",
              "        text-align: right;\n",
              "    }\n",
              "</style>\n",
              "<table border=\"1\" class=\"dataframe\">\n",
              "  <thead>\n",
              "    <tr style=\"text-align: right;\">\n",
              "      <th></th>\n",
              "      <th>Sine</th>\n",
              "    </tr>\n",
              "  </thead>\n",
              "  <tbody>\n",
              "    <tr>\n",
              "      <th>0.000</th>\n",
              "      <td>0.000</td>\n",
              "    </tr>\n",
              "    <tr>\n",
              "      <th>0.100</th>\n",
              "      <td>0.100</td>\n",
              "    </tr>\n",
              "    <tr>\n",
              "      <th>0.200</th>\n",
              "      <td>0.199</td>\n",
              "    </tr>\n",
              "    <tr>\n",
              "      <th>0.300</th>\n",
              "      <td>0.296</td>\n",
              "    </tr>\n",
              "    <tr>\n",
              "      <th>0.400</th>\n",
              "      <td>0.389</td>\n",
              "    </tr>\n",
              "    <tr>\n",
              "      <th>...</th>\n",
              "      <td>...</td>\n",
              "    </tr>\n",
              "    <tr>\n",
              "      <th>42.100</th>\n",
              "      <td>-0.952</td>\n",
              "    </tr>\n",
              "    <tr>\n",
              "      <th>42.200</th>\n",
              "      <td>-0.978</td>\n",
              "    </tr>\n",
              "    <tr>\n",
              "      <th>42.300</th>\n",
              "      <td>-0.994</td>\n",
              "    </tr>\n",
              "    <tr>\n",
              "      <th>42.400</th>\n",
              "      <td>-1.000</td>\n",
              "    </tr>\n",
              "    <tr>\n",
              "      <th>42.500</th>\n",
              "      <td>-0.996</td>\n",
              "    </tr>\n",
              "  </tbody>\n",
              "</table>\n",
              "<p>426 rows × 1 columns</p>\n",
              "</div>\n",
              "      <button class=\"colab-df-convert\" onclick=\"convertToInteractive('df-e2c7ce08-f3d2-4595-9bef-c660e62f0161')\"\n",
              "              title=\"Convert this dataframe to an interactive table.\"\n",
              "              style=\"display:none;\">\n",
              "        \n",
              "  <svg xmlns=\"http://www.w3.org/2000/svg\" height=\"24px\"viewBox=\"0 0 24 24\"\n",
              "       width=\"24px\">\n",
              "    <path d=\"M0 0h24v24H0V0z\" fill=\"none\"/>\n",
              "    <path d=\"M18.56 5.44l.94 2.06.94-2.06 2.06-.94-2.06-.94-.94-2.06-.94 2.06-2.06.94zm-11 1L8.5 8.5l.94-2.06 2.06-.94-2.06-.94L8.5 2.5l-.94 2.06-2.06.94zm10 10l.94 2.06.94-2.06 2.06-.94-2.06-.94-.94-2.06-.94 2.06-2.06.94z\"/><path d=\"M17.41 7.96l-1.37-1.37c-.4-.4-.92-.59-1.43-.59-.52 0-1.04.2-1.43.59L10.3 9.45l-7.72 7.72c-.78.78-.78 2.05 0 2.83L4 21.41c.39.39.9.59 1.41.59.51 0 1.02-.2 1.41-.59l7.78-7.78 2.81-2.81c.8-.78.8-2.07 0-2.86zM5.41 20L4 18.59l7.72-7.72 1.47 1.35L5.41 20z\"/>\n",
              "  </svg>\n",
              "      </button>\n",
              "      \n",
              "  <style>\n",
              "    .colab-df-container {\n",
              "      display:flex;\n",
              "      flex-wrap:wrap;\n",
              "      gap: 12px;\n",
              "    }\n",
              "\n",
              "    .colab-df-convert {\n",
              "      background-color: #E8F0FE;\n",
              "      border: none;\n",
              "      border-radius: 50%;\n",
              "      cursor: pointer;\n",
              "      display: none;\n",
              "      fill: #1967D2;\n",
              "      height: 32px;\n",
              "      padding: 0 0 0 0;\n",
              "      width: 32px;\n",
              "    }\n",
              "\n",
              "    .colab-df-convert:hover {\n",
              "      background-color: #E2EBFA;\n",
              "      box-shadow: 0px 1px 2px rgba(60, 64, 67, 0.3), 0px 1px 3px 1px rgba(60, 64, 67, 0.15);\n",
              "      fill: #174EA6;\n",
              "    }\n",
              "\n",
              "    [theme=dark] .colab-df-convert {\n",
              "      background-color: #3B4455;\n",
              "      fill: #D2E3FC;\n",
              "    }\n",
              "\n",
              "    [theme=dark] .colab-df-convert:hover {\n",
              "      background-color: #434B5C;\n",
              "      box-shadow: 0px 1px 3px 1px rgba(0, 0, 0, 0.15);\n",
              "      filter: drop-shadow(0px 1px 2px rgba(0, 0, 0, 0.3));\n",
              "      fill: #FFFFFF;\n",
              "    }\n",
              "  </style>\n",
              "\n",
              "      <script>\n",
              "        const buttonEl =\n",
              "          document.querySelector('#df-e2c7ce08-f3d2-4595-9bef-c660e62f0161 button.colab-df-convert');\n",
              "        buttonEl.style.display =\n",
              "          google.colab.kernel.accessAllowed ? 'block' : 'none';\n",
              "\n",
              "        async function convertToInteractive(key) {\n",
              "          const element = document.querySelector('#df-e2c7ce08-f3d2-4595-9bef-c660e62f0161');\n",
              "          const dataTable =\n",
              "            await google.colab.kernel.invokeFunction('convertToInteractive',\n",
              "                                                     [key], {});\n",
              "          if (!dataTable) return;\n",
              "\n",
              "          const docLinkHtml = 'Like what you see? Visit the ' +\n",
              "            '<a target=\"_blank\" href=https://colab.research.google.com/notebooks/data_table.ipynb>data table notebook</a>'\n",
              "            + ' to learn more about interactive tables.';\n",
              "          element.innerHTML = '';\n",
              "          dataTable['output_type'] = 'display_data';\n",
              "          await google.colab.output.renderOutput(dataTable, element);\n",
              "          const docLink = document.createElement('div');\n",
              "          docLink.innerHTML = docLinkHtml;\n",
              "          element.appendChild(docLink);\n",
              "        }\n",
              "      </script>\n",
              "    </div>\n",
              "  </div>\n",
              "  "
            ]
          },
          "metadata": {},
          "execution_count": 14
        }
      ],
      "source": [
        "train"
      ]
    },
    {
      "cell_type": "code",
      "execution_count": 15,
      "metadata": {
        "colab": {
          "base_uri": "https://localhost:8080/",
          "height": 424
        },
        "id": "fRVtfuy9a50C",
        "outputId": "8e3d577c-8e47-4666-b69b-27499bf34dfe",
        "scrolled": true
      },
      "outputs": [
        {
          "output_type": "execute_result",
          "data": {
            "text/plain": [
              "         Sine\n",
              "42.600 -0.982\n",
              "42.700 -0.959\n",
              "42.800 -0.925\n",
              "42.900 -0.883\n",
              "43.000 -0.832\n",
              "...       ...\n",
              "49.600 -0.617\n",
              "49.700 -0.536\n",
              "49.800 -0.449\n",
              "49.900 -0.357\n",
              "50.000 -0.262\n",
              "\n",
              "[75 rows x 1 columns]"
            ],
            "text/html": [
              "\n",
              "  <div id=\"df-576ae65e-80ed-46d4-80c2-709d70a71359\">\n",
              "    <div class=\"colab-df-container\">\n",
              "      <div>\n",
              "<style scoped>\n",
              "    .dataframe tbody tr th:only-of-type {\n",
              "        vertical-align: middle;\n",
              "    }\n",
              "\n",
              "    .dataframe tbody tr th {\n",
              "        vertical-align: top;\n",
              "    }\n",
              "\n",
              "    .dataframe thead th {\n",
              "        text-align: right;\n",
              "    }\n",
              "</style>\n",
              "<table border=\"1\" class=\"dataframe\">\n",
              "  <thead>\n",
              "    <tr style=\"text-align: right;\">\n",
              "      <th></th>\n",
              "      <th>Sine</th>\n",
              "    </tr>\n",
              "  </thead>\n",
              "  <tbody>\n",
              "    <tr>\n",
              "      <th>42.600</th>\n",
              "      <td>-0.982</td>\n",
              "    </tr>\n",
              "    <tr>\n",
              "      <th>42.700</th>\n",
              "      <td>-0.959</td>\n",
              "    </tr>\n",
              "    <tr>\n",
              "      <th>42.800</th>\n",
              "      <td>-0.925</td>\n",
              "    </tr>\n",
              "    <tr>\n",
              "      <th>42.900</th>\n",
              "      <td>-0.883</td>\n",
              "    </tr>\n",
              "    <tr>\n",
              "      <th>43.000</th>\n",
              "      <td>-0.832</td>\n",
              "    </tr>\n",
              "    <tr>\n",
              "      <th>...</th>\n",
              "      <td>...</td>\n",
              "    </tr>\n",
              "    <tr>\n",
              "      <th>49.600</th>\n",
              "      <td>-0.617</td>\n",
              "    </tr>\n",
              "    <tr>\n",
              "      <th>49.700</th>\n",
              "      <td>-0.536</td>\n",
              "    </tr>\n",
              "    <tr>\n",
              "      <th>49.800</th>\n",
              "      <td>-0.449</td>\n",
              "    </tr>\n",
              "    <tr>\n",
              "      <th>49.900</th>\n",
              "      <td>-0.357</td>\n",
              "    </tr>\n",
              "    <tr>\n",
              "      <th>50.000</th>\n",
              "      <td>-0.262</td>\n",
              "    </tr>\n",
              "  </tbody>\n",
              "</table>\n",
              "<p>75 rows × 1 columns</p>\n",
              "</div>\n",
              "      <button class=\"colab-df-convert\" onclick=\"convertToInteractive('df-576ae65e-80ed-46d4-80c2-709d70a71359')\"\n",
              "              title=\"Convert this dataframe to an interactive table.\"\n",
              "              style=\"display:none;\">\n",
              "        \n",
              "  <svg xmlns=\"http://www.w3.org/2000/svg\" height=\"24px\"viewBox=\"0 0 24 24\"\n",
              "       width=\"24px\">\n",
              "    <path d=\"M0 0h24v24H0V0z\" fill=\"none\"/>\n",
              "    <path d=\"M18.56 5.44l.94 2.06.94-2.06 2.06-.94-2.06-.94-.94-2.06-.94 2.06-2.06.94zm-11 1L8.5 8.5l.94-2.06 2.06-.94-2.06-.94L8.5 2.5l-.94 2.06-2.06.94zm10 10l.94 2.06.94-2.06 2.06-.94-2.06-.94-.94-2.06-.94 2.06-2.06.94z\"/><path d=\"M17.41 7.96l-1.37-1.37c-.4-.4-.92-.59-1.43-.59-.52 0-1.04.2-1.43.59L10.3 9.45l-7.72 7.72c-.78.78-.78 2.05 0 2.83L4 21.41c.39.39.9.59 1.41.59.51 0 1.02-.2 1.41-.59l7.78-7.78 2.81-2.81c.8-.78.8-2.07 0-2.86zM5.41 20L4 18.59l7.72-7.72 1.47 1.35L5.41 20z\"/>\n",
              "  </svg>\n",
              "      </button>\n",
              "      \n",
              "  <style>\n",
              "    .colab-df-container {\n",
              "      display:flex;\n",
              "      flex-wrap:wrap;\n",
              "      gap: 12px;\n",
              "    }\n",
              "\n",
              "    .colab-df-convert {\n",
              "      background-color: #E8F0FE;\n",
              "      border: none;\n",
              "      border-radius: 50%;\n",
              "      cursor: pointer;\n",
              "      display: none;\n",
              "      fill: #1967D2;\n",
              "      height: 32px;\n",
              "      padding: 0 0 0 0;\n",
              "      width: 32px;\n",
              "    }\n",
              "\n",
              "    .colab-df-convert:hover {\n",
              "      background-color: #E2EBFA;\n",
              "      box-shadow: 0px 1px 2px rgba(60, 64, 67, 0.3), 0px 1px 3px 1px rgba(60, 64, 67, 0.15);\n",
              "      fill: #174EA6;\n",
              "    }\n",
              "\n",
              "    [theme=dark] .colab-df-convert {\n",
              "      background-color: #3B4455;\n",
              "      fill: #D2E3FC;\n",
              "    }\n",
              "\n",
              "    [theme=dark] .colab-df-convert:hover {\n",
              "      background-color: #434B5C;\n",
              "      box-shadow: 0px 1px 3px 1px rgba(0, 0, 0, 0.15);\n",
              "      filter: drop-shadow(0px 1px 2px rgba(0, 0, 0, 0.3));\n",
              "      fill: #FFFFFF;\n",
              "    }\n",
              "  </style>\n",
              "\n",
              "      <script>\n",
              "        const buttonEl =\n",
              "          document.querySelector('#df-576ae65e-80ed-46d4-80c2-709d70a71359 button.colab-df-convert');\n",
              "        buttonEl.style.display =\n",
              "          google.colab.kernel.accessAllowed ? 'block' : 'none';\n",
              "\n",
              "        async function convertToInteractive(key) {\n",
              "          const element = document.querySelector('#df-576ae65e-80ed-46d4-80c2-709d70a71359');\n",
              "          const dataTable =\n",
              "            await google.colab.kernel.invokeFunction('convertToInteractive',\n",
              "                                                     [key], {});\n",
              "          if (!dataTable) return;\n",
              "\n",
              "          const docLinkHtml = 'Like what you see? Visit the ' +\n",
              "            '<a target=\"_blank\" href=https://colab.research.google.com/notebooks/data_table.ipynb>data table notebook</a>'\n",
              "            + ' to learn more about interactive tables.';\n",
              "          element.innerHTML = '';\n",
              "          dataTable['output_type'] = 'display_data';\n",
              "          await google.colab.output.renderOutput(dataTable, element);\n",
              "          const docLink = document.createElement('div');\n",
              "          docLink.innerHTML = docLinkHtml;\n",
              "          element.appendChild(docLink);\n",
              "        }\n",
              "      </script>\n",
              "    </div>\n",
              "  </div>\n",
              "  "
            ]
          },
          "metadata": {},
          "execution_count": 15
        }
      ],
      "source": [
        "test"
      ]
    },
    {
      "cell_type": "markdown",
      "metadata": {
        "id": "d32jXwIBa50C"
      },
      "source": [
        "## Scaling"
      ]
    },
    {
      "cell_type": "code",
      "execution_count": 16,
      "metadata": {
        "id": "o0q82DLTa50C"
      },
      "outputs": [],
      "source": [
        "from sklearn.preprocessing import MinMaxScaler"
      ]
    },
    {
      "cell_type": "code",
      "execution_count": 17,
      "metadata": {
        "id": "7OBP0_6Ga50C"
      },
      "outputs": [],
      "source": [
        "scaler = MinMaxScaler()"
      ]
    },
    {
      "cell_type": "code",
      "execution_count": 18,
      "metadata": {
        "id": "ruSa8e9ua50C"
      },
      "outputs": [],
      "source": [
        "train_scaled = scaler.fit_transform(train)\n",
        "test_scaled = scaler.transform(test)"
      ]
    },
    {
      "cell_type": "markdown",
      "metadata": {
        "id": "MiMpTzGaa50D"
      },
      "source": [
        "## Time Series Generator"
      ]
    },
    {
      "cell_type": "code",
      "execution_count": 19,
      "metadata": {
        "id": "P2M37PN2a50D"
      },
      "outputs": [],
      "source": [
        "from tensorflow.keras.preprocessing.sequence import TimeseriesGenerator"
      ]
    },
    {
      "cell_type": "code",
      "execution_count": 20,
      "metadata": {
        "id": "GjFXuO4Xa50D"
      },
      "outputs": [],
      "source": [
        "#help(TimeseriesGenerator)"
      ]
    },
    {
      "cell_type": "code",
      "execution_count": 21,
      "metadata": {
        "id": "Y49IyTBfa50D"
      },
      "outputs": [],
      "source": [
        "# define generator\n",
        "length = 3 # Length of the output sequences (in number of timesteps)\n",
        "batch_size = 1 # Number of timeseries samples in each batch\n",
        "stride = 1 # Period between successive output sequences\n",
        "generator = TimeseriesGenerator(data = train_scaled,\n",
        "                                targets = train_scaled, # train sequence and target sequence are in same column\n",
        "                                length = length,\n",
        "                                batch_size = batch_size,\n",
        "                                stride = stride)"
      ]
    },
    {
      "cell_type": "code",
      "execution_count": 22,
      "metadata": {
        "colab": {
          "base_uri": "https://localhost:8080/"
        },
        "id": "1YYNFcIDa50D",
        "outputId": "3a55339d-1c37-4188-f498-1f248372e306"
      },
      "outputs": [
        {
          "output_type": "execute_result",
          "data": {
            "text/plain": [
              "426"
            ]
          },
          "metadata": {},
          "execution_count": 22
        }
      ],
      "source": [
        "len(train_scaled)"
      ]
    },
    {
      "cell_type": "code",
      "execution_count": 23,
      "metadata": {
        "colab": {
          "base_uri": "https://localhost:8080/"
        },
        "id": "3NQXYq27a50D",
        "outputId": "7bf5b83c-ff19-46c6-d781-eb929852a46d"
      },
      "outputs": [
        {
          "output_type": "execute_result",
          "data": {
            "text/plain": [
              "423"
            ]
          },
          "metadata": {},
          "execution_count": 23
        }
      ],
      "source": [
        "len(generator) # = (len(train)-lenght)/(batch_size*stride) "
      ]
    },
    {
      "cell_type": "code",
      "execution_count": 24,
      "metadata": {
        "colab": {
          "base_uri": "https://localhost:8080/"
        },
        "id": "LQ2hybSMa50E",
        "outputId": "febaac9b-da7e-42bb-ffc0-e5f76c106be8"
      },
      "outputs": [
        {
          "output_type": "execute_result",
          "data": {
            "text/plain": [
              "<keras.preprocessing.sequence.TimeseriesGenerator at 0x7f892945ced0>"
            ]
          },
          "metadata": {},
          "execution_count": 24
        }
      ],
      "source": [
        "generator"
      ]
    },
    {
      "cell_type": "code",
      "execution_count": 25,
      "metadata": {
        "colab": {
          "base_uri": "https://localhost:8080/"
        },
        "id": "xXzGt8eL2w8G",
        "outputId": "7f534ff6-7ac0-4606-9653-aa10b15fe04b"
      },
      "outputs": [
        {
          "output_type": "execute_result",
          "data": {
            "text/plain": [
              "array([[4.99999116e-01],\n",
              "       [5.49916225e-01],\n",
              "       [5.99334579e-01],\n",
              "       [6.47760405e-01],\n",
              "       [6.94709850e-01],\n",
              "       [7.39713809e-01],\n",
              "       [7.82322618e-01],\n",
              "       [8.22110545e-01],\n",
              "       [8.58680040e-01],\n",
              "       [8.91665714e-01],\n",
              "       [9.20737985e-01],\n",
              "       [9.45606372e-01],\n",
              "       [9.66022399e-01],\n",
              "       [9.81782075e-01],\n",
              "       [9.92727935e-01],\n",
              "       [9.98750612e-01],\n",
              "       [9.99789928e-01],\n",
              "       [9.95835500e-01],\n",
              "       [9.86926839e-01],\n",
              "       [9.73152957e-01],\n",
              "       [9.54651478e-01],\n",
              "       [9.31607263e-01],\n",
              "       [9.04250562e-01],\n",
              "       [8.72854714e-01],\n",
              "       [8.37733417e-01],\n",
              "       [7.99237589e-01],\n",
              "       [7.57751870e-01],\n",
              "       [7.13690771e-01],\n",
              "       [6.67494535e-01],\n",
              "       [6.19624741e-01],\n",
              "       [5.70559686e-01],\n",
              "       [5.20789614e-01],\n",
              "       [4.70811810e-01],\n",
              "       [4.21125636e-01],\n",
              "       [3.72227539e-01],\n",
              "       [3.24606094e-01],\n",
              "       [2.78737119e-01],\n",
              "       [2.35078919e-01],\n",
              "       [1.94067715e-01],\n",
              "       [1.56113277e-01],\n",
              "       [1.21594831e-01],\n",
              "       [9.08572769e-02],\n",
              "       [6.42077324e-02],\n",
              "       [4.19124713e-02],\n",
              "       [2.41942605e-02],\n",
              "       [1.12301346e-02],\n",
              "       [3.14962674e-03],\n",
              "       [3.34747619e-05],\n",
              "       [1.91281421e-03],\n",
              "       [8.76886734e-03],\n",
              "       [2.05331307e-02],\n",
              "       [3.70880598e-02],\n",
              "       [5.82682430e-02],\n",
              "       [8.38620552e-02],\n",
              "       [1.13613771e-01],\n",
              "       [1.47226122e-01],\n",
              "       [1.84363264e-01],\n",
              "       [2.24654135e-01],\n",
              "       [2.67696162e-01],\n",
              "       [3.13059283e-01],\n",
              "       [3.60290246e-01],\n",
              "       [4.08917133e-01],\n",
              "       [4.58454081e-01],\n",
              "       [5.08406134e-01],\n",
              "       [5.58274186e-01],\n",
              "       [6.07559973e-01],\n",
              "       [6.55771048e-01],\n",
              "       [7.02425701e-01],\n",
              "       [7.47057774e-01],\n",
              "       [7.89221319e-01],\n",
              "       [8.28495052e-01],\n",
              "       [8.64486561e-01],\n",
              "       [8.96836233e-01],\n",
              "       [9.25220839e-01],\n",
              "       [9.49356770e-01],\n",
              "       [9.69002868e-01],\n",
              "       [9.83962836e-01],\n",
              "       [9.94087198e-01],\n",
              "       [9.99274795e-01],\n",
              "       [9.99473795e-01],\n",
              "       [9.94682209e-01],\n",
              "       [9.84947913e-01],\n",
              "       [9.70368169e-01],\n",
              "       [9.51088653e-01],\n",
              "       [9.27301999e-01],\n",
              "       [8.99245876e-01],\n",
              "       [8.67200612e-01],\n",
              "       [8.31486391e-01],\n",
              "       [7.92460059e-01],\n",
              "       [7.50511555e-01],\n",
              "       [7.06060012e-01],\n",
              "       [6.59549578e-01],\n",
              "       [6.11444967e-01],\n",
              "       [5.62226827e-01],\n",
              "       [5.12386928e-01],\n",
              "       [4.62423254e-01],\n",
              "       [4.12835026e-01],\n",
              "       [3.64117712e-01],\n",
              "       [3.16758081e-01],\n",
              "       [2.71229333e-01],\n",
              "       [2.27986377e-01],\n",
              "       [1.87461283e-01],\n",
              "       [1.50058964e-01],\n",
              "       [1.16153131e-01],\n",
              "       [8.60825596e-02],\n",
              "       [6.01477060e-02],\n",
              "       [3.86077023e-02],\n",
              "       [2.16777691e-02],\n",
              "       [9.52706470e-03],\n",
              "       [2.27699490e-03],\n",
              "       [0.00000000e+00],\n",
              "       [2.71883099e-03],\n",
              "       [1.04063222e-02],\n",
              "       [2.29856628e-02],\n",
              "       [4.03311641e-02],\n",
              "       [6.22695157e-02],\n",
              "       [8.85815167e-02],\n",
              "       [1.19004266e-01],\n",
              "       [1.53233791e-01],\n",
              "       [1.90928079e-01],\n",
              "       [2.31710504e-01],\n",
              "       [2.75173579e-01],\n",
              "       [3.20883037e-01],\n",
              "       [3.68382164e-01],\n",
              "       [4.17196364e-01],\n",
              "       [4.66837901e-01],\n",
              "       [5.16810774e-01],\n",
              "       [5.66615671e-01],\n",
              "       [6.15754957e-01],\n",
              "       [6.63737650e-01],\n",
              "       [7.10084320e-01],\n",
              "       [7.54331889e-01],\n",
              "       [7.96038249e-01],\n",
              "       [8.34786684e-01],\n",
              "       [8.70190032e-01],\n",
              "       [9.01894555e-01],\n",
              "       [9.29583471e-01],\n",
              "       [9.52980122e-01],\n",
              "       [9.71850737e-01],\n",
              "       [9.86006767e-01],\n",
              "       [9.95306769e-01],\n",
              "       [9.99657820e-01],\n",
              "       [9.99016447e-01],\n",
              "       [9.93389058e-01],\n",
              "       [9.82831879e-01],\n",
              "       [9.67450395e-01],\n",
              "       [9.47398292e-01],\n",
              "       [9.22875925e-01],\n",
              "       [8.94128313e-01],\n",
              "       [8.61442691e-01],\n",
              "       [8.25145645e-01],\n",
              "       [7.85599843e-01],\n",
              "       [7.43200412e-01],\n",
              "       [6.98370994e-01],\n",
              "       [6.51559511e-01],\n",
              "       [6.03233685e-01],\n",
              "       [5.53876374e-01],\n",
              "       [5.03980740e-01],\n",
              "       [4.54045322e-01],\n",
              "       [4.04569059e-01],\n",
              "       [3.56046302e-01],\n",
              "       [3.08961874e-01],\n",
              "       [2.63786227e-01],\n",
              "       [2.20970741e-01],\n",
              "       [1.80943214e-01],\n",
              "       [1.44103589e-01],\n",
              "       [1.10819953e-01],\n",
              "       [8.14248677e-02],\n",
              "       [5.62120376e-02],\n",
              "       [3.54333813e-02],\n",
              "       [1.92965122e-02],\n",
              "       [7.96266464e-03],\n",
              "       [1.54508265e-03],\n",
              "       [1.07888605e-04],\n",
              "       [3.66544246e-03],\n",
              "       [1.21821983e-02],\n",
              "       [2.55730595e-02],\n",
              "       [4.37042291e-02],\n",
              "       [6.63945464e-02],\n",
              "       [9.34172971e-02],\n",
              "       [1.24502479e-01],\n",
              "       [1.59339499e-01],\n",
              "       [1.97580278e-01],\n",
              "       [2.38842725e-01],\n",
              "       [2.82714561e-01],\n",
              "       [3.28757432e-01],\n",
              "       [3.76511294e-01],\n",
              "       [4.25499005e-01],\n",
              "       [4.75231097e-01],\n",
              "       [5.25210662e-01],\n",
              "       [5.74938322e-01],\n",
              "       [6.23917214e-01],\n",
              "       [6.71657958e-01],\n",
              "       [7.17683543e-01],\n",
              "       [7.61534097e-01],\n",
              "       [8.02771481e-01],\n",
              "       [8.40983662e-01],\n",
              "       [8.75788839e-01],\n",
              "       [9.06839250e-01],\n",
              "       [9.33824648e-01],\n",
              "       [9.56475405e-01],\n",
              "       [9.74565201e-01],\n",
              "       [9.87913290e-01],\n",
              "       [9.96386302e-01],\n",
              "       [9.99899578e-01],\n",
              "       [9.98418013e-01],\n",
              "       [9.91956411e-01],\n",
              "       [9.80579335e-01],\n",
              "       [9.64400460e-01],\n",
              "       [9.43581440e-01],\n",
              "       [9.18330292e-01],\n",
              "       [8.88899318e-01],\n",
              "       [8.55582581e-01],\n",
              "       [8.18712972e-01],\n",
              "       [7.78658879e-01],\n",
              "       [7.35820510e-01],\n",
              "       [6.90625892e-01],\n",
              "       [6.43526593e-01],\n",
              "       [5.94993216e-01],\n",
              "       [5.45510689e-01],\n",
              "       [4.95573426e-01],\n",
              "       [4.45680382e-01],\n",
              "       [3.96330074e-01],\n",
              "       [3.48015592e-01],\n",
              "       [3.01219679e-01],\n",
              "       [2.56409905e-01],\n",
              "       [2.14033993e-01],\n",
              "       [1.74515351e-01],\n",
              "       [1.38248835e-01],\n",
              "       [1.05596808e-01],\n",
              "       [7.68855182e-02],\n",
              "       [5.24018399e-02],\n",
              "       [3.23904056e-02],\n",
              "       [1.70511630e-02],\n",
              "       [6.53737668e-03],\n",
              "       [9.54096943e-04],\n",
              "       [3.57110073e-04],\n",
              "       [4.75238097e-03],\n",
              "       [1.40959935e-02],\n",
              "       [2.82945895e-02],\n",
              "       [4.72063011e-02],\n",
              "       [7.06421689e-02],\n",
              "       [9.83680294e-02],\n",
              "       [1.30106855e-01],\n",
              "       [1.65541522e-01],\n",
              "       [2.04317978e-01],\n",
              "       [2.46048783e-01],\n",
              "       [2.90316975e-01],\n",
              "       [3.36680242e-01],\n",
              "       [3.84675337e-01],\n",
              "       [4.33822710e-01],\n",
              "       [4.83631295e-01],\n",
              "       [5.33603422e-01],\n",
              "       [5.83239786e-01],\n",
              "       [6.32044436e-01],\n",
              "       [6.79529734e-01],\n",
              "       [7.25221221e-01],\n",
              "       [7.68662363e-01],\n",
              "       [8.09419110e-01],\n",
              "       [8.47084236e-01],\n",
              "       [8.81281401e-01],\n",
              "       [9.11668920e-01],\n",
              "       [9.37943170e-01],\n",
              "       [9.59841629e-01],\n",
              "       [9.77145492e-01],\n",
              "       [9.89681867e-01],\n",
              "       [9.97325494e-01],\n",
              "       [1.00000000e+00],\n",
              "       [9.97678662e-01],\n",
              "       [9.90384675e-01],\n",
              "       [9.78190918e-01],\n",
              "       [9.61219226e-01],\n",
              "       [9.39639175e-01],\n",
              "       [9.13666386e-01],\n",
              "       [8.83560370e-01],\n",
              "       [8.49621938e-01],\n",
              "       [8.12190189e-01],\n",
              "       [7.71639131e-01],\n",
              "       [7.28373935e-01],\n",
              "       [6.82826893e-01],\n",
              "       [6.35453097e-01],\n",
              "       [5.86725890e-01],\n",
              "       [5.37132137e-01],\n",
              "       [4.87167363e-01],\n",
              "       [4.37330800e-01],\n",
              "       [3.88120398e-01],\n",
              "       [3.40027851e-01],\n",
              "       [2.93533684e-01],\n",
              "       [2.49102452e-01],\n",
              "       [2.07178096e-01],\n",
              "       [1.68179511e-01],\n",
              "       [1.32496358e-01],\n",
              "       [1.00485170e-01],\n",
              "       [7.24657944e-02],\n",
              "       [4.87181901e-02],\n",
              "       [2.94796357e-02],\n",
              "       [1.49423563e-02],\n",
              "       [5.25160379e-03],\n",
              "       [5.04204848e-04],\n",
              "       [7.47593943e-04],\n",
              "       [5.97933921e-03],\n",
              "       [1.61471668e-02],\n",
              "       [3.11494831e-02],\n",
              "       [5.08363900e-02],\n",
              "       [7.50111823e-02],\n",
              "       [1.03432314e-01],\n",
              "       [1.35815809e-01],\n",
              "       [1.71838104e-01],\n",
              "       [2.11139276e-01],\n",
              "       [2.53326639e-01],\n",
              "       [2.97978672e-01],\n",
              "       [3.44649227e-01],\n",
              "       [3.92871986e-01],\n",
              "       [4.42165124e-01],\n",
              "       [4.92036121e-01],\n",
              "       [5.41986681e-01],\n",
              "       [5.91517715e-01],\n",
              "       [6.40134325e-01],\n",
              "       [6.87350751e-01],\n",
              "       [7.32695222e-01],\n",
              "       [7.75714669e-01],\n",
              "       [8.15979258e-01],\n",
              "       [8.53086678e-01],\n",
              "       [8.86666164e-01],\n",
              "       [9.16382200e-01],\n",
              "       [9.41937874e-01],\n",
              "       [9.63077843e-01],\n",
              "       [9.79590881e-01],\n",
              "       [9.91311998e-01],\n",
              "       [9.98124078e-01],\n",
              "       [9.99959058e-01],\n",
              "       [9.96798604e-01],\n",
              "       [9.88674294e-01],\n",
              "       [9.75667303e-01],\n",
              "       [9.57907592e-01],\n",
              "       [9.35572612e-01],\n",
              "       [9.08885525e-01],\n",
              "       [8.78112980e-01],\n",
              "       [8.43562446e-01],\n",
              "       [8.05579141e-01],\n",
              "       [7.64542582e-01],\n",
              "       [7.20862792e-01],\n",
              "       [6.74976205e-01],\n",
              "       [6.27341304e-01],\n",
              "       [5.78434043e-01],\n",
              "       [5.28743086e-01],\n",
              "       [4.78764928e-01],\n",
              "       [4.28998936e-01],\n",
              "       [3.79942353e-01],\n",
              "       [3.32085339e-01],\n",
              "       [2.85906063e-01],\n",
              "       [2.41865934e-01],\n",
              "       [2.00404987e-01],\n",
              "       [1.61937485e-01],\n",
              "       [1.26847783e-01],\n",
              "       [9.54864865e-02],\n",
              "       [6.81669460e-02],\n",
              "       [4.51621298e-02],\n",
              "       [2.67018944e-02],\n",
              "       [1.29706884e-02],\n",
              "       [4.10570950e-03],\n",
              "       [1.95533568e-04],\n",
              "       [1.27922981e-03],\n",
              "       [7.34597031e-03],\n",
              "       [1.83351382e-02],\n",
              "       [3.41369333e-02],\n",
              "       [5.45934694e-02],\n",
              "       [7.95003514e-02],\n",
              "       [1.08608718e-01],\n",
              "       [1.41627728e-01],\n",
              "       [1.78227467e-01],\n",
              "       [2.18042242e-01],\n",
              "       [2.60674236e-01],\n",
              "       [3.05697486e-01],\n",
              "       [3.52662133e-01],\n",
              "       [4.01098922e-01],\n",
              "       [4.50523890e-01],\n",
              "       [5.00443198e-01],\n",
              "       [5.50358069e-01],\n",
              "       [5.99769769e-01],\n",
              "       [6.48184595e-01],\n",
              "       [6.95118799e-01],\n",
              "       [7.40103433e-01],\n",
              "       [7.82689024e-01],\n",
              "       [8.22450070e-01],\n",
              "       [8.58989293e-01],\n",
              "       [8.91941605e-01],\n",
              "       [9.20977757e-01],\n",
              "       [9.45807630e-01],\n",
              "       [9.66183132e-01],\n",
              "       [9.81900676e-01],\n",
              "       [9.92803220e-01],\n",
              "       [9.98781828e-01],\n",
              "       [9.99776764e-01],\n",
              "       [9.95778087e-01],\n",
              "       [9.86825751e-01],\n",
              "       [9.73009203e-01],\n",
              "       [9.54466495e-01],\n",
              "       [9.31382900e-01],\n",
              "       [9.03989060e-01],\n",
              "       [8.72558686e-01],\n",
              "       [8.37405820e-01],\n",
              "       [7.98881698e-01],\n",
              "       [7.57371240e-01],\n",
              "       [7.13289205e-01],\n",
              "       [6.67076045e-01],\n",
              "       [6.19193508e-01],\n",
              "       [5.70120021e-01],\n",
              "       [5.20345908e-01],\n",
              "       [4.70368497e-01],\n",
              "       [4.20687145e-01],\n",
              "       [3.71798252e-01],\n",
              "       [3.24190300e-01],\n",
              "       [2.78338972e-01],\n",
              "       [2.34702398e-01],\n",
              "       [1.93716581e-01],\n",
              "       [1.55791039e-01],\n",
              "       [1.21304709e-01],\n",
              "       [9.06021693e-02],\n",
              "       [6.39901882e-02],\n",
              "       [4.17346643e-02],\n",
              "       [2.40579672e-02],\n",
              "       [1.11367167e-02],\n",
              "       [3.10001778e-03],\n",
              "       [2.81703720e-05],\n",
              "       [1.95186738e-03]])"
            ]
          },
          "metadata": {},
          "execution_count": 25
        }
      ],
      "source": [
        "train_scaled"
      ]
    },
    {
      "cell_type": "code",
      "execution_count": 26,
      "metadata": {
        "colab": {
          "base_uri": "https://localhost:8080/"
        },
        "id": "oX2euNnqa50E",
        "outputId": "8fe5bc3b-28bc-4438-f786-654e845f7675"
      },
      "outputs": [
        {
          "output_type": "execute_result",
          "data": {
            "text/plain": [
              "(array([[[0.49999912],\n",
              "         [0.54991622],\n",
              "         [0.59933458]]]), array([[0.64776041]]))"
            ]
          },
          "metadata": {},
          "execution_count": 26
        }
      ],
      "source": [
        "generator[0]"
      ]
    },
    {
      "cell_type": "code",
      "execution_count": 27,
      "metadata": {
        "id": "iXRQKq9La50E"
      },
      "outputs": [],
      "source": [
        "# What does the first batch look like?\n",
        "X, y = generator[0]"
      ]
    },
    {
      "cell_type": "code",
      "execution_count": 28,
      "metadata": {
        "colab": {
          "base_uri": "https://localhost:8080/"
        },
        "id": "vrAlxVXta50E",
        "outputId": "db2ab1d8-3bc6-4aa1-d118-617fea78aab1"
      },
      "outputs": [
        {
          "output_type": "stream",
          "name": "stdout",
          "text": [
            "Given the Array: \n",
            "[[[0.49999912]\n",
            "  [0.54991622]\n",
            "  [0.59933458]]]\n",
            "Predict this y: \n",
            "[[0.64776041]]\n"
          ]
        }
      ],
      "source": [
        "print(f'Given the Array: \\n{X}')\n",
        "print(f'Predict this y: \\n{y}')"
      ]
    },
    {
      "cell_type": "code",
      "execution_count": 29,
      "metadata": {
        "colab": {
          "base_uri": "https://localhost:8080/"
        },
        "id": "G_I8CsDda50E",
        "outputId": "052fd013-6f6e-48b3-803b-1ba725a0ba06",
        "scrolled": true
      },
      "outputs": [
        {
          "output_type": "execute_result",
          "data": {
            "text/plain": [
              "array([[0.49999912],\n",
              "       [0.54991622],\n",
              "       [0.59933458],\n",
              "       [0.64776041],\n",
              "       [0.69470985],\n",
              "       [0.73971381],\n",
              "       [0.78232262],\n",
              "       [0.82211054],\n",
              "       [0.85868004],\n",
              "       [0.89166571]])"
            ]
          },
          "metadata": {},
          "execution_count": 29
        }
      ],
      "source": [
        "train_scaled[:10]"
      ]
    },
    {
      "cell_type": "code",
      "execution_count": 30,
      "metadata": {
        "colab": {
          "base_uri": "https://localhost:8080/",
          "height": 282
        },
        "id": "vte40Zl8a50F",
        "outputId": "774fdf23-e9e3-4dbd-c7d4-0357a9ed8e2c"
      },
      "outputs": [
        {
          "output_type": "execute_result",
          "data": {
            "text/plain": [
              "<matplotlib.axes._subplots.AxesSubplot at 0x7f8929444e10>"
            ]
          },
          "metadata": {},
          "execution_count": 30
        },
        {
          "output_type": "display_data",
          "data": {
            "text/plain": [
              "<Figure size 432x288 with 1 Axes>"
            ],
            "image/png": "[encoded data removed]"
          },
          "metadata": {
            "needs_background": "light"
          }
        }
      ],
      "source": [
        "df.plot()"
      ]
    },
    {
      "cell_type": "markdown",
      "metadata": {
        "id": "HW70fbqUa50F"
      },
      "source": [
        "The more length the more training time"
      ]
    },
    {
      "cell_type": "code",
      "execution_count": 31,
      "metadata": {
        "id": "kOPUPLYVa50F"
      },
      "outputs": [],
      "source": [
        "length = 64 # Length of the output sequences (in number of timesteps)\n",
        "batch_size = 1 # Number of timeseries samples in each batch\n",
        "generator = TimeseriesGenerator(data = train_scaled, targets = train_scaled, length = length, batch_size = batch_size)"
      ]
    },
    {
      "cell_type": "code",
      "execution_count": 32,
      "metadata": {
        "id": "Okqi9vrIa50F"
      },
      "outputs": [],
      "source": [
        "# What does the first batch look like?\n",
        "X, y = generator[0]"
      ]
    },
    {
      "cell_type": "code",
      "execution_count": 33,
      "metadata": {
        "colab": {
          "base_uri": "https://localhost:8080/"
        },
        "id": "zqrORkHUa50F",
        "outputId": "ac5223dc-976e-49eb-aece-e7d5a1f65e15"
      },
      "outputs": [
        {
          "output_type": "execute_result",
          "data": {
            "text/plain": [
              "362"
            ]
          },
          "metadata": {},
          "execution_count": 33
        }
      ],
      "source": [
        "len(generator)"
      ]
    },
    {
      "cell_type": "code",
      "execution_count": 34,
      "metadata": {
        "colab": {
          "base_uri": "https://localhost:8080/"
        },
        "id": "lZhiEinfa50F",
        "outputId": "c20255f2-43e7-41a0-ec04-2cbc29f48bed"
      },
      "outputs": [
        {
          "output_type": "stream",
          "name": "stdout",
          "text": [
            "Given the Array: \n",
            "[4.99999116e-01 5.49916225e-01 5.99334579e-01 6.47760405e-01\n",
            " 6.94709850e-01 7.39713809e-01 7.82322618e-01 8.22110545e-01\n",
            " 8.58680040e-01 8.91665714e-01 9.20737985e-01 9.45606372e-01\n",
            " 9.66022399e-01 9.81782075e-01 9.92727935e-01 9.98750612e-01\n",
            " 9.99789928e-01 9.95835500e-01 9.86926839e-01 9.73152957e-01\n",
            " 9.54651478e-01 9.31607263e-01 9.04250562e-01 8.72854714e-01\n",
            " 8.37733417e-01 7.99237589e-01 7.57751870e-01 7.13690771e-01\n",
            " 6.67494535e-01 6.19624741e-01 5.70559686e-01 5.20789614e-01\n",
            " 4.70811810e-01 4.21125636e-01 3.72227539e-01 3.24606094e-01\n",
            " 2.78737119e-01 2.35078919e-01 1.94067715e-01 1.56113277e-01\n",
            " 1.21594831e-01 9.08572769e-02 6.42077324e-02 4.19124713e-02\n",
            " 2.41942605e-02 1.12301346e-02 3.14962674e-03 3.34747619e-05\n",
            " 1.91281421e-03 8.76886734e-03 2.05331307e-02 3.70880598e-02\n",
            " 5.82682430e-02 8.38620552e-02 1.13613771e-01 1.47226122e-01\n",
            " 1.84363264e-01 2.24654135e-01 2.67696162e-01 3.13059283e-01\n",
            " 3.60290246e-01 4.08917133e-01 4.58454081e-01 5.08406134e-01]\n",
            "Predict this y: \n",
            "[[0.55827419]]\n"
          ]
        }
      ],
      "source": [
        "print(f'Given the Array: \\n{X.flatten()}')\n",
        "print(f'Predict this y: \\n{y}')"
      ]
    },
    {
      "cell_type": "markdown",
      "metadata": {
        "id": "gFf31Jega50G"
      },
      "source": [
        "# Modelling with Simple RNN"
      ]
    },
    {
      "cell_type": "code",
      "execution_count": 35,
      "metadata": {
        "id": "Y4Ox4ZDma50G"
      },
      "outputs": [],
      "source": [
        "from tensorflow.keras.models import Sequential\n",
        "from tensorflow.keras.layers import Dense, SimpleRNN, LSTM"
      ]
    },
    {
      "cell_type": "code",
      "execution_count": 36,
      "metadata": {
        "id": "8yNcder-a50G"
      },
      "outputs": [],
      "source": [
        "# We're only using one feature in our time series\n",
        "n_features = 1"
      ]
    },
    {
      "cell_type": "code",
      "execution_count": 37,
      "metadata": {
        "id": "ndz8Jzu4a50G"
      },
      "outputs": [],
      "source": [
        "# define model\n",
        "model = Sequential()\n",
        "\n",
        "# Simple RNN layer\n",
        "model.add(SimpleRNN(units = 100, activation = \"tanh\", input_shape=(length, n_features))) # units are number of neuron \n",
        "\n",
        "# Final Prediction\n",
        "model.add(Dense(units = 1))\n",
        "\n",
        "model.compile(optimizer='adam', loss='mse')"
      ]
    },
    {
      "cell_type": "code",
      "execution_count": 63,
      "metadata": {
        "colab": {
          "base_uri": "https://localhost:8080/"
        },
        "id": "LRd19MW0a50G",
        "outputId": "30fdf48c-b614-4077-a997-49449ba9c01b",
        "scrolled": true
      },
      "outputs": [
        {
          "output_type": "stream",
          "name": "stdout",
          "text": [
            "Model: \"sequential\"\n",
            "_________________________________________________________________\n",
            " Layer (type)                Output Shape              Param #   \n",
            "=================================================================\n",
            " simple_rnn (SimpleRNN)      (None, 100)               10200     \n",
            "                                                                 \n",
            " dense (Dense)               (None, 1)                 101       \n",
            "                                                                 \n",
            "=================================================================\n",
            "Total params: 10,301\n",
            "Trainable params: 10,301\n",
            "Non-trainable params: 0\n",
            "_________________________________________________________________\n"
          ]
        }
      ],
      "source": [
        "model.summary()"
      ]
    },
    {
      "cell_type": "code",
      "execution_count": 64,
      "metadata": {
        "colab": {
          "base_uri": "https://localhost:8080/"
        },
        "id": "AhcKHzARa50G",
        "outputId": "e46b6b5a-3d65-4de7-f500-3da901457cda"
      },
      "outputs": [
        {
          "output_type": "execute_result",
          "data": {
            "text/plain": [
              "10200"
            ]
          },
          "metadata": {},
          "execution_count": 64
        }
      ],
      "source": [
        "# params = 1 * ((size_of_input + 1) * size_of_output + size_of_output^2)\n",
        "1 * ((1+1)*100+(100**2))"
      ]
    },
    {
      "cell_type": "code",
      "execution_count": 65,
      "metadata": {
        "colab": {
          "base_uri": "https://localhost:8080/"
        },
        "id": "qejX69-L2w8J",
        "outputId": "ddf79a11-dc88-44b5-f106-7def70a11baf"
      },
      "outputs": [
        {
          "output_type": "stream",
          "name": "stdout",
          "text": [
            "Epoch 1/15\n",
            "362/362 [==============================] - 15s 42ms/step - loss: 4.0683e-04\n",
            "Epoch 2/15\n",
            "362/362 [==============================] - 15s 41ms/step - loss: 4.4108e-06\n",
            "Epoch 3/15\n",
            "362/362 [==============================] - 15s 42ms/step - loss: 7.0010e-05\n",
            "Epoch 4/15\n",
            "362/362 [==============================] - 15s 43ms/step - loss: 1.1146e-05\n",
            "Epoch 5/15\n",
            "362/362 [==============================] - 15s 42ms/step - loss: 1.4118e-04\n",
            "Epoch 6/15\n",
            "362/362 [==============================] - 15s 41ms/step - loss: 5.1423e-06\n",
            "Epoch 7/15\n",
            "362/362 [==============================] - 16s 44ms/step - loss: 6.0797e-06\n",
            "Epoch 8/15\n",
            "362/362 [==============================] - 15s 41ms/step - loss: 2.5308e-04\n",
            "Epoch 9/15\n",
            "362/362 [==============================] - 16s 43ms/step - loss: 2.5698e-04\n",
            "Epoch 10/15\n",
            "362/362 [==============================] - 15s 41ms/step - loss: 5.0245e-07\n",
            "Epoch 11/15\n",
            "362/362 [==============================] - 15s 42ms/step - loss: 4.1671e-07\n",
            "Epoch 12/15\n",
            "362/362 [==============================] - 15s 42ms/step - loss: 2.7507e-05\n",
            "Epoch 13/15\n",
            "362/362 [==============================] - 15s 41ms/step - loss: 7.1346e-06\n",
            "Epoch 14/15\n",
            "362/362 [==============================] - 15s 42ms/step - loss: 0.0044\n",
            "Epoch 15/15\n",
            "362/362 [==============================] - 15s 42ms/step - loss: 1.5132e-04\n"
          ]
        },
        {
          "output_type": "execute_result",
          "data": {
            "text/plain": [
              "<keras.callbacks.History at 0x7f8896bbb690>"
            ]
          },
          "metadata": {},
          "execution_count": 65
        }
      ],
      "source": [
        "model.fit(x = generator, epochs = 15)"
      ]
    },
    {
      "cell_type": "code",
      "execution_count": 66,
      "metadata": {
        "colab": {
          "base_uri": "https://localhost:8080/",
          "height": 282
        },
        "id": "Kb0PS9tZ2w8K",
        "outputId": "0098b397-937e-4b14-ac27-a496a2d18600"
      },
      "outputs": [
        {
          "output_type": "execute_result",
          "data": {
            "text/plain": [
              "<matplotlib.axes._subplots.AxesSubplot at 0x7f88948f7910>"
            ]
          },
          "metadata": {},
          "execution_count": 66
        },
        {
          "output_type": "display_data",
          "data": {
            "text/plain": [
              "<Figure size 432x288 with 1 Axes>"
            ],
            "image/png": "[encoded data removed]"
          },
          "metadata": {
            "needs_background": "light"
          }
        }
      ],
      "source": [
        "loss_df = pd.DataFrame(model.history.history)\n",
        "loss_df.plot()"
      ]
    },
    {
      "cell_type": "markdown",
      "metadata": {
        "id": "j5u6Fbhya50H"
      },
      "source": [
        "# Evaluation on Test Data"
      ]
    },
    {
      "cell_type": "code",
      "execution_count": 67,
      "metadata": {
        "colab": {
          "base_uri": "https://localhost:8080/"
        },
        "id": "VIvUtlrJa50H",
        "outputId": "53842aef-8aeb-477f-f35f-3ee0f7bf88b8"
      },
      "outputs": [
        {
          "output_type": "execute_result",
          "data": {
            "text/plain": [
              "(1, 64, 1)"
            ]
          },
          "metadata": {},
          "execution_count": 67
        }
      ],
      "source": [
        "generator[0][0].shape"
      ]
    },
    {
      "cell_type": "code",
      "execution_count": 68,
      "metadata": {
        "id": "LfvWGRKRa50H"
      },
      "outputs": [],
      "source": [
        "first_eval_batch = train_scaled[-length:]"
      ]
    },
    {
      "cell_type": "code",
      "execution_count": 69,
      "metadata": {
        "colab": {
          "base_uri": "https://localhost:8080/"
        },
        "id": "SX0IHmEha50H",
        "outputId": "6f72a5ec-4928-4fdc-e22b-87729a557398",
        "scrolled": true
      },
      "outputs": [
        {
          "output_type": "execute_result",
          "data": {
            "text/plain": [
              "(64, 1)"
            ]
          },
          "metadata": {},
          "execution_count": 69
        }
      ],
      "source": [
        "first_eval_batch.shape"
      ]
    },
    {
      "cell_type": "code",
      "execution_count": 70,
      "metadata": {
        "id": "Vt0nw_Jja50I"
      },
      "outputs": [],
      "source": [
        "first_eval_batch = first_eval_batch.reshape((1, length, n_features))\n",
        "# first_eval_batch = np.expand_dims(first_eval_batch, axis=0)"
      ]
    },
    {
      "cell_type": "code",
      "execution_count": 71,
      "metadata": {
        "colab": {
          "base_uri": "https://localhost:8080/"
        },
        "id": "uMYg7gVLa50I",
        "outputId": "53d183cd-a470-4f3b-a5e8-9b4c6bfcef31",
        "scrolled": true
      },
      "outputs": [
        {
          "output_type": "execute_result",
          "data": {
            "text/plain": [
              "(1, 64, 1)"
            ]
          },
          "metadata": {},
          "execution_count": 71
        }
      ],
      "source": [
        "first_eval_batch.shape"
      ]
    },
    {
      "cell_type": "code",
      "execution_count": 72,
      "metadata": {
        "colab": {
          "base_uri": "https://localhost:8080/"
        },
        "id": "audqZeSoa50I",
        "outputId": "65e7a1c0-8f78-49b8-e958-e0d3c5cc0dfc"
      },
      "outputs": [
        {
          "output_type": "execute_result",
          "data": {
            "text/plain": [
              "array([[0.00886428]], dtype=float32)"
            ]
          },
          "metadata": {},
          "execution_count": 72
        }
      ],
      "source": [
        "model.predict(first_eval_batch)"
      ]
    },
    {
      "cell_type": "code",
      "execution_count": 73,
      "metadata": {
        "colab": {
          "base_uri": "https://localhost:8080/"
        },
        "id": "OzrSrHo_a50I",
        "outputId": "94c43677-4fad-4c01-9c88-f7138e817c25"
      },
      "outputs": [
        {
          "output_type": "execute_result",
          "data": {
            "text/plain": [
              "array([0.00885189])"
            ]
          },
          "metadata": {},
          "execution_count": 73
        }
      ],
      "source": [
        "test_scaled[0]"
      ]
    },
    {
      "cell_type": "code",
      "execution_count": 74,
      "metadata": {
        "id": "nlrYM0uta50I"
      },
      "outputs": [],
      "source": [
        "test_predictions = []\n",
        "\n",
        "first_eval_batch = train_scaled[-length:]\n",
        "current_batch = first_eval_batch.reshape((1, length, n_features))"
      ]
    },
    {
      "cell_type": "code",
      "execution_count": 75,
      "metadata": {
        "colab": {
          "base_uri": "https://localhost:8080/"
        },
        "id": "L2qO-3jpa50I",
        "outputId": "a932e670-4d36-4446-dc1a-fc068107d165"
      },
      "outputs": [
        {
          "output_type": "execute_result",
          "data": {
            "text/plain": [
              "(1, 64, 1)"
            ]
          },
          "metadata": {},
          "execution_count": 75
        }
      ],
      "source": [
        "current_batch.shape"
      ]
    },
    {
      "cell_type": "code",
      "execution_count": 76,
      "metadata": {
        "colab": {
          "base_uri": "https://localhost:8080/"
        },
        "id": "4gIJgnb0a50I",
        "outputId": "dc9d5c7d-46ac-4d83-9a49-862498abe89c"
      },
      "outputs": [
        {
          "output_type": "execute_result",
          "data": {
            "text/plain": [
              "array([[[1.27922981e-03],\n",
              "        [7.34597031e-03],\n",
              "        [1.83351382e-02],\n",
              "        [3.41369333e-02],\n",
              "        [5.45934694e-02],\n",
              "        [7.95003514e-02],\n",
              "        [1.08608718e-01],\n",
              "        [1.41627728e-01],\n",
              "        [1.78227467e-01],\n",
              "        [2.18042242e-01],\n",
              "        [2.60674236e-01],\n",
              "        [3.05697486e-01],\n",
              "        [3.52662133e-01],\n",
              "        [4.01098922e-01],\n",
              "        [4.50523890e-01],\n",
              "        [5.00443198e-01],\n",
              "        [5.50358069e-01],\n",
              "        [5.99769769e-01],\n",
              "        [6.48184595e-01],\n",
              "        [6.95118799e-01],\n",
              "        [7.40103433e-01],\n",
              "        [7.82689024e-01],\n",
              "        [8.22450070e-01],\n",
              "        [8.58989293e-01],\n",
              "        [8.91941605e-01],\n",
              "        [9.20977757e-01],\n",
              "        [9.45807630e-01],\n",
              "        [9.66183132e-01],\n",
              "        [9.81900676e-01],\n",
              "        [9.92803220e-01],\n",
              "        [9.98781828e-01],\n",
              "        [9.99776764e-01],\n",
              "        [9.95778087e-01],\n",
              "        [9.86825751e-01],\n",
              "        [9.73009203e-01],\n",
              "        [9.54466495e-01],\n",
              "        [9.31382900e-01],\n",
              "        [9.03989060e-01],\n",
              "        [8.72558686e-01],\n",
              "        [8.37405820e-01],\n",
              "        [7.98881698e-01],\n",
              "        [7.57371240e-01],\n",
              "        [7.13289205e-01],\n",
              "        [6.67076045e-01],\n",
              "        [6.19193508e-01],\n",
              "        [5.70120021e-01],\n",
              "        [5.20345908e-01],\n",
              "        [4.70368497e-01],\n",
              "        [4.20687145e-01],\n",
              "        [3.71798252e-01],\n",
              "        [3.24190300e-01],\n",
              "        [2.78338972e-01],\n",
              "        [2.34702398e-01],\n",
              "        [1.93716581e-01],\n",
              "        [1.55791039e-01],\n",
              "        [1.21304709e-01],\n",
              "        [9.06021693e-02],\n",
              "        [6.39901882e-02],\n",
              "        [4.17346643e-02],\n",
              "        [2.40579672e-02],\n",
              "        [1.11367167e-02],\n",
              "        [3.10001778e-03],\n",
              "        [2.81703720e-05],\n",
              "        [1.95186738e-03]]])"
            ]
          },
          "metadata": {},
          "execution_count": 76
        }
      ],
      "source": [
        "current_batch"
      ]
    },
    {
      "cell_type": "code",
      "execution_count": 77,
      "metadata": {
        "colab": {
          "base_uri": "https://localhost:8080/"
        },
        "id": "gCo_oVgna50J",
        "outputId": "f4a85624-0cdb-4795-d93c-443ed9435a8d"
      },
      "outputs": [
        {
          "output_type": "execute_result",
          "data": {
            "text/plain": [
              "array([[[7.34597031e-03],\n",
              "        [1.83351382e-02],\n",
              "        [3.41369333e-02],\n",
              "        [5.45934694e-02],\n",
              "        [7.95003514e-02],\n",
              "        [1.08608718e-01],\n",
              "        [1.41627728e-01],\n",
              "        [1.78227467e-01],\n",
              "        [2.18042242e-01],\n",
              "        [2.60674236e-01],\n",
              "        [3.05697486e-01],\n",
              "        [3.52662133e-01],\n",
              "        [4.01098922e-01],\n",
              "        [4.50523890e-01],\n",
              "        [5.00443198e-01],\n",
              "        [5.50358069e-01],\n",
              "        [5.99769769e-01],\n",
              "        [6.48184595e-01],\n",
              "        [6.95118799e-01],\n",
              "        [7.40103433e-01],\n",
              "        [7.82689024e-01],\n",
              "        [8.22450070e-01],\n",
              "        [8.58989293e-01],\n",
              "        [8.91941605e-01],\n",
              "        [9.20977757e-01],\n",
              "        [9.45807630e-01],\n",
              "        [9.66183132e-01],\n",
              "        [9.81900676e-01],\n",
              "        [9.92803220e-01],\n",
              "        [9.98781828e-01],\n",
              "        [9.99776764e-01],\n",
              "        [9.95778087e-01],\n",
              "        [9.86825751e-01],\n",
              "        [9.73009203e-01],\n",
              "        [9.54466495e-01],\n",
              "        [9.31382900e-01],\n",
              "        [9.03989060e-01],\n",
              "        [8.72558686e-01],\n",
              "        [8.37405820e-01],\n",
              "        [7.98881698e-01],\n",
              "        [7.57371240e-01],\n",
              "        [7.13289205e-01],\n",
              "        [6.67076045e-01],\n",
              "        [6.19193508e-01],\n",
              "        [5.70120021e-01],\n",
              "        [5.20345908e-01],\n",
              "        [4.70368497e-01],\n",
              "        [4.20687145e-01],\n",
              "        [3.71798252e-01],\n",
              "        [3.24190300e-01],\n",
              "        [2.78338972e-01],\n",
              "        [2.34702398e-01],\n",
              "        [1.93716581e-01],\n",
              "        [1.55791039e-01],\n",
              "        [1.21304709e-01],\n",
              "        [9.06021693e-02],\n",
              "        [6.39901882e-02],\n",
              "        [4.17346643e-02],\n",
              "        [2.40579672e-02],\n",
              "        [1.11367167e-02],\n",
              "        [3.10001778e-03],\n",
              "        [2.81703720e-05],\n",
              "        [1.95186738e-03],\n",
              "        [7.75101000e-03]]])"
            ]
          },
          "metadata": {},
          "execution_count": 77
        }
      ],
      "source": [
        "np.append(current_batch[:,1:,:], [[[0.00775101]]], axis = 1)"
      ]
    },
    {
      "cell_type": "markdown",
      "metadata": {
        "id": "nfCiKfuTa50J"
      },
      "source": [
        "## Final For Loop to predict step by step "
      ]
    },
    {
      "cell_type": "code",
      "execution_count": 78,
      "metadata": {
        "id": "uTBoGAQIa50J"
      },
      "outputs": [],
      "source": [
        "predictions_scaled = []\n",
        "\n",
        "first_eval_batch = train_scaled[-length:]\n",
        "current_batch = first_eval_batch.reshape((1, length, n_features))\n",
        "\n",
        "for i in range(len(test)):\n",
        "    \n",
        "    # get prediction 1 time stamp ahead\n",
        "    current_pred = model.predict(current_batch)\n",
        "    \n",
        "    # store prediction\n",
        "    predictions_scaled.append(current_pred[0]) \n",
        "    \n",
        "    # update batch to now include prediction and drop first value\n",
        "    current_batch = np.append(current_batch[:, 1:, :], [current_pred], axis = 1)"
      ]
    },
    {
      "cell_type": "code",
      "execution_count": 79,
      "metadata": {
        "colab": {
          "base_uri": "https://localhost:8080/"
        },
        "id": "g0cELXfXa50J",
        "outputId": "ceb2a7d2-a065-44eb-b74c-58ef0a343fbb",
        "scrolled": true
      },
      "outputs": [
        {
          "output_type": "execute_result",
          "data": {
            "text/plain": [
              "[array([0.00886428], dtype=float32),\n",
              " array([0.02054528], dtype=float32),\n",
              " array([0.03666092], dtype=float32),\n",
              " array([0.05687469], dtype=float32),\n",
              " array([0.08092745], dtype=float32),\n",
              " array([0.1085801], dtype=float32),\n",
              " array([0.13956246], dtype=float32),\n",
              " array([0.17354433], dtype=float32),\n",
              " array([0.21013525], dtype=float32),\n",
              " array([0.24890304], dtype=float32),\n",
              " array([0.28938305], dtype=float32),\n",
              " array([0.33111104], dtype=float32),\n",
              " array([0.37362844], dtype=float32),\n",
              " array([0.41646177], dtype=float32),\n",
              " array([0.45909834], dtype=float32),\n",
              " array([0.50099415], dtype=float32),\n",
              " array([0.5415761], dtype=float32),\n",
              " array([0.58025837], dtype=float32),\n",
              " array([0.61646676], dtype=float32),\n",
              " array([0.6496684], dtype=float32),\n",
              " array([0.6793868], dtype=float32),\n",
              " array([0.7052095], dtype=float32),\n",
              " array([0.7268082], dtype=float32),\n",
              " array([0.7439314], dtype=float32),\n",
              " array([0.7564102], dtype=float32),\n",
              " array([0.7641568], dtype=float32),\n",
              " array([0.76716864], dtype=float32),\n",
              " array([0.7655098], dtype=float32),\n",
              " array([0.7593063], dtype=float32),\n",
              " array([0.74873304], dtype=float32),\n",
              " array([0.7340024], dtype=float32),\n",
              " array([0.7153438], dtype=float32),\n",
              " array([0.6930012], dtype=float32),\n",
              " array([0.66722685], dtype=float32),\n",
              " array([0.6382813], dtype=float32),\n",
              " array([0.60643435], dtype=float32),\n",
              " array([0.5719659], dtype=float32),\n",
              " array([0.53516686], dtype=float32),\n",
              " array([0.49634358], dtype=float32),\n",
              " array([0.45581788], dtype=float32),\n",
              " array([0.41393122], dtype=float32),\n",
              " array([0.37104827], dtype=float32),\n",
              " array([0.32756084], dtype=float32),\n",
              " array([0.2838894], dtype=float32),\n",
              " array([0.2404848], dtype=float32),\n",
              " array([0.19782513], dtype=float32),\n",
              " array([0.15641117], dtype=float32),\n",
              " array([0.11675783], dtype=float32),\n",
              " array([0.07938468], dtype=float32),\n",
              " array([0.04480078], dtype=float32),\n",
              " array([0.01349258], dtype=float32),\n",
              " array([-0.01408865], dtype=float32),\n",
              " array([-0.03753887], dtype=float32),\n",
              " array([-0.05651239], dtype=float32),\n",
              " array([-0.07072855], dtype=float32),\n",
              " array([-0.07997834], dtype=float32),\n",
              " array([-0.08412398], dtype=float32),\n",
              " array([-0.08309942], dtype=float32),\n",
              " array([-0.07690308], dtype=float32),\n",
              " array([-0.06559413], dtype=float32),\n",
              " array([-0.04928165], dtype=float32),\n",
              " array([-0.02812131], dtype=float32),\n",
              " array([-0.00230717], dtype=float32),\n",
              " array([0.02792861], dtype=float32),\n",
              " array([0.06231997], dtype=float32),\n",
              " array([0.10056205], dtype=float32),\n",
              " array([0.14230824], dtype=float32),\n",
              " array([0.18716413], dtype=float32),\n",
              " array([0.23468629], dtype=float32),\n",
              " array([0.28437847], dtype=float32),\n",
              " array([0.33568785], dtype=float32),\n",
              " array([0.38799992], dtype=float32),\n",
              " array([0.4406392], dtype=float32),\n",
              " array([0.49287573], dtype=float32),\n",
              " array([0.5439377], dtype=float32)]"
            ]
          },
          "metadata": {},
          "execution_count": 79
        }
      ],
      "source": [
        "predictions_scaled"
      ]
    },
    {
      "cell_type": "code",
      "execution_count": 80,
      "metadata": {
        "colab": {
          "base_uri": "https://localhost:8080/"
        },
        "id": "fDZmq_Sba50J",
        "outputId": "a6036c0e-2787-4bbd-db9b-8559a7fa56fe",
        "scrolled": true
      },
      "outputs": [
        {
          "output_type": "execute_result",
          "data": {
            "text/plain": [
              "array([[8.85188786e-03],\n",
              "       [2.06592891e-02],\n",
              "       [3.72560954e-02],\n",
              "       [5.84764771e-02],\n",
              "       [8.41084070e-02],\n",
              "       [1.13895779e-01],\n",
              "       [1.47540969e-01],\n",
              "       [1.84707803e-01],\n",
              "       [2.25024924e-01],\n",
              "       [2.68089497e-01],\n",
              "       [3.13471233e-01],\n",
              "       [3.60716695e-01],\n",
              "       [4.09353821e-01],\n",
              "       [4.58896644e-01],\n",
              "       [5.08850150e-01],\n",
              "       [5.58715219e-01],\n",
              "       [6.07993616e-01],\n",
              "       [6.56192968e-01],\n",
              "       [7.02831682e-01],\n",
              "       [7.47443761e-01],\n",
              "       [7.89583454e-01],\n",
              "       [8.28829716e-01],\n",
              "       [8.64790412e-01],\n",
              "       [8.97106234e-01],\n",
              "       [9.25454293e-01],\n",
              "       [9.49551344e-01],\n",
              "       [9.69156618e-01],\n",
              "       [9.84074225e-01],\n",
              "       [9.94155114e-01],\n",
              "       [9.99298559e-01],\n",
              "       [9.99453170e-01],\n",
              "       [9.94617400e-01],\n",
              "       [9.84839568e-01],\n",
              "       [9.70217371e-01],\n",
              "       [9.50896908e-01],\n",
              "       [9.27071224e-01],\n",
              "       [8.98978376e-01],\n",
              "       [8.66899060e-01],\n",
              "       [8.31153800e-01],\n",
              "       [7.92099752e-01],\n",
              "       [7.50127132e-01],\n",
              "       [7.05655314e-01],\n",
              "       [6.59128649e-01],\n",
              "       [6.11012013e-01],\n",
              "       [5.61786173e-01],\n",
              "       [5.11942978e-01],\n",
              "       [4.61980443e-01],\n",
              "       [4.12397778e-01],\n",
              "       [3.63690397e-01],\n",
              "       [3.16344967e-01],\n",
              "       [2.70834550e-01],\n",
              "       [2.27613868e-01],\n",
              "       [1.87114770e-01],\n",
              "       [1.49741909e-01],\n",
              "       [1.15868702e-01],\n",
              "       [8.58335998e-02],\n",
              "       [5.99367021e-02],\n",
              "       [3.84367625e-02],\n",
              "       [2.15486014e-02],\n",
              "       [9.44095974e-03],\n",
              "       [2.23481297e-03],\n",
              "       [2.16257798e-06],\n",
              "       [2.76531647e-03],\n",
              "       [1.04966661e-02],\n",
              "       [2.31189624e-02],\n",
              "       [4.05060876e-02],\n",
              "       [6.24843152e-02],\n",
              "       [8.88340461e-02],\n",
              "       [1.19292002e-01],\n",
              "       [1.53553858e-01],\n",
              "       [1.91277281e-01],\n",
              "       [2.32085350e-01],\n",
              "       [2.75570325e-01],\n",
              "       [3.21297718e-01],\n",
              "       [3.68810636e-01]])"
            ]
          },
          "metadata": {},
          "execution_count": 80
        }
      ],
      "source": [
        "test_scaled"
      ]
    },
    {
      "cell_type": "markdown",
      "metadata": {
        "id": "zwwIglA6a50J"
      },
      "source": [
        "## Inverse Transformation and Comparing"
      ]
    },
    {
      "cell_type": "code",
      "execution_count": 81,
      "metadata": {
        "id": "tcP7_YiFa50J"
      },
      "outputs": [],
      "source": [
        "predictions = scaler.inverse_transform(predictions_scaled)"
      ]
    },
    {
      "cell_type": "code",
      "execution_count": 82,
      "metadata": {
        "colab": {
          "base_uri": "https://localhost:8080/"
        },
        "id": "oOvghcBVa50J",
        "outputId": "a2a7b7e9-aef9-4a8a-a093-36d661289d06",
        "scrolled": true
      },
      "outputs": [
        {
          "output_type": "execute_result",
          "data": {
            "text/plain": [
              "array([[-0.98226178],\n",
              "       [-0.95889997],\n",
              "       [-0.92666895],\n",
              "       [-0.88624173],\n",
              "       [-0.8381366 ],\n",
              "       [-0.78283175],\n",
              "       [-0.72086753],\n",
              "       [-0.65290433],\n",
              "       [-0.57972308],\n",
              "       [-0.50218813],\n",
              "       [-0.42122874],\n",
              "       [-0.33777343],\n",
              "       [-0.25273933],\n",
              "       [-0.16707336],\n",
              "       [-0.0818009 ],\n",
              "       [ 0.00199004],\n",
              "       [ 0.08315328],\n",
              "       [ 0.16051722],\n",
              "       [ 0.23293342],\n",
              "       [ 0.29933616],\n",
              "       [ 0.35877248],\n",
              "       [ 0.41041746],\n",
              "       [ 0.45361451],\n",
              "       [ 0.48786068],\n",
              "       [ 0.51281802],\n",
              "       [ 0.52831117],\n",
              "       [ 0.53433476],\n",
              "       [ 0.53101708],\n",
              "       [ 0.51861023],\n",
              "       [ 0.49746386],\n",
              "       [ 0.46800284],\n",
              "       [ 0.43068586],\n",
              "       [ 0.38600109],\n",
              "       [ 0.33445279],\n",
              "       [ 0.27656212],\n",
              "       [ 0.21286875],\n",
              "       [ 0.14393236],\n",
              "       [ 0.07033492],\n",
              "       [-0.00731101],\n",
              "       [-0.08836177],\n",
              "       [-0.17213441],\n",
              "       [-0.25789962],\n",
              "       [-0.34487378],\n",
              "       [-0.43221594],\n",
              "       [-0.51902446],\n",
              "       [-0.60434311],\n",
              "       [-0.68717038],\n",
              "       [-0.76647642],\n",
              "       [-0.84122213],\n",
              "       [-0.91038936],\n",
              "       [-0.97300525],\n",
              "       [-1.02816729],\n",
              "       [-1.07506735],\n",
              "       [-1.11301407],\n",
              "       [-1.14144617],\n",
              "       [-1.1599456 ],\n",
              "       [-1.16823681],\n",
              "       [-1.16618771],\n",
              "       [-1.15379514],\n",
              "       [-1.13117741],\n",
              "       [-1.09855271],\n",
              "       [-1.05623239],\n",
              "       [-1.00460452],\n",
              "       [-0.94413342],\n",
              "       [-0.87535126],\n",
              "       [-0.79886772],\n",
              "       [-0.71537602],\n",
              "       [-0.62566495],\n",
              "       [-0.5306214 ],\n",
              "       [-0.43123783],\n",
              "       [-0.3286199 ],\n",
              "       [-0.22399659],\n",
              "       [-0.11871888],\n",
              "       [-0.01424667],\n",
              "       [ 0.08787643]])"
            ]
          },
          "metadata": {},
          "execution_count": 82
        }
      ],
      "source": [
        "predictions"
      ]
    },
    {
      "cell_type": "code",
      "execution_count": 83,
      "metadata": {
        "colab": {
          "base_uri": "https://localhost:8080/",
          "height": 424
        },
        "id": "nwNZn5ZKa50K",
        "outputId": "ebc21f65-72a0-4164-a4d9-e96551c7cc32",
        "scrolled": true
      },
      "outputs": [
        {
          "output_type": "execute_result",
          "data": {
            "text/plain": [
              "         Sine  RNN_Predictions\n",
              "42.600 -0.982           -0.990\n",
              "42.700 -0.959           -0.972\n",
              "42.800 -0.925           -0.949\n",
              "42.900 -0.883           -0.918\n",
              "43.000 -0.832           -0.882\n",
              "...       ...              ...\n",
              "49.600 -0.617           -0.816\n",
              "49.700 -0.536           -0.766\n",
              "49.800 -0.449           -0.711\n",
              "49.900 -0.357           -0.653\n",
              "50.000 -0.262           -0.592\n",
              "\n",
              "[75 rows x 2 columns]"
            ],
            "text/html": [
              "\n",
              "  <div id=\"df-aa74041d-4d42-4908-8c3e-e73b556265b7\">\n",
              "    <div class=\"colab-df-container\">\n",
              "      <div>\n",
              "<style scoped>\n",
              "    .dataframe tbody tr th:only-of-type {\n",
              "        vertical-align: middle;\n",
              "    }\n",
              "\n",
              "    .dataframe tbody tr th {\n",
              "        vertical-align: top;\n",
              "    }\n",
              "\n",
              "    .dataframe thead th {\n",
              "        text-align: right;\n",
              "    }\n",
              "</style>\n",
              "<table border=\"1\" class=\"dataframe\">\n",
              "  <thead>\n",
              "    <tr style=\"text-align: right;\">\n",
              "      <th></th>\n",
              "      <th>Sine</th>\n",
              "      <th>RNN_Predictions</th>\n",
              "    </tr>\n",
              "  </thead>\n",
              "  <tbody>\n",
              "    <tr>\n",
              "      <th>42.600</th>\n",
              "      <td>-0.982</td>\n",
              "      <td>-0.990</td>\n",
              "    </tr>\n",
              "    <tr>\n",
              "      <th>42.700</th>\n",
              "      <td>-0.959</td>\n",
              "      <td>-0.972</td>\n",
              "    </tr>\n",
              "    <tr>\n",
              "      <th>42.800</th>\n",
              "      <td>-0.925</td>\n",
              "      <td>-0.949</td>\n",
              "    </tr>\n",
              "    <tr>\n",
              "      <th>42.900</th>\n",
              "      <td>-0.883</td>\n",
              "      <td>-0.918</td>\n",
              "    </tr>\n",
              "    <tr>\n",
              "      <th>43.000</th>\n",
              "      <td>-0.832</td>\n",
              "      <td>-0.882</td>\n",
              "    </tr>\n",
              "    <tr>\n",
              "      <th>...</th>\n",
              "      <td>...</td>\n",
              "      <td>...</td>\n",
              "    </tr>\n",
              "    <tr>\n",
              "      <th>49.600</th>\n",
              "      <td>-0.617</td>\n",
              "      <td>-0.816</td>\n",
              "    </tr>\n",
              "    <tr>\n",
              "      <th>49.700</th>\n",
              "      <td>-0.536</td>\n",
              "      <td>-0.766</td>\n",
              "    </tr>\n",
              "    <tr>\n",
              "      <th>49.800</th>\n",
              "      <td>-0.449</td>\n",
              "      <td>-0.711</td>\n",
              "    </tr>\n",
              "    <tr>\n",
              "      <th>49.900</th>\n",
              "      <td>-0.357</td>\n",
              "      <td>-0.653</td>\n",
              "    </tr>\n",
              "    <tr>\n",
              "      <th>50.000</th>\n",
              "      <td>-0.262</td>\n",
              "      <td>-0.592</td>\n",
              "    </tr>\n",
              "  </tbody>\n",
              "</table>\n",
              "<p>75 rows × 2 columns</p>\n",
              "</div>\n",
              "      <button class=\"colab-df-convert\" onclick=\"convertToInteractive('df-aa74041d-4d42-4908-8c3e-e73b556265b7')\"\n",
              "              title=\"Convert this dataframe to an interactive table.\"\n",
              "              style=\"display:none;\">\n",
              "        \n",
              "  <svg xmlns=\"http://www.w3.org/2000/svg\" height=\"24px\"viewBox=\"0 0 24 24\"\n",
              "       width=\"24px\">\n",
              "    <path d=\"M0 0h24v24H0V0z\" fill=\"none\"/>\n",
              "    <path d=\"M18.56 5.44l.94 2.06.94-2.06 2.06-.94-2.06-.94-.94-2.06-.94 2.06-2.06.94zm-11 1L8.5 8.5l.94-2.06 2.06-.94-2.06-.94L8.5 2.5l-.94 2.06-2.06.94zm10 10l.94 2.06.94-2.06 2.06-.94-2.06-.94-.94-2.06-.94 2.06-2.06.94z\"/><path d=\"M17.41 7.96l-1.37-1.37c-.4-.4-.92-.59-1.43-.59-.52 0-1.04.2-1.43.59L10.3 9.45l-7.72 7.72c-.78.78-.78 2.05 0 2.83L4 21.41c.39.39.9.59 1.41.59.51 0 1.02-.2 1.41-.59l7.78-7.78 2.81-2.81c.8-.78.8-2.07 0-2.86zM5.41 20L4 18.59l7.72-7.72 1.47 1.35L5.41 20z\"/>\n",
              "  </svg>\n",
              "      </button>\n",
              "      \n",
              "  <style>\n",
              "    .colab-df-container {\n",
              "      display:flex;\n",
              "      flex-wrap:wrap;\n",
              "      gap: 12px;\n",
              "    }\n",
              "\n",
              "    .colab-df-convert {\n",
              "      background-color: #E8F0FE;\n",
              "      border: none;\n",
              "      border-radius: 50%;\n",
              "      cursor: pointer;\n",
              "      display: none;\n",
              "      fill: #1967D2;\n",
              "      height: 32px;\n",
              "      padding: 0 0 0 0;\n",
              "      width: 32px;\n",
              "    }\n",
              "\n",
              "    .colab-df-convert:hover {\n",
              "      background-color: #E2EBFA;\n",
              "      box-shadow: 0px 1px 2px rgba(60, 64, 67, 0.3), 0px 1px 3px 1px rgba(60, 64, 67, 0.15);\n",
              "      fill: #174EA6;\n",
              "    }\n",
              "\n",
              "    [theme=dark] .colab-df-convert {\n",
              "      background-color: #3B4455;\n",
              "      fill: #D2E3FC;\n",
              "    }\n",
              "\n",
              "    [theme=dark] .colab-df-convert:hover {\n",
              "      background-color: #434B5C;\n",
              "      box-shadow: 0px 1px 3px 1px rgba(0, 0, 0, 0.15);\n",
              "      filter: drop-shadow(0px 1px 2px rgba(0, 0, 0, 0.3));\n",
              "      fill: #FFFFFF;\n",
              "    }\n",
              "  </style>\n",
              "\n",
              "      <script>\n",
              "        const buttonEl =\n",
              "          document.querySelector('#df-aa74041d-4d42-4908-8c3e-e73b556265b7 button.colab-df-convert');\n",
              "        buttonEl.style.display =\n",
              "          google.colab.kernel.accessAllowed ? 'block' : 'none';\n",
              "\n",
              "        async function convertToInteractive(key) {\n",
              "          const element = document.querySelector('#df-aa74041d-4d42-4908-8c3e-e73b556265b7');\n",
              "          const dataTable =\n",
              "            await google.colab.kernel.invokeFunction('convertToInteractive',\n",
              "                                                     [key], {});\n",
              "          if (!dataTable) return;\n",
              "\n",
              "          const docLinkHtml = 'Like what you see? Visit the ' +\n",
              "            '<a target=\"_blank\" href=https://colab.research.google.com/notebooks/data_table.ipynb>data table notebook</a>'\n",
              "            + ' to learn more about interactive tables.';\n",
              "          element.innerHTML = '';\n",
              "          dataTable['output_type'] = 'display_data';\n",
              "          await google.colab.output.renderOutput(dataTable, element);\n",
              "          const docLink = document.createElement('div');\n",
              "          docLink.innerHTML = docLinkHtml;\n",
              "          element.appendChild(docLink);\n",
              "        }\n",
              "      </script>\n",
              "    </div>\n",
              "  </div>\n",
              "  "
            ]
          },
          "metadata": {},
          "execution_count": 83
        }
      ],
      "source": [
        "test"
      ]
    },
    {
      "cell_type": "code",
      "execution_count": 84,
      "metadata": {
        "id": "DOCHMpqUa50K"
      },
      "outputs": [],
      "source": [
        "test['RNN_Predictions'] = predictions"
      ]
    },
    {
      "cell_type": "code",
      "execution_count": 85,
      "metadata": {
        "colab": {
          "base_uri": "https://localhost:8080/",
          "height": 424
        },
        "id": "6RJK4dnIa50K",
        "outputId": "9e57198a-be14-4e0b-c039-b83418438040",
        "scrolled": true
      },
      "outputs": [
        {
          "output_type": "execute_result",
          "data": {
            "text/plain": [
              "         Sine  RNN_Predictions\n",
              "42.600 -0.982           -0.982\n",
              "42.700 -0.959           -0.959\n",
              "42.800 -0.925           -0.927\n",
              "42.900 -0.883           -0.886\n",
              "43.000 -0.832           -0.838\n",
              "...       ...              ...\n",
              "49.600 -0.617           -0.329\n",
              "49.700 -0.536           -0.224\n",
              "49.800 -0.449           -0.119\n",
              "49.900 -0.357           -0.014\n",
              "50.000 -0.262            0.088\n",
              "\n",
              "[75 rows x 2 columns]"
            ],
            "text/html": [
              "\n",
              "  <div id=\"df-294ea305-1bc9-4854-b6b4-a59be2a65ebd\">\n",
              "    <div class=\"colab-df-container\">\n",
              "      <div>\n",
              "<style scoped>\n",
              "    .dataframe tbody tr th:only-of-type {\n",
              "        vertical-align: middle;\n",
              "    }\n",
              "\n",
              "    .dataframe tbody tr th {\n",
              "        vertical-align: top;\n",
              "    }\n",
              "\n",
              "    .dataframe thead th {\n",
              "        text-align: right;\n",
              "    }\n",
              "</style>\n",
              "<table border=\"1\" class=\"dataframe\">\n",
              "  <thead>\n",
              "    <tr style=\"text-align: right;\">\n",
              "      <th></th>\n",
              "      <th>Sine</th>\n",
              "      <th>RNN_Predictions</th>\n",
              "    </tr>\n",
              "  </thead>\n",
              "  <tbody>\n",
              "    <tr>\n",
              "      <th>42.600</th>\n",
              "      <td>-0.982</td>\n",
              "      <td>-0.982</td>\n",
              "    </tr>\n",
              "    <tr>\n",
              "      <th>42.700</th>\n",
              "      <td>-0.959</td>\n",
              "      <td>-0.959</td>\n",
              "    </tr>\n",
              "    <tr>\n",
              "      <th>42.800</th>\n",
              "      <td>-0.925</td>\n",
              "      <td>-0.927</td>\n",
              "    </tr>\n",
              "    <tr>\n",
              "      <th>42.900</th>\n",
              "      <td>-0.883</td>\n",
              "      <td>-0.886</td>\n",
              "    </tr>\n",
              "    <tr>\n",
              "      <th>43.000</th>\n",
              "      <td>-0.832</td>\n",
              "      <td>-0.838</td>\n",
              "    </tr>\n",
              "    <tr>\n",
              "      <th>...</th>\n",
              "      <td>...</td>\n",
              "      <td>...</td>\n",
              "    </tr>\n",
              "    <tr>\n",
              "      <th>49.600</th>\n",
              "      <td>-0.617</td>\n",
              "      <td>-0.329</td>\n",
              "    </tr>\n",
              "    <tr>\n",
              "      <th>49.700</th>\n",
              "      <td>-0.536</td>\n",
              "      <td>-0.224</td>\n",
              "    </tr>\n",
              "    <tr>\n",
              "      <th>49.800</th>\n",
              "      <td>-0.449</td>\n",
              "      <td>-0.119</td>\n",
              "    </tr>\n",
              "    <tr>\n",
              "      <th>49.900</th>\n",
              "      <td>-0.357</td>\n",
              "      <td>-0.014</td>\n",
              "    </tr>\n",
              "    <tr>\n",
              "      <th>50.000</th>\n",
              "      <td>-0.262</td>\n",
              "      <td>0.088</td>\n",
              "    </tr>\n",
              "  </tbody>\n",
              "</table>\n",
              "<p>75 rows × 2 columns</p>\n",
              "</div>\n",
              "      <button class=\"colab-df-convert\" onclick=\"convertToInteractive('df-294ea305-1bc9-4854-b6b4-a59be2a65ebd')\"\n",
              "              title=\"Convert this dataframe to an interactive table.\"\n",
              "              style=\"display:none;\">\n",
              "        \n",
              "  <svg xmlns=\"http://www.w3.org/2000/svg\" height=\"24px\"viewBox=\"0 0 24 24\"\n",
              "       width=\"24px\">\n",
              "    <path d=\"M0 0h24v24H0V0z\" fill=\"none\"/>\n",
              "    <path d=\"M18.56 5.44l.94 2.06.94-2.06 2.06-.94-2.06-.94-.94-2.06-.94 2.06-2.06.94zm-11 1L8.5 8.5l.94-2.06 2.06-.94-2.06-.94L8.5 2.5l-.94 2.06-2.06.94zm10 10l.94 2.06.94-2.06 2.06-.94-2.06-.94-.94-2.06-.94 2.06-2.06.94z\"/><path d=\"M17.41 7.96l-1.37-1.37c-.4-.4-.92-.59-1.43-.59-.52 0-1.04.2-1.43.59L10.3 9.45l-7.72 7.72c-.78.78-.78 2.05 0 2.83L4 21.41c.39.39.9.59 1.41.59.51 0 1.02-.2 1.41-.59l7.78-7.78 2.81-2.81c.8-.78.8-2.07 0-2.86zM5.41 20L4 18.59l7.72-7.72 1.47 1.35L5.41 20z\"/>\n",
              "  </svg>\n",
              "      </button>\n",
              "      \n",
              "  <style>\n",
              "    .colab-df-container {\n",
              "      display:flex;\n",
              "      flex-wrap:wrap;\n",
              "      gap: 12px;\n",
              "    }\n",
              "\n",
              "    .colab-df-convert {\n",
              "      background-color: #E8F0FE;\n",
              "      border: none;\n",
              "      border-radius: 50%;\n",
              "      cursor: pointer;\n",
              "      display: none;\n",
              "      fill: #1967D2;\n",
              "      height: 32px;\n",
              "      padding: 0 0 0 0;\n",
              "      width: 32px;\n",
              "    }\n",
              "\n",
              "    .colab-df-convert:hover {\n",
              "      background-color: #E2EBFA;\n",
              "      box-shadow: 0px 1px 2px rgba(60, 64, 67, 0.3), 0px 1px 3px 1px rgba(60, 64, 67, 0.15);\n",
              "      fill: #174EA6;\n",
              "    }\n",
              "\n",
              "    [theme=dark] .colab-df-convert {\n",
              "      background-color: #3B4455;\n",
              "      fill: #D2E3FC;\n",
              "    }\n",
              "\n",
              "    [theme=dark] .colab-df-convert:hover {\n",
              "      background-color: #434B5C;\n",
              "      box-shadow: 0px 1px 3px 1px rgba(0, 0, 0, 0.15);\n",
              "      filter: drop-shadow(0px 1px 2px rgba(0, 0, 0, 0.3));\n",
              "      fill: #FFFFFF;\n",
              "    }\n",
              "  </style>\n",
              "\n",
              "      <script>\n",
              "        const buttonEl =\n",
              "          document.querySelector('#df-294ea305-1bc9-4854-b6b4-a59be2a65ebd button.colab-df-convert');\n",
              "        buttonEl.style.display =\n",
              "          google.colab.kernel.accessAllowed ? 'block' : 'none';\n",
              "\n",
              "        async function convertToInteractive(key) {\n",
              "          const element = document.querySelector('#df-294ea305-1bc9-4854-b6b4-a59be2a65ebd');\n",
              "          const dataTable =\n",
              "            await google.colab.kernel.invokeFunction('convertToInteractive',\n",
              "                                                     [key], {});\n",
              "          if (!dataTable) return;\n",
              "\n",
              "          const docLinkHtml = 'Like what you see? Visit the ' +\n",
              "            '<a target=\"_blank\" href=https://colab.research.google.com/notebooks/data_table.ipynb>data table notebook</a>'\n",
              "            + ' to learn more about interactive tables.';\n",
              "          element.innerHTML = '';\n",
              "          dataTable['output_type'] = 'display_data';\n",
              "          await google.colab.output.renderOutput(dataTable, element);\n",
              "          const docLink = document.createElement('div');\n",
              "          docLink.innerHTML = docLinkHtml;\n",
              "          element.appendChild(docLink);\n",
              "        }\n",
              "      </script>\n",
              "    </div>\n",
              "  </div>\n",
              "  "
            ]
          },
          "metadata": {},
          "execution_count": 85
        }
      ],
      "source": [
        "test"
      ]
    },
    {
      "cell_type": "code",
      "execution_count": 86,
      "metadata": {
        "colab": {
          "base_uri": "https://localhost:8080/",
          "height": 282
        },
        "id": "NbHXYMnya50K",
        "outputId": "49871901-dd44-4de0-eb9a-71829ff5909a",
        "scrolled": false
      },
      "outputs": [
        {
          "output_type": "execute_result",
          "data": {
            "text/plain": [
              "<matplotlib.axes._subplots.AxesSubplot at 0x7f8896970910>"
            ]
          },
          "metadata": {},
          "execution_count": 86
        },
        {
          "output_type": "display_data",
          "data": {
            "text/plain": [
              "<Figure size 432x288 with 1 Axes>"
            ],
            "image/png": "[encoded data removed]"
          },
          "metadata": {
            "needs_background": "light"
          }
        }
      ],
      "source": [
        "test.plot()"
      ]
    },
    {
      "cell_type": "markdown",
      "metadata": {
        "id": "KLJ60Rpya50K"
      },
      "source": [
        "# Modelling with LSTM"
      ]
    },
    {
      "cell_type": "code",
      "execution_count": 87,
      "metadata": {
        "id": "gbUNjlcga50K"
      },
      "outputs": [],
      "source": [
        "# define model\n",
        "model = Sequential()\n",
        "\n",
        "# LSTM layer\n",
        "model.add(LSTM(units = 100, activation = \"tanh\", input_shape = (length, n_features)))\n",
        "\n",
        "# Final Prediction\n",
        "model.add(Dense(units = 1))\n",
        "\n",
        "model.compile(optimizer = 'adam', loss = 'mse')"
      ]
    },
    {
      "cell_type": "code",
      "execution_count": 88,
      "metadata": {
        "colab": {
          "base_uri": "https://localhost:8080/"
        },
        "id": "l7UiJRjHa50L",
        "outputId": "f01324f2-f516-49b4-842e-2f301c815f4b"
      },
      "outputs": [
        {
          "output_type": "stream",
          "name": "stdout",
          "text": [
            "Model: \"sequential_1\"\n",
            "_________________________________________________________________\n",
            " Layer (type)                Output Shape              Param #   \n",
            "=================================================================\n",
            " lstm (LSTM)                 (None, 100)               40800     \n",
            "                                                                 \n",
            " dense_1 (Dense)             (None, 1)                 101       \n",
            "                                                                 \n",
            "=================================================================\n",
            "Total params: 40,901\n",
            "Trainable params: 40,901\n",
            "Non-trainable params: 0\n",
            "_________________________________________________________________\n"
          ]
        }
      ],
      "source": [
        "model.summary()"
      ]
    },
    {
      "cell_type": "code",
      "execution_count": 89,
      "metadata": {
        "colab": {
          "base_uri": "https://localhost:8080/"
        },
        "id": "t_m6gO1pa50L",
        "outputId": "c77a9d0f-bc62-4f23-d143-f47c2cfb5eee"
      },
      "outputs": [
        {
          "output_type": "execute_result",
          "data": {
            "text/plain": [
              "40800"
            ]
          },
          "metadata": {},
          "execution_count": 89
        }
      ],
      "source": [
        "# params = 4 * ((size_of_input + 1) * size_of_output + size_of_output^2)\n",
        "4 * ((1+1)*100+(100**2))"
      ]
    },
    {
      "cell_type": "markdown",
      "metadata": {
        "id": "s72Jxj-va50L"
      },
      "source": [
        "## Early Stopping and Validation Generator"
      ]
    },
    {
      "cell_type": "code",
      "execution_count": 90,
      "metadata": {
        "id": "Q2YhvILQa50L"
      },
      "outputs": [],
      "source": [
        "from tensorflow.keras.callbacks import EarlyStopping"
      ]
    },
    {
      "cell_type": "code",
      "execution_count": 91,
      "metadata": {
        "id": "HrvvW2bIa50L"
      },
      "outputs": [],
      "source": [
        "early_stop = EarlyStopping(monitor='val_loss', patience=2, restore_best_weights = True)"
      ]
    },
    {
      "cell_type": "code",
      "execution_count": 92,
      "metadata": {
        "id": "XM9bj_VGa50L"
      },
      "outputs": [],
      "source": [
        "length = 64 # lenght range have to be shorter than range of test data\n",
        "            # In this case lenght range = 64, test range = 75\n",
        "batch_size =1\n",
        "\n",
        "generator = TimeseriesGenerator(data = train_scaled, targets = train_scaled, length = length, batch_size = batch_size)\n",
        "\n",
        "validation_generator = TimeseriesGenerator(data = test_scaled, targets = test_scaled, length = length, batch_size = batch_size)"
      ]
    },
    {
      "cell_type": "code",
      "execution_count": 93,
      "metadata": {
        "colab": {
          "base_uri": "https://localhost:8080/"
        },
        "id": "IxbDqxeia50L",
        "outputId": "4dd9ddb6-0cc0-41fa-f4a4-a7f13c99b172"
      },
      "outputs": [
        {
          "output_type": "execute_result",
          "data": {
            "text/plain": [
              "11"
            ]
          },
          "metadata": {},
          "execution_count": 93
        }
      ],
      "source": [
        "len(validation_generator)"
      ]
    },
    {
      "cell_type": "code",
      "execution_count": 94,
      "metadata": {
        "colab": {
          "base_uri": "https://localhost:8080/"
        },
        "id": "g1RAlkM-a50L",
        "outputId": "6fd44b95-8b12-420a-c16e-9f34e32affd7",
        "scrolled": true
      },
      "outputs": [
        {
          "output_type": "stream",
          "name": "stdout",
          "text": [
            "Epoch 1/20\n",
            "362/362 [==============================] - 7s 7ms/step - loss: 0.0096 - val_loss: 4.1290e-05\n",
            "Epoch 2/20\n",
            "362/362 [==============================] - 2s 6ms/step - loss: 1.1683e-04 - val_loss: 1.7288e-05\n",
            "Epoch 3/20\n",
            "362/362 [==============================] - 2s 6ms/step - loss: 3.9601e-04 - val_loss: 1.5994e-04\n",
            "Epoch 4/20\n",
            "362/362 [==============================] - 2s 6ms/step - loss: 0.0044 - val_loss: 2.8878e-05\n"
          ]
        },
        {
          "output_type": "execute_result",
          "data": {
            "text/plain": [
              "<keras.callbacks.History at 0x7f889679aed0>"
            ]
          },
          "metadata": {},
          "execution_count": 94
        }
      ],
      "source": [
        "model.fit(x = generator,\n",
        "          validation_data = validation_generator,\n",
        "          epochs = 20,\n",
        "          callbacks = [early_stop])"
      ]
    },
    {
      "cell_type": "code",
      "execution_count": 95,
      "metadata": {
        "colab": {
          "base_uri": "https://localhost:8080/",
          "height": 284
        },
        "id": "8htq_U-Ca50M",
        "outputId": "4fbbaad3-eae5-49b2-ca78-53bd7aa87309"
      },
      "outputs": [
        {
          "output_type": "execute_result",
          "data": {
            "text/plain": [
              "<matplotlib.axes._subplots.AxesSubplot at 0x7f88a5feda90>"
            ]
          },
          "metadata": {},
          "execution_count": 95
        },
        {
          "output_type": "display_data",
          "data": {
            "text/plain": [
              "<Figure size 432x288 with 1 Axes>"
            ],
            "image/png": "[encoded data removed]"
          },
          "metadata": {
            "needs_background": "light"
          }
        }
      ],
      "source": [
        "loss_df = pd.DataFrame(model.history.history)\n",
        "loss_df.plot()"
      ]
    },
    {
      "cell_type": "markdown",
      "metadata": {
        "id": "40F3Jleua50M"
      },
      "source": [
        "# Evaluation on Test Data"
      ]
    },
    {
      "cell_type": "code",
      "execution_count": 96,
      "metadata": {
        "id": "_vrSFJm3a50M"
      },
      "outputs": [],
      "source": [
        "predictions_scaled = []\n",
        "\n",
        "first_eval_batch = train_scaled[-length:]\n",
        "current_batch = first_eval_batch.reshape((1, length, n_features))\n",
        "\n",
        "for i in range(len(test)):\n",
        "    \n",
        "    # get prediction 1 time stamp ahead \n",
        "    current_pred = model.predict(current_batch)\n",
        "    \n",
        "    # store prediction\n",
        "    predictions_scaled.append(current_pred[0]) \n",
        "    \n",
        "    # update batch to now include prediction and drop first value\n",
        "    current_batch = np.append(current_batch[:, 1:, :], [current_pred], axis = 1)"
      ]
    },
    {
      "cell_type": "markdown",
      "metadata": {
        "id": "ytRUv4Vwa50M"
      },
      "source": [
        "## Inverse Transformation and Comparing"
      ]
    },
    {
      "cell_type": "code",
      "execution_count": 97,
      "metadata": {
        "colab": {
          "base_uri": "https://localhost:8080/",
          "height": 424
        },
        "id": "BV-2HpZPa50N",
        "outputId": "24266738-d5f0-49ee-abd1-40d7e5c63832"
      },
      "outputs": [
        {
          "output_type": "execute_result",
          "data": {
            "text/plain": [
              "         Sine  RNN_Predictions  LSTM Predictions\n",
              "42.600 -0.982           -0.982            -0.972\n",
              "42.700 -0.959           -0.959            -0.946\n",
              "42.800 -0.925           -0.927            -0.911\n",
              "42.900 -0.883           -0.886            -0.867\n",
              "43.000 -0.832           -0.838            -0.814\n",
              "...       ...              ...               ...\n",
              "49.600 -0.617           -0.329            -0.528\n",
              "49.700 -0.536           -0.224            -0.444\n",
              "49.800 -0.449           -0.119            -0.356\n",
              "49.900 -0.357           -0.014            -0.264\n",
              "50.000 -0.262            0.088            -0.170\n",
              "\n",
              "[75 rows x 3 columns]"
            ],
            "text/html": [
              "\n",
              "  <div id=\"df-a6669d4f-34d5-4469-b1f7-5829f1f1e767\">\n",
              "    <div class=\"colab-df-container\">\n",
              "      <div>\n",
              "<style scoped>\n",
              "    .dataframe tbody tr th:only-of-type {\n",
              "        vertical-align: middle;\n",
              "    }\n",
              "\n",
              "    .dataframe tbody tr th {\n",
              "        vertical-align: top;\n",
              "    }\n",
              "\n",
              "    .dataframe thead th {\n",
              "        text-align: right;\n",
              "    }\n",
              "</style>\n",
              "<table border=\"1\" class=\"dataframe\">\n",
              "  <thead>\n",
              "    <tr style=\"text-align: right;\">\n",
              "      <th></th>\n",
              "      <th>Sine</th>\n",
              "      <th>RNN_Predictions</th>\n",
              "      <th>LSTM Predictions</th>\n",
              "    </tr>\n",
              "  </thead>\n",
              "  <tbody>\n",
              "    <tr>\n",
              "      <th>42.600</th>\n",
              "      <td>-0.982</td>\n",
              "      <td>-0.982</td>\n",
              "      <td>-0.972</td>\n",
              "    </tr>\n",
              "    <tr>\n",
              "      <th>42.700</th>\n",
              "      <td>-0.959</td>\n",
              "      <td>-0.959</td>\n",
              "      <td>-0.946</td>\n",
              "    </tr>\n",
              "    <tr>\n",
              "      <th>42.800</th>\n",
              "      <td>-0.925</td>\n",
              "      <td>-0.927</td>\n",
              "      <td>-0.911</td>\n",
              "    </tr>\n",
              "    <tr>\n",
              "      <th>42.900</th>\n",
              "      <td>-0.883</td>\n",
              "      <td>-0.886</td>\n",
              "      <td>-0.867</td>\n",
              "    </tr>\n",
              "    <tr>\n",
              "      <th>43.000</th>\n",
              "      <td>-0.832</td>\n",
              "      <td>-0.838</td>\n",
              "      <td>-0.814</td>\n",
              "    </tr>\n",
              "    <tr>\n",
              "      <th>...</th>\n",
              "      <td>...</td>\n",
              "      <td>...</td>\n",
              "      <td>...</td>\n",
              "    </tr>\n",
              "    <tr>\n",
              "      <th>49.600</th>\n",
              "      <td>-0.617</td>\n",
              "      <td>-0.329</td>\n",
              "      <td>-0.528</td>\n",
              "    </tr>\n",
              "    <tr>\n",
              "      <th>49.700</th>\n",
              "      <td>-0.536</td>\n",
              "      <td>-0.224</td>\n",
              "      <td>-0.444</td>\n",
              "    </tr>\n",
              "    <tr>\n",
              "      <th>49.800</th>\n",
              "      <td>-0.449</td>\n",
              "      <td>-0.119</td>\n",
              "      <td>-0.356</td>\n",
              "    </tr>\n",
              "    <tr>\n",
              "      <th>49.900</th>\n",
              "      <td>-0.357</td>\n",
              "      <td>-0.014</td>\n",
              "      <td>-0.264</td>\n",
              "    </tr>\n",
              "    <tr>\n",
              "      <th>50.000</th>\n",
              "      <td>-0.262</td>\n",
              "      <td>0.088</td>\n",
              "      <td>-0.170</td>\n",
              "    </tr>\n",
              "  </tbody>\n",
              "</table>\n",
              "<p>75 rows × 3 columns</p>\n",
              "</div>\n",
              "      <button class=\"colab-df-convert\" onclick=\"convertToInteractive('df-a6669d4f-34d5-4469-b1f7-5829f1f1e767')\"\n",
              "              title=\"Convert this dataframe to an interactive table.\"\n",
              "              style=\"display:none;\">\n",
              "        \n",
              "  <svg xmlns=\"http://www.w3.org/2000/svg\" height=\"24px\"viewBox=\"0 0 24 24\"\n",
              "       width=\"24px\">\n",
              "    <path d=\"M0 0h24v24H0V0z\" fill=\"none\"/>\n",
              "    <path d=\"M18.56 5.44l.94 2.06.94-2.06 2.06-.94-2.06-.94-.94-2.06-.94 2.06-2.06.94zm-11 1L8.5 8.5l.94-2.06 2.06-.94-2.06-.94L8.5 2.5l-.94 2.06-2.06.94zm10 10l.94 2.06.94-2.06 2.06-.94-2.06-.94-.94-2.06-.94 2.06-2.06.94z\"/><path d=\"M17.41 7.96l-1.37-1.37c-.4-.4-.92-.59-1.43-.59-.52 0-1.04.2-1.43.59L10.3 9.45l-7.72 7.72c-.78.78-.78 2.05 0 2.83L4 21.41c.39.39.9.59 1.41.59.51 0 1.02-.2 1.41-.59l7.78-7.78 2.81-2.81c.8-.78.8-2.07 0-2.86zM5.41 20L4 18.59l7.72-7.72 1.47 1.35L5.41 20z\"/>\n",
              "  </svg>\n",
              "      </button>\n",
              "      \n",
              "  <style>\n",
              "    .colab-df-container {\n",
              "      display:flex;\n",
              "      flex-wrap:wrap;\n",
              "      gap: 12px;\n",
              "    }\n",
              "\n",
              "    .colab-df-convert {\n",
              "      background-color: #E8F0FE;\n",
              "      border: none;\n",
              "      border-radius: 50%;\n",
              "      cursor: pointer;\n",
              "      display: none;\n",
              "      fill: #1967D2;\n",
              "      height: 32px;\n",
              "      padding: 0 0 0 0;\n",
              "      width: 32px;\n",
              "    }\n",
              "\n",
              "    .colab-df-convert:hover {\n",
              "      background-color: #E2EBFA;\n",
              "      box-shadow: 0px 1px 2px rgba(60, 64, 67, 0.3), 0px 1px 3px 1px rgba(60, 64, 67, 0.15);\n",
              "      fill: #174EA6;\n",
              "    }\n",
              "\n",
              "    [theme=dark] .colab-df-convert {\n",
              "      background-color: #3B4455;\n",
              "      fill: #D2E3FC;\n",
              "    }\n",
              "\n",
              "    [theme=dark] .colab-df-convert:hover {\n",
              "      background-color: #434B5C;\n",
              "      box-shadow: 0px 1px 3px 1px rgba(0, 0, 0, 0.15);\n",
              "      filter: drop-shadow(0px 1px 2px rgba(0, 0, 0, 0.3));\n",
              "      fill: #FFFFFF;\n",
              "    }\n",
              "  </style>\n",
              "\n",
              "      <script>\n",
              "        const buttonEl =\n",
              "          document.querySelector('#df-a6669d4f-34d5-4469-b1f7-5829f1f1e767 button.colab-df-convert');\n",
              "        buttonEl.style.display =\n",
              "          google.colab.kernel.accessAllowed ? 'block' : 'none';\n",
              "\n",
              "        async function convertToInteractive(key) {\n",
              "          const element = document.querySelector('#df-a6669d4f-34d5-4469-b1f7-5829f1f1e767');\n",
              "          const dataTable =\n",
              "            await google.colab.kernel.invokeFunction('convertToInteractive',\n",
              "                                                     [key], {});\n",
              "          if (!dataTable) return;\n",
              "\n",
              "          const docLinkHtml = 'Like what you see? Visit the ' +\n",
              "            '<a target=\"_blank\" href=https://colab.research.google.com/notebooks/data_table.ipynb>data table notebook</a>'\n",
              "            + ' to learn more about interactive tables.';\n",
              "          element.innerHTML = '';\n",
              "          dataTable['output_type'] = 'display_data';\n",
              "          await google.colab.output.renderOutput(dataTable, element);\n",
              "          const docLink = document.createElement('div');\n",
              "          docLink.innerHTML = docLinkHtml;\n",
              "          element.appendChild(docLink);\n",
              "        }\n",
              "      </script>\n",
              "    </div>\n",
              "  </div>\n",
              "  "
            ]
          },
          "metadata": {},
          "execution_count": 97
        }
      ],
      "source": [
        "predictions = scaler.inverse_transform(predictions_scaled)\n",
        "test['LSTM Predictions'] = predictions\n",
        "test"
      ]
    },
    {
      "cell_type": "code",
      "execution_count": 98,
      "metadata": {
        "colab": {
          "base_uri": "https://localhost:8080/",
          "height": 282
        },
        "id": "vIpSJbVSa50N",
        "outputId": "78e23eb0-49de-4fea-9b71-f8578a8845df"
      },
      "outputs": [
        {
          "output_type": "execute_result",
          "data": {
            "text/plain": [
              "<matplotlib.axes._subplots.AxesSubplot at 0x7f88a65ec8d0>"
            ]
          },
          "metadata": {},
          "execution_count": 98
        },
        {
          "output_type": "display_data",
          "data": {
            "text/plain": [
              "<Figure size 432x288 with 1 Axes>"
            ],
            "image/png": "[encoded data removed]"
          },
          "metadata": {
            "needs_background": "light"
          }
        }
      ],
      "source": [
        "test.plot()"
      ]
    },
    {
      "cell_type": "markdown",
      "metadata": {
        "id": "qR5o8r6xa50N"
      },
      "source": [
        "# Retrain and Forecasting"
      ]
    },
    {
      "cell_type": "code",
      "execution_count": 99,
      "metadata": {
        "id": "LIOKeBRha50N"
      },
      "outputs": [],
      "source": [
        "full_scaler = MinMaxScaler()\n",
        "scaled_full_data = full_scaler.fit_transform(df)"
      ]
    },
    {
      "cell_type": "code",
      "execution_count": 100,
      "metadata": {
        "id": "UgPLWdD6a50N"
      },
      "outputs": [],
      "source": [
        "length = 64 \n",
        "generator = TimeseriesGenerator(scaled_full_data, scaled_full_data, length = length, batch_size = 1)"
      ]
    },
    {
      "cell_type": "code",
      "execution_count": 101,
      "metadata": {
        "colab": {
          "base_uri": "https://localhost:8080/"
        },
        "id": "DwKTsQt6a50O",
        "outputId": "b0362826-5b0c-457c-88f9-3bf3c22d694e"
      },
      "outputs": [
        {
          "output_type": "stream",
          "name": "stdout",
          "text": [
            "Epoch 1/6\n",
            "437/437 [==============================] - 4s 6ms/step - loss: 0.0077\n",
            "Epoch 2/6\n",
            "437/437 [==============================] - 3s 6ms/step - loss: 1.1304e-04\n",
            "Epoch 3/6\n",
            "437/437 [==============================] - 3s 6ms/step - loss: 0.0011\n",
            "Epoch 4/6\n",
            "437/437 [==============================] - 3s 6ms/step - loss: 9.8877e-06\n",
            "Epoch 5/6\n",
            "437/437 [==============================] - 3s 6ms/step - loss: 1.3983e-05\n",
            "Epoch 6/6\n",
            "437/437 [==============================] - 3s 6ms/step - loss: 1.7939e-05\n"
          ]
        },
        {
          "output_type": "execute_result",
          "data": {
            "text/plain": [
              "<keras.callbacks.History at 0x7f88a6419450>"
            ]
          },
          "metadata": {},
          "execution_count": 101
        }
      ],
      "source": [
        "model = Sequential()\n",
        "model.add(LSTM(100, input_shape = (length, n_features)))\n",
        "model.add(Dense(1))\n",
        "model.compile(optimizer = 'adam', loss = 'mse')\n",
        "model.fit(x = generator, epochs = 6)"
      ]
    },
    {
      "cell_type": "code",
      "execution_count": 102,
      "metadata": {
        "id": "wNgUdBX2a50O"
      },
      "outputs": [],
      "source": [
        "forecast = []\n",
        "\n",
        "first_eval_batch = scaled_full_data[-length:]\n",
        "current_batch = first_eval_batch.reshape((1, length, n_features))\n",
        "\n",
        "for i in range(length):\n",
        "    \n",
        "    # get prediction 1 time stamp ahead \n",
        "    current_pred = model.predict(current_batch)\n",
        "    \n",
        "    # store prediction\n",
        "    forecast.append(current_pred[0]) \n",
        "    \n",
        "    # update batch to now include prediction and drop first value\n",
        "    current_batch = np.append(current_batch[:, 1:, :], [current_pred], axis = 1)"
      ]
    },
    {
      "cell_type": "code",
      "execution_count": 103,
      "metadata": {
        "id": "iYGUz4eHa50O"
      },
      "outputs": [],
      "source": [
        "forecast = scaler.inverse_transform(forecast)"
      ]
    },
    {
      "cell_type": "code",
      "execution_count": 104,
      "metadata": {
        "colab": {
          "base_uri": "https://localhost:8080/"
        },
        "id": "GxPJfnyRa50O",
        "outputId": "939882c1-83ef-4b6c-9a22-f66a6ba6ba4a",
        "scrolled": true
      },
      "outputs": [
        {
          "output_type": "execute_result",
          "data": {
            "text/plain": [
              "array([[-0.15917372],\n",
              "       [-0.05822012],\n",
              "       [ 0.04393278],\n",
              "       [ 0.1462599 ],\n",
              "       [ 0.24775078],\n",
              "       [ 0.34740811],\n",
              "       [ 0.44425725],\n",
              "       [ 0.53735741],\n",
              "       [ 0.62580963],\n",
              "       [ 0.7087685 ],\n",
              "       [ 0.78544962],\n",
              "       [ 0.85513714],\n",
              "       [ 0.91719271],\n",
              "       [ 0.97105914],\n",
              "       [ 1.01626473],\n",
              "       [ 1.05242824],\n",
              "       [ 1.07925679],\n",
              "       [ 1.09654772],\n",
              "       [ 1.10418659],\n",
              "       [ 1.10214312],\n",
              "       [ 1.09046762],\n",
              "       [ 1.06928931],\n",
              "       [ 1.03880941],\n",
              "       [ 0.99930138],\n",
              "       [ 0.95110414],\n",
              "       [ 0.89462311],\n",
              "       [ 0.83032726],\n",
              "       [ 0.75874814],\n",
              "       [ 0.68047917],\n",
              "       [ 0.59617325],\n",
              "       [ 0.50654325],\n",
              "       [ 0.41235937],\n",
              "       [ 0.31444653],\n",
              "       [ 0.21367925],\n",
              "       [ 0.1109771 ],\n",
              "       [ 0.00729601],\n",
              "       [-0.09638127],\n",
              "       [-0.19905481],\n",
              "       [-0.29972148],\n",
              "       [-0.39738636],\n",
              "       [-0.49107702],\n",
              "       [-0.57985528],\n",
              "       [-0.6628297 ],\n",
              "       [-0.73916708],\n",
              "       [-0.80810189],\n",
              "       [-0.86894441],\n",
              "       [-0.92108794],\n",
              "       [-0.9640139 ],\n",
              "       [-0.99729565],\n",
              "       [-1.02060132],\n",
              "       [-1.03369481],\n",
              "       [-1.03643668],\n",
              "       [-1.02878367],\n",
              "       [-1.01078805],\n",
              "       [-0.9825962 ],\n",
              "       [-0.94444746],\n",
              "       [-0.89667185],\n",
              "       [-0.8396883 ],\n",
              "       [-0.7740022 ],\n",
              "       [-0.70020244],\n",
              "       [-0.6189582 ],\n",
              "       [-0.53101434],\n",
              "       [-0.43718627],\n",
              "       [-0.33835398]])"
            ]
          },
          "metadata": {},
          "execution_count": 104
        }
      ],
      "source": [
        "forecast"
      ]
    },
    {
      "cell_type": "code",
      "execution_count": 105,
      "metadata": {
        "colab": {
          "base_uri": "https://localhost:8080/",
          "height": 424
        },
        "id": "DhRTIXPfa50O",
        "outputId": "f95c9177-a506-498a-b754-62dd37466c39"
      },
      "outputs": [
        {
          "output_type": "execute_result",
          "data": {
            "text/plain": [
              "         Sine\n",
              "0.000   0.000\n",
              "0.100   0.100\n",
              "0.200   0.199\n",
              "0.300   0.296\n",
              "0.400   0.389\n",
              "...       ...\n",
              "49.600 -0.617\n",
              "49.700 -0.536\n",
              "49.800 -0.449\n",
              "49.900 -0.357\n",
              "50.000 -0.262\n",
              "\n",
              "[501 rows x 1 columns]"
            ],
            "text/html": [
              "\n",
              "  <div id=\"df-b4221e2c-ad1e-44f9-aee5-0d6c53f1b70b\">\n",
              "    <div class=\"colab-df-container\">\n",
              "      <div>\n",
              "<style scoped>\n",
              "    .dataframe tbody tr th:only-of-type {\n",
              "        vertical-align: middle;\n",
              "    }\n",
              "\n",
              "    .dataframe tbody tr th {\n",
              "        vertical-align: top;\n",
              "    }\n",
              "\n",
              "    .dataframe thead th {\n",
              "        text-align: right;\n",
              "    }\n",
              "</style>\n",
              "<table border=\"1\" class=\"dataframe\">\n",
              "  <thead>\n",
              "    <tr style=\"text-align: right;\">\n",
              "      <th></th>\n",
              "      <th>Sine</th>\n",
              "    </tr>\n",
              "  </thead>\n",
              "  <tbody>\n",
              "    <tr>\n",
              "      <th>0.000</th>\n",
              "      <td>0.000</td>\n",
              "    </tr>\n",
              "    <tr>\n",
              "      <th>0.100</th>\n",
              "      <td>0.100</td>\n",
              "    </tr>\n",
              "    <tr>\n",
              "      <th>0.200</th>\n",
              "      <td>0.199</td>\n",
              "    </tr>\n",
              "    <tr>\n",
              "      <th>0.300</th>\n",
              "      <td>0.296</td>\n",
              "    </tr>\n",
              "    <tr>\n",
              "      <th>0.400</th>\n",
              "      <td>0.389</td>\n",
              "    </tr>\n",
              "    <tr>\n",
              "      <th>...</th>\n",
              "      <td>...</td>\n",
              "    </tr>\n",
              "    <tr>\n",
              "      <th>49.600</th>\n",
              "      <td>-0.617</td>\n",
              "    </tr>\n",
              "    <tr>\n",
              "      <th>49.700</th>\n",
              "      <td>-0.536</td>\n",
              "    </tr>\n",
              "    <tr>\n",
              "      <th>49.800</th>\n",
              "      <td>-0.449</td>\n",
              "    </tr>\n",
              "    <tr>\n",
              "      <th>49.900</th>\n",
              "      <td>-0.357</td>\n",
              "    </tr>\n",
              "    <tr>\n",
              "      <th>50.000</th>\n",
              "      <td>-0.262</td>\n",
              "    </tr>\n",
              "  </tbody>\n",
              "</table>\n",
              "<p>501 rows × 1 columns</p>\n",
              "</div>\n",
              "      <button class=\"colab-df-convert\" onclick=\"convertToInteractive('df-b4221e2c-ad1e-44f9-aee5-0d6c53f1b70b')\"\n",
              "              title=\"Convert this dataframe to an interactive table.\"\n",
              "              style=\"display:none;\">\n",
              "        \n",
              "  <svg xmlns=\"http://www.w3.org/2000/svg\" height=\"24px\"viewBox=\"0 0 24 24\"\n",
              "       width=\"24px\">\n",
              "    <path d=\"M0 0h24v24H0V0z\" fill=\"none\"/>\n",
              "    <path d=\"M18.56 5.44l.94 2.06.94-2.06 2.06-.94-2.06-.94-.94-2.06-.94 2.06-2.06.94zm-11 1L8.5 8.5l.94-2.06 2.06-.94-2.06-.94L8.5 2.5l-.94 2.06-2.06.94zm10 10l.94 2.06.94-2.06 2.06-.94-2.06-.94-.94-2.06-.94 2.06-2.06.94z\"/><path d=\"M17.41 7.96l-1.37-1.37c-.4-.4-.92-.59-1.43-.59-.52 0-1.04.2-1.43.59L10.3 9.45l-7.72 7.72c-.78.78-.78 2.05 0 2.83L4 21.41c.39.39.9.59 1.41.59.51 0 1.02-.2 1.41-.59l7.78-7.78 2.81-2.81c.8-.78.8-2.07 0-2.86zM5.41 20L4 18.59l7.72-7.72 1.47 1.35L5.41 20z\"/>\n",
              "  </svg>\n",
              "      </button>\n",
              "      \n",
              "  <style>\n",
              "    .colab-df-container {\n",
              "      display:flex;\n",
              "      flex-wrap:wrap;\n",
              "      gap: 12px;\n",
              "    }\n",
              "\n",
              "    .colab-df-convert {\n",
              "      background-color: #E8F0FE;\n",
              "      border: none;\n",
              "      border-radius: 50%;\n",
              "      cursor: pointer;\n",
              "      display: none;\n",
              "      fill: #1967D2;\n",
              "      height: 32px;\n",
              "      padding: 0 0 0 0;\n",
              "      width: 32px;\n",
              "    }\n",
              "\n",
              "    .colab-df-convert:hover {\n",
              "      background-color: #E2EBFA;\n",
              "      box-shadow: 0px 1px 2px rgba(60, 64, 67, 0.3), 0px 1px 3px 1px rgba(60, 64, 67, 0.15);\n",
              "      fill: #174EA6;\n",
              "    }\n",
              "\n",
              "    [theme=dark] .colab-df-convert {\n",
              "      background-color: #3B4455;\n",
              "      fill: #D2E3FC;\n",
              "    }\n",
              "\n",
              "    [theme=dark] .colab-df-convert:hover {\n",
              "      background-color: #434B5C;\n",
              "      box-shadow: 0px 1px 3px 1px rgba(0, 0, 0, 0.15);\n",
              "      filter: drop-shadow(0px 1px 2px rgba(0, 0, 0, 0.3));\n",
              "      fill: #FFFFFF;\n",
              "    }\n",
              "  </style>\n",
              "\n",
              "      <script>\n",
              "        const buttonEl =\n",
              "          document.querySelector('#df-b4221e2c-ad1e-44f9-aee5-0d6c53f1b70b button.colab-df-convert');\n",
              "        buttonEl.style.display =\n",
              "          google.colab.kernel.accessAllowed ? 'block' : 'none';\n",
              "\n",
              "        async function convertToInteractive(key) {\n",
              "          const element = document.querySelector('#df-b4221e2c-ad1e-44f9-aee5-0d6c53f1b70b');\n",
              "          const dataTable =\n",
              "            await google.colab.kernel.invokeFunction('convertToInteractive',\n",
              "                                                     [key], {});\n",
              "          if (!dataTable) return;\n",
              "\n",
              "          const docLinkHtml = 'Like what you see? Visit the ' +\n",
              "            '<a target=\"_blank\" href=https://colab.research.google.com/notebooks/data_table.ipynb>data table notebook</a>'\n",
              "            + ' to learn more about interactive tables.';\n",
              "          element.innerHTML = '';\n",
              "          dataTable['output_type'] = 'display_data';\n",
              "          await google.colab.output.renderOutput(dataTable, element);\n",
              "          const docLink = document.createElement('div');\n",
              "          docLink.innerHTML = docLinkHtml;\n",
              "          element.appendChild(docLink);\n",
              "        }\n",
              "      </script>\n",
              "    </div>\n",
              "  </div>\n",
              "  "
            ]
          },
          "metadata": {},
          "execution_count": 105
        }
      ],
      "source": [
        "df"
      ]
    },
    {
      "cell_type": "code",
      "execution_count": 106,
      "metadata": {
        "colab": {
          "base_uri": "https://localhost:8080/",
          "height": 282
        },
        "id": "JPYdBFOLa50O",
        "outputId": "45988dec-79a6-4a1e-e4c7-647159e2acd6"
      },
      "outputs": [
        {
          "output_type": "execute_result",
          "data": {
            "text/plain": [
              "<matplotlib.axes._subplots.AxesSubplot at 0x7f88a64c4390>"
            ]
          },
          "metadata": {},
          "execution_count": 106
        },
        {
          "output_type": "display_data",
          "data": {
            "text/plain": [
              "<Figure size 432x288 with 1 Axes>"
            ],
            "image/png": "[encoded data removed]"
          },
          "metadata": {
            "needs_background": "light"
          }
        }
      ],
      "source": [
        "df.plot()"
      ]
    },
    {
      "cell_type": "code",
      "execution_count": 107,
      "metadata": {
        "colab": {
          "base_uri": "https://localhost:8080/"
        },
        "id": "B52G8Ja_a50O",
        "outputId": "b5d486e9-bd8c-4ede-d785-3204a38c60d2"
      },
      "outputs": [
        {
          "output_type": "execute_result",
          "data": {
            "text/plain": [
              "64"
            ]
          },
          "metadata": {},
          "execution_count": 107
        }
      ],
      "source": [
        "forecast_len = len(forecast)\n",
        "forecast_len"
      ]
    },
    {
      "cell_type": "code",
      "execution_count": 108,
      "metadata": {
        "id": "USOCnvB6a50P"
      },
      "outputs": [],
      "source": [
        "step = 0.1"
      ]
    },
    {
      "cell_type": "code",
      "execution_count": 109,
      "metadata": {
        "colab": {
          "base_uri": "https://localhost:8080/"
        },
        "id": "eaoVKEBpa50P",
        "outputId": "05311df1-e1fe-463c-8599-3f6da761a3b8"
      },
      "outputs": [
        {
          "output_type": "execute_result",
          "data": {
            "text/plain": [
              "6.4"
            ]
          },
          "metadata": {},
          "execution_count": 109
        }
      ],
      "source": [
        "forecast_len * step"
      ]
    },
    {
      "cell_type": "code",
      "execution_count": 110,
      "metadata": {
        "id": "KmDG9NRua50P"
      },
      "outputs": [],
      "source": [
        "forecast_index = np.arange(50.1, 56.5, step = step)"
      ]
    },
    {
      "cell_type": "code",
      "execution_count": 111,
      "metadata": {
        "colab": {
          "base_uri": "https://localhost:8080/"
        },
        "id": "_NXLYnjKa50P",
        "outputId": "55cc89e2-a6f6-4c3f-a651-1e28642adb7c"
      },
      "outputs": [
        {
          "output_type": "execute_result",
          "data": {
            "text/plain": [
              "64"
            ]
          },
          "metadata": {},
          "execution_count": 111
        }
      ],
      "source": [
        "len(forecast_index)"
      ]
    },
    {
      "cell_type": "code",
      "execution_count": 112,
      "metadata": {
        "colab": {
          "base_uri": "https://localhost:8080/",
          "height": 265
        },
        "id": "ySOprzroa50P",
        "outputId": "dce98061-3f5a-45e4-ed65-33f0cc9e1086"
      },
      "outputs": [
        {
          "output_type": "display_data",
          "data": {
            "text/plain": [
              "<Figure size 432x288 with 1 Axes>"
            ],
            "image/png": "[encoded data removed]"
          },
          "metadata": {
            "needs_background": "light"
          }
        }
      ],
      "source": [
        "plt.plot(df.index, df['Sine'])\n",
        "plt.plot(forecast_index, forecast);"
      ]
    },
    {
      "cell_type": "code",
      "source": [
        "b=np.concatenate((df.Sine.to_numpy(),forecast.reshape(1,-1)[0]))\n",
        "plt.plot(b)"
      ],
      "metadata": {
        "colab": {
          "base_uri": "https://localhost:8080/",
          "height": 282
        },
        "id": "yOdKjH-Q0VdH",
        "outputId": "bfe5dec4-75ed-467a-c75c-f85cc01e9e2c"
      },
      "execution_count": 113,
      "outputs": [
        {
          "output_type": "execute_result",
          "data": {
            "text/plain": [
              "[<matplotlib.lines.Line2D at 0x7f88a7e29d50>]"
            ]
          },
          "metadata": {},
          "execution_count": 113
        },
        {
          "output_type": "display_data",
          "data": {
            "text/plain": [
              "<Figure size 432x288 with 1 Axes>"
            ],
            "image/png": "[encoded data removed]"
          },
          "metadata": {
            "needs_background": "light"
          }
        }
      ]
    },
    {
      "cell_type": "markdown",
      "metadata": {
        "id": "V5U_tKWna50P"
      },
      "source": [
        "___\n",
        "\n",
        "<p style=\"text-align: center;\"><img src=\"https://docs.google.com/uc?id=1lY0Uj5R04yMY3-ZppPWxqCr5pvBLYPnV\" class=\"img-fluid\" alt=\"CLRSWY\"></p>\n",
        "\n",
        "___"
      ]
    }
  ],
  "metadata": {
    "colab": {
      "name": "DL-S9 (RNN Syntax Basics-Sine Wave).ipynb",
      "provenance": [],
      "collapsed_sections": [],
      "include_colab_link": true
    },
    "interpreter": {
      "hash": "aee8b7b246df8f9039afb4144a1f6fd8d2ca17a180786b69acc140d282b71a49"
    },
    "kernelspec": {
      "display_name": "Python 3.9.6 64-bit",
      "language": "python",
      "name": "python3"
    },
    "language_info": {
      "codemirror_mode": {
        "name": "ipython",
        "version": 3
      },
      "file_extension": ".py",
      "mimetype": "text/x-python",
      "name": "python",
      "nbconvert_exporter": "python",
      "pygments_lexer": "ipython3",
      "version": "3.9.6"
    },
    "accelerator": "GPU",
    "gpuClass": "standard"
  },
  "nbformat": 4,
  "nbformat_minor": 0
}